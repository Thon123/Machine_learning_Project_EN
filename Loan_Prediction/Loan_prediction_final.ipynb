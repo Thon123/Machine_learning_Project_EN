{
 "cells": [
  {
   "cell_type": "markdown",
   "metadata": {},
   "source": [
    "# Loan prediction"
   ]
  },
  {
   "cell_type": "markdown",
   "metadata": {},
   "source": [
    "<div class=\"alert alert-block alert-info\"><b>Note1:</b> I appologize for grammar mistakes and typos in advance, not a natural english speaker. I am writing my notes in english becasue I want to improve my writing skills and to make it available to a wider audience.</div>"
   ]
  },
  {
   "cell_type": "markdown",
   "metadata": {},
   "source": [
    "<div class=\"alert alert-block alert-info\"><b>Note 2:</b> I am posting it online to GitHub for everyone else to see, so feel free to write me if you want, every feedback is precious!</div>"
   ]
  },
  {
   "cell_type": "markdown",
   "metadata": {},
   "source": [
    "## Introduction "
   ]
  },
  {
   "cell_type": "markdown",
   "metadata": {},
   "source": [
    "___"
   ]
  },
  {
   "cell_type": "markdown",
   "metadata": {},
   "source": [
    "Data set contains information about customers, who are applying for a loan and contains 615 rows & 13 columns."
   ]
  },
  {
   "cell_type": "markdown",
   "metadata": {},
   "source": [
    "**Goal:**"
   ]
  },
  {
   "cell_type": "markdown",
   "metadata": {},
   "source": [
    "1. Predict whether customer should get a loan or not."
   ]
  },
  {
   "cell_type": "markdown",
   "metadata": {},
   "source": [
    "**Agenda:**"
   ]
  },
  {
   "cell_type": "markdown",
   "metadata": {},
   "source": [
    "- [x] get the data and explore them to get an insight\n",
    "- [x] clean and prepare your data\n",
    "- [x] explore many different ml methods and chose the best one (or group of them) \n",
    "- [x] fine-tune your model/s \n",
    "- [ ] ~~present your solution~~\n",
    "- [ ] ~~launch, monitor, and maintain your system~~"
   ]
  },
  {
   "cell_type": "markdown",
   "metadata": {},
   "source": [
    "Final sequence of tasks could be slightly different. Let's dive into ML!"
   ]
  },
  {
   "cell_type": "markdown",
   "metadata": {},
   "source": [
    "<p style=\"background:white\">\n",
    "<code style=\"background:white;color:white\">\n",
    "</code>\n",
    "</p>"
   ]
  },
  {
   "cell_type": "markdown",
   "metadata": {},
   "source": [
    "## Data Exploration and visualization"
   ]
  },
  {
   "cell_type": "markdown",
   "metadata": {},
   "source": [
    "___"
   ]
  },
  {
   "cell_type": "markdown",
   "metadata": {},
   "source": [
    "Basic imports, others will be imported as needed."
   ]
  },
  {
   "cell_type": "code",
   "execution_count": 2,
   "metadata": {},
   "outputs": [],
   "source": [
    "import numpy as np\n",
    "import pandas as pd\n",
    "import matplotlib.pyplot as plt \n",
    "import seaborn as sns\n",
    "%matplotlib inline"
   ]
  },
  {
   "cell_type": "markdown",
   "metadata": {},
   "source": [
    "### Loading data and first look"
   ]
  },
  {
   "cell_type": "markdown",
   "metadata": {},
   "source": [
    "Test is provided withou labels, so I will use train for test and train."
   ]
  },
  {
   "cell_type": "code",
   "execution_count": 124,
   "metadata": {},
   "outputs": [
    {
     "data": {
      "text/html": [
       "<div>\n",
       "<style scoped>\n",
       "    .dataframe tbody tr th:only-of-type {\n",
       "        vertical-align: middle;\n",
       "    }\n",
       "\n",
       "    .dataframe tbody tr th {\n",
       "        vertical-align: top;\n",
       "    }\n",
       "\n",
       "    .dataframe thead th {\n",
       "        text-align: right;\n",
       "    }\n",
       "</style>\n",
       "<table border=\"1\" class=\"dataframe\">\n",
       "  <thead>\n",
       "    <tr style=\"text-align: right;\">\n",
       "      <th></th>\n",
       "      <th>Loan_ID</th>\n",
       "      <th>Gender</th>\n",
       "      <th>Married</th>\n",
       "      <th>Dependents</th>\n",
       "      <th>Education</th>\n",
       "      <th>Self_Employed</th>\n",
       "      <th>ApplicantIncome</th>\n",
       "      <th>CoapplicantIncome</th>\n",
       "      <th>LoanAmount</th>\n",
       "      <th>Loan_Amount_Term</th>\n",
       "      <th>Credit_History</th>\n",
       "      <th>Property_Area</th>\n",
       "      <th>Loan_Status</th>\n",
       "    </tr>\n",
       "  </thead>\n",
       "  <tbody>\n",
       "    <tr>\n",
       "      <th>0</th>\n",
       "      <td>LP001002</td>\n",
       "      <td>Male</td>\n",
       "      <td>No</td>\n",
       "      <td>0</td>\n",
       "      <td>Graduate</td>\n",
       "      <td>No</td>\n",
       "      <td>5849</td>\n",
       "      <td>0.0</td>\n",
       "      <td>NaN</td>\n",
       "      <td>360.0</td>\n",
       "      <td>1.0</td>\n",
       "      <td>Urban</td>\n",
       "      <td>Y</td>\n",
       "    </tr>\n",
       "    <tr>\n",
       "      <th>1</th>\n",
       "      <td>LP001003</td>\n",
       "      <td>Male</td>\n",
       "      <td>Yes</td>\n",
       "      <td>1</td>\n",
       "      <td>Graduate</td>\n",
       "      <td>No</td>\n",
       "      <td>4583</td>\n",
       "      <td>1508.0</td>\n",
       "      <td>128.0</td>\n",
       "      <td>360.0</td>\n",
       "      <td>1.0</td>\n",
       "      <td>Rural</td>\n",
       "      <td>N</td>\n",
       "    </tr>\n",
       "    <tr>\n",
       "      <th>2</th>\n",
       "      <td>LP001005</td>\n",
       "      <td>Male</td>\n",
       "      <td>Yes</td>\n",
       "      <td>0</td>\n",
       "      <td>Graduate</td>\n",
       "      <td>Yes</td>\n",
       "      <td>3000</td>\n",
       "      <td>0.0</td>\n",
       "      <td>66.0</td>\n",
       "      <td>360.0</td>\n",
       "      <td>1.0</td>\n",
       "      <td>Urban</td>\n",
       "      <td>Y</td>\n",
       "    </tr>\n",
       "    <tr>\n",
       "      <th>3</th>\n",
       "      <td>LP001006</td>\n",
       "      <td>Male</td>\n",
       "      <td>Yes</td>\n",
       "      <td>0</td>\n",
       "      <td>Not Graduate</td>\n",
       "      <td>No</td>\n",
       "      <td>2583</td>\n",
       "      <td>2358.0</td>\n",
       "      <td>120.0</td>\n",
       "      <td>360.0</td>\n",
       "      <td>1.0</td>\n",
       "      <td>Urban</td>\n",
       "      <td>Y</td>\n",
       "    </tr>\n",
       "    <tr>\n",
       "      <th>4</th>\n",
       "      <td>LP001008</td>\n",
       "      <td>Male</td>\n",
       "      <td>No</td>\n",
       "      <td>0</td>\n",
       "      <td>Graduate</td>\n",
       "      <td>No</td>\n",
       "      <td>6000</td>\n",
       "      <td>0.0</td>\n",
       "      <td>141.0</td>\n",
       "      <td>360.0</td>\n",
       "      <td>1.0</td>\n",
       "      <td>Urban</td>\n",
       "      <td>Y</td>\n",
       "    </tr>\n",
       "  </tbody>\n",
       "</table>\n",
       "</div>"
      ],
      "text/plain": [
       "    Loan_ID Gender Married Dependents     Education Self_Employed  \\\n",
       "0  LP001002   Male      No          0      Graduate            No   \n",
       "1  LP001003   Male     Yes          1      Graduate            No   \n",
       "2  LP001005   Male     Yes          0      Graduate           Yes   \n",
       "3  LP001006   Male     Yes          0  Not Graduate            No   \n",
       "4  LP001008   Male      No          0      Graduate            No   \n",
       "\n",
       "   ApplicantIncome  CoapplicantIncome  LoanAmount  Loan_Amount_Term  \\\n",
       "0             5849                0.0         NaN             360.0   \n",
       "1             4583             1508.0       128.0             360.0   \n",
       "2             3000                0.0        66.0             360.0   \n",
       "3             2583             2358.0       120.0             360.0   \n",
       "4             6000                0.0       141.0             360.0   \n",
       "\n",
       "   Credit_History Property_Area Loan_Status  \n",
       "0             1.0         Urban           Y  \n",
       "1             1.0         Rural           N  \n",
       "2             1.0         Urban           Y  \n",
       "3             1.0         Urban           Y  \n",
       "4             1.0         Urban           Y  "
      ]
     },
     "execution_count": 124,
     "metadata": {},
     "output_type": "execute_result"
    }
   ],
   "source": [
    "loan_train_exploration = pd.read_csv(\"train.csv\")\n",
    "loan_train_exploration.head()"
   ]
  },
  {
   "cell_type": "code",
   "execution_count": 4,
   "metadata": {
    "scrolled": true
   },
   "outputs": [
    {
     "name": "stdout",
     "output_type": "stream",
     "text": [
      "<class 'pandas.core.frame.DataFrame'>\n",
      "RangeIndex: 614 entries, 0 to 613\n",
      "Data columns (total 13 columns):\n",
      " #   Column             Non-Null Count  Dtype  \n",
      "---  ------             --------------  -----  \n",
      " 0   Loan_ID            614 non-null    object \n",
      " 1   Gender             601 non-null    object \n",
      " 2   Married            611 non-null    object \n",
      " 3   Dependents         599 non-null    object \n",
      " 4   Education          614 non-null    object \n",
      " 5   Self_Employed      582 non-null    object \n",
      " 6   ApplicantIncome    614 non-null    int64  \n",
      " 7   CoapplicantIncome  614 non-null    float64\n",
      " 8   LoanAmount         592 non-null    float64\n",
      " 9   Loan_Amount_Term   600 non-null    float64\n",
      " 10  Credit_History     564 non-null    float64\n",
      " 11  Property_Area      614 non-null    object \n",
      " 12  Loan_Status        614 non-null    object \n",
      "dtypes: float64(4), int64(1), object(8)\n",
      "memory usage: 62.5+ KB\n"
     ]
    }
   ],
   "source": [
    "loan_train_exploration.info()"
   ]
  },
  {
   "cell_type": "markdown",
   "metadata": {},
   "source": [
    "<div class=\"alert alert-block alert-success\"><b>First observations:</b></div>"
   ]
  },
  {
   "cell_type": "markdown",
   "metadata": {},
   "source": [
    "- Loan_ID is useless -> I will drop this column.\n",
    "- Gender Nan values -> I will just replace values based on proportions.\n",
    "- Married Nan will be replaced wheter customer has dependetns or not.\n",
    "- Dependents - for nan values I would probably use median or 0.\n",
    "- Self_employed, we will need to replace Nan and maybe try to differentiate ML algorithm for employed and self_employed (in most cases banks have different evaluation process.\n",
    "- LoanAmount - I will drop rows where we don't have any information about LoanAmount, make no sense decide wheter to give a loan or not if we don't know the ammount of that loan.\n",
    "- Loan amount term - I think it will be sufficient to fill Nan with average values.\n",
    "- Credit_history is very important feature, I will have to try more Nan filling variants (some basic method, assumpiton that if criedt_history = Nan = 0 , and ML model -> if it achives good results."
   ]
  },
  {
   "cell_type": "markdown",
   "metadata": {},
   "source": [
    "I will also want to try add some new columns, or delete some unimportant ones. Let's explore some of them moore deeply."
   ]
  },
  {
   "cell_type": "markdown",
   "metadata": {},
   "source": [
    "### Columns step by step"
   ]
  },
  {
   "cell_type": "markdown",
   "metadata": {},
   "source": [
    "I need to gen an better insight about my data. This first exploration part is the only one I will be doing seperately. Data preparation - pipelines, training and tunning has to be done in parallel, that way I can eliminate some bugs. I consider this part to be most important, cause here I am creating a list of recommendation of how to change my data, what is important and so on, hence it has the biggest impact on model performance."
   ]
  },
  {
   "cell_type": "markdown",
   "metadata": {},
   "source": [
    "<div class=\"alert alert-block alert-warning\"><b>Gender column</b></div>"
   ]
  },
  {
   "cell_type": "markdown",
   "metadata": {},
   "source": [
    "First question we need to answer is wheter being male or female has some major effect on final evaluation."
   ]
  },
  {
   "cell_type": "code",
   "execution_count": 278,
   "metadata": {},
   "outputs": [
    {
     "data": {
      "text/plain": [
       "<matplotlib.axes._subplots.AxesSubplot at 0x1b768d96ac8>"
      ]
     },
     "execution_count": 278,
     "metadata": {},
     "output_type": "execute_result"
    },
    {
     "data": {
      "image/png": "[encoded data removed]",
      "text/plain": [
       "<Figure size 432x288 with 1 Axes>"
      ]
     },
     "metadata": {
      "needs_background": "light"
     },
     "output_type": "display_data"
    }
   ],
   "source": [
    "sns.countplot(x=\"Gender\",data=loan_train_exploration, hue=\"Loan_Status\")"
   ]
  },
  {
   "cell_type": "code",
   "execution_count": 93,
   "metadata": {
    "scrolled": true
   },
   "outputs": [],
   "source": [
    "gender_column = loan_train_exploration[[\"Gender\",\"Loan_Status\"]].groupby([\"Loan_Status\",\"Gender\"]).size()\n",
    "gender_column.Y[1]/(gender_column.N[1]+gender_column.Y[1]), gender_column.Y[0]/(gender_column.Y[0]+gender_column.N[0]);\n",
    "#i am just counting values and dividing them - to answer simple question - what is acceptance rate for male and female?"
   ]
  },
  {
   "cell_type": "markdown",
   "metadata": {},
   "source": [
    "<code style=\"background:yellow;color:black\">Acceptace rate for male and female is 69% and 67%</code>"
   ]
  },
  {
   "cell_type": "markdown",
   "metadata": {},
   "source": [
    "From countplot and our simple calculation I can assume that Gender does not have a big impact on our Loan Status(label), it would be enough just to fill Nan values based on proportion. Also it is clearly a nominal variable."
   ]
  },
  {
   "cell_type": "markdown",
   "metadata": {},
   "source": [
    "*Gender column suggestions*\n",
    "- Nan based on proportion.\n",
    "- Nominal variable - OneHotEncoding."
   ]
  },
  {
   "cell_type": "markdown",
   "metadata": {},
   "source": [
    "<div class=\"alert alert-block alert-warning\"><b>Married column</b></div>"
   ]
  },
  {
   "cell_type": "markdown",
   "metadata": {},
   "source": [
    "For this and other columns I will use same approach, if there won't be visible a big difference at first glance, I won't waste time on it."
   ]
  },
  {
   "cell_type": "code",
   "execution_count": 88,
   "metadata": {},
   "outputs": [
    {
     "data": {
      "text/plain": [
       "<matplotlib.axes._subplots.AxesSubplot at 0x1b75d4f7a88>"
      ]
     },
     "execution_count": 88,
     "metadata": {},
     "output_type": "execute_result"
    },
    {
     "data": {
      "image/png": "[encoded data removed]",
      "text/plain": [
       "<Figure size 432x288 with 1 Axes>"
      ]
     },
     "metadata": {
      "needs_background": "light"
     },
     "output_type": "display_data"
    }
   ],
   "source": [
    "sns.countplot(x=\"Married\",data=loan_train_exploration, hue=\"Loan_Status\")"
   ]
  },
  {
   "cell_type": "code",
   "execution_count": 95,
   "metadata": {
    "scrolled": true
   },
   "outputs": [],
   "source": [
    "married_column = loan_train_exploration[[\"Married\",\"Loan_Status\"]].groupby([\"Loan_Status\",\"Married\"]).size()\n",
    "married_column.Y[1]/(married_column.N[1]+married_column.Y[1]), married_column.Y[0]/(married_column.Y[0]+married_column.N[0]);"
   ]
  },
  {
   "cell_type": "markdown",
   "metadata": {},
   "source": [
    "<code style=\"background:yellow;color:black\">Acceptace rate for married and not married is 72% and 63%</code>"
   ]
  },
  {
   "cell_type": "markdown",
   "metadata": {},
   "source": [
    "Here is a slight difference so it would be better to predict wheter customer is married or not. Column has 3 Nan values so it's not so important but still, better do it right."
   ]
  },
  {
   "cell_type": "code",
   "execution_count": 97,
   "metadata": {},
   "outputs": [
    {
     "data": {
      "text/plain": [
       "<matplotlib.axes._subplots.AxesSubplot at 0x1b759d67748>"
      ]
     },
     "execution_count": 97,
     "metadata": {},
     "output_type": "execute_result"
    },
    {
     "data": {
      "image/png": "[encoded data removed]",
      "text/plain": [
       "<Figure size 432x288 with 1 Axes>"
      ]
     },
     "metadata": {
      "needs_background": "light"
     },
     "output_type": "display_data"
    }
   ],
   "source": [
    "sns.countplot(x=\"Married\",data=loan_train_exploration, hue=\"Dependents\")"
   ]
  },
  {
   "cell_type": "code",
   "execution_count": 317,
   "metadata": {
    "scrolled": false
   },
   "outputs": [],
   "source": [
    "import warnings #very useful :)\n",
    "warnings.filterwarnings('ignore')\n",
    "\n",
    "loan_train_exploration[\"Has2Income\"] = \"Dont know yet\"\n",
    "loan_train_exploration[\"Has2Income\"][(loan_train_exploration[\"CoapplicantIncome\"]>0)] = \"Y\"\n",
    "loan_train_exploration[\"Has2Income\"][(loan_train_exploration[\"CoapplicantIncome\"] == 0)]= \"N\";"
   ]
  },
  {
   "cell_type": "code",
   "execution_count": 138,
   "metadata": {
    "scrolled": true
   },
   "outputs": [
    {
     "data": {
      "text/plain": [
       "<matplotlib.axes._subplots.AxesSubplot at 0x1b75a35b808>"
      ]
     },
     "execution_count": 138,
     "metadata": {},
     "output_type": "execute_result"
    },
    {
     "data": {
      "image/png": "[encoded data removed]",
      "text/plain": [
       "<Figure size 432x288 with 1 Axes>"
      ]
     },
     "metadata": {
      "needs_background": "light"
     },
     "output_type": "display_data"
    }
   ],
   "source": [
    "sns.countplot(x=\"Married\",data=loan_train_exploration, hue=\"Has2Income\")"
   ]
  },
  {
   "cell_type": "markdown",
   "metadata": {},
   "source": [
    "From plots it's obvious that there is no clear link to Married status and CoapplicantIncome. But there is a link between Dependetns and Married status. Condition will be simple, if customer does not have any dependents his/her status will be evaluated once as married and once as not and if customer has dependetns I will evaluate as married. It is maybe a slight overkill, but data could contain much more Nan in Married column."
   ]
  },
  {
   "cell_type": "markdown",
   "metadata": {},
   "source": [
    "*Married column suggestions*\n",
    "- Nan will be filled based on dependets (D =  0 => 50/50, D > 0 => Married).\n",
    "- Nominal variable - OneHotEncoding."
   ]
  },
  {
   "cell_type": "markdown",
   "metadata": {},
   "source": [
    "<div class=\"alert alert-block alert-warning\"><b>Education column</b></div>"
   ]
  },
  {
   "cell_type": "code",
   "execution_count": 143,
   "metadata": {},
   "outputs": [
    {
     "data": {
      "text/plain": [
       "<matplotlib.axes._subplots.AxesSubplot at 0x1b75aabfc88>"
      ]
     },
     "execution_count": 143,
     "metadata": {},
     "output_type": "execute_result"
    },
    {
     "data": {
      "image/png": "[encoded data removed]",
      "text/plain": [
       "<Figure size 432x288 with 1 Axes>"
      ]
     },
     "metadata": {
      "needs_background": "light"
     },
     "output_type": "display_data"
    }
   ],
   "source": [
    "sns.countplot(x=\"Education\",data=loan_train_exploration, hue=\"Loan_Status\")"
   ]
  },
  {
   "cell_type": "code",
   "execution_count": 148,
   "metadata": {},
   "outputs": [],
   "source": [
    "education_column = loan_train_exploration[[\"Education\",\"Loan_Status\"]].groupby([\"Loan_Status\",\"Education\"]).size()\n",
    "education_column.Y[1]/(education_column.N[1]+education_column.Y[1]), \\\n",
    "education_column.Y[0]/(education_column.Y[0]+education_column.N[0]);"
   ]
  },
  {
   "cell_type": "markdown",
   "metadata": {},
   "source": [
    "<code style=\"background:yellow;color:black\">Acceptace rate for Graduate and Not Graduate is 70% and 61%</code>"
   ]
  },
  {
   "cell_type": "markdown",
   "metadata": {},
   "source": [
    "Column does not have any Nan values so I don't need to take care about that. This column differs from others in another way,\n",
    "I can definitely say that Graduate is better than Not Graduate (at least for companies providing loans) and therefore variables can be Ordinal."
   ]
  },
  {
   "cell_type": "markdown",
   "metadata": {},
   "source": [
    "*Education column suggestions*\n",
    "- Zero Nan won't be providing any filling mechanism.\n",
    "- Ordinal encoding (actually I will try both)."
   ]
  },
  {
   "cell_type": "markdown",
   "metadata": {},
   "source": [
    "<div class=\"alert alert-block alert-warning\"><b>Self_Employed column</b></div>"
   ]
  },
  {
   "cell_type": "code",
   "execution_count": 275,
   "metadata": {},
   "outputs": [
    {
     "data": {
      "text/plain": [
       "<matplotlib.axes._subplots.AxesSubplot at 0x1b768d1b648>"
      ]
     },
     "execution_count": 275,
     "metadata": {},
     "output_type": "execute_result"
    },
    {
     "data": {
      "image/png": "[encoded data removed]",
      "text/plain": [
       "<Figure size 432x288 with 1 Axes>"
      ]
     },
     "metadata": {
      "needs_background": "light"
     },
     "output_type": "display_data"
    }
   ],
   "source": [
    "sns.countplot(x=\"Self_Employed\",data=loan_train_exploration, hue=\"Loan_Status\")"
   ]
  },
  {
   "cell_type": "code",
   "execution_count": 277,
   "metadata": {},
   "outputs": [],
   "source": [
    "selfe_column = loan_train_exploration[[\"Self_Employed\",\"Loan_Status\"]].groupby([\"Loan_Status\",\"Self_Employed\"]).size()\n",
    "selfe_column.Y[1]/(selfe_column.N[1]+selfe_column.Y[1]),selfe_column.Y[0]/(selfe_column.Y[0]+selfe_column.N[0]);"
   ]
  },
  {
   "cell_type": "markdown",
   "metadata": {},
   "source": [
    "<code style=\"background:yellow;color:black\">Acceptace rate for  Self _Employed and not S_Y is 68% and 68%</code>"
   ]
  },
  {
   "cell_type": "code",
   "execution_count": 151,
   "metadata": {},
   "outputs": [
    {
     "data": {
      "text/html": [
       "<div>\n",
       "<style scoped>\n",
       "    .dataframe tbody tr th:only-of-type {\n",
       "        vertical-align: middle;\n",
       "    }\n",
       "\n",
       "    .dataframe tbody tr th {\n",
       "        vertical-align: top;\n",
       "    }\n",
       "\n",
       "    .dataframe thead th {\n",
       "        text-align: right;\n",
       "    }\n",
       "</style>\n",
       "<table border=\"1\" class=\"dataframe\">\n",
       "  <thead>\n",
       "    <tr style=\"text-align: right;\">\n",
       "      <th></th>\n",
       "      <th>ApplicantIncome</th>\n",
       "    </tr>\n",
       "    <tr>\n",
       "      <th>Self_Employed</th>\n",
       "      <th></th>\n",
       "    </tr>\n",
       "  </thead>\n",
       "  <tbody>\n",
       "    <tr>\n",
       "      <th>No</th>\n",
       "      <td>5049.748000</td>\n",
       "    </tr>\n",
       "    <tr>\n",
       "      <th>Yes</th>\n",
       "      <td>7380.817073</td>\n",
       "    </tr>\n",
       "  </tbody>\n",
       "</table>\n",
       "</div>"
      ],
      "text/plain": [
       "               ApplicantIncome\n",
       "Self_Employed                 \n",
       "No                 5049.748000\n",
       "Yes                7380.817073"
      ]
     },
     "execution_count": 151,
     "metadata": {},
     "output_type": "execute_result"
    }
   ],
   "source": [
    "loan_train_exploration[[\"Self_Employed\",\"ApplicantIncome\"]].groupby(\"Self_Employed\").mean()"
   ]
  },
  {
   "cell_type": "markdown",
   "metadata": {},
   "source": [
    "It's very problematic column. They have similar acceptance rate even though Self_Employed has much higher income. So companies must penalize Self_employed -> probably consider them as more risky appliers. So I cannot use same metrics for them. Firstly lets do some more plotting for better insight."
   ]
  },
  {
   "cell_type": "code",
   "execution_count": 201,
   "metadata": {},
   "outputs": [
    {
     "data": {
      "text/plain": [
       "<matplotlib.axes._subplots.AxesSubplot at 0x1b7660ca5c8>"
      ]
     },
     "execution_count": 201,
     "metadata": {},
     "output_type": "execute_result"
    },
    {
     "data": {
      "image/png": "[encoded data removed]",
      "text/plain": [
       "<Figure size 1224x936 with 6 Axes>"
      ]
     },
     "metadata": {
      "needs_background": "light"
     },
     "output_type": "display_data"
    }
   ],
   "source": [
    "fig, axs = plt.subplots(ncols=2, nrows=3, figsize=(17,13))\n",
    "sns.countplot(x=\"Self_Employed\",data=loan_train_exploration, hue=\"Credit_History\", ax=axs[0,0])\n",
    "sns.countplot(x=\"Self_Employed\",data=loan_train_exploration, hue=\"Loan_Status\", ax=axs[0,1])\n",
    "sns.countplot(x=\"Self_Employed\",data=loan_train_exploration, hue=\"Education\", ax=axs[1,0])\n",
    "sns.countplot(x=\"Self_Employed\",data=loan_train_exploration, hue=\"Dependents\", ax=axs[1,1])\n",
    "sns.countplot(x=\"Self_Employed\",data=loan_train_exploration, hue=\"Married\", ax=axs[2,0])\n",
    "sns.countplot(x=\"Self_Employed\",data=loan_train_exploration, hue=\"Gender\", ax=axs[2,1])\n",
    "#appology for size :)"
   ]
  },
  {
   "cell_type": "markdown",
   "metadata": {},
   "source": [
    "Nothing extra here, I won't be able to predict whether customer is self_employed or not based on categorical data, income will have to suffice for this purpose."
   ]
  },
  {
   "cell_type": "markdown",
   "metadata": {},
   "source": [
    "*Self_employed column suggestions*\n",
    "- Nan values need to be filled based on income and proportion.\n",
    "- I can try both - Nominal and Ordinal encoding, because loan companies consider beign Self_employed as bad, and vice versa\n",
    "- It would be great try ML prediction separately (for Self employed and not).\n",
    "- Meaning self_employed is less than employed."
   ]
  },
  {
   "cell_type": "markdown",
   "metadata": {},
   "source": [
    "<div class=\"alert alert-block alert-warning\"><b>ApplicantIncome & CoapplicantIncome columns</b></div>"
   ]
  },
  {
   "cell_type": "code",
   "execution_count": 232,
   "metadata": {},
   "outputs": [
    {
     "data": {
      "text/plain": [
       "<matplotlib.axes._subplots.AxesSubplot at 0x1b76c12a688>"
      ]
     },
     "execution_count": 232,
     "metadata": {},
     "output_type": "execute_result"
    },
    {
     "data": {
      "image/png": "[encoded data removed]",
      "text/plain": [
       "<Figure size 1080x576 with 4 Axes>"
      ]
     },
     "metadata": {
      "needs_background": "light"
     },
     "output_type": "display_data"
    }
   ],
   "source": [
    "fig, axs = plt.subplots(nrows=2,ncols=2, figsize=(15,8))\n",
    "loan_train_exploration.plot.scatter('ApplicantIncome', 'ApplicantIncome', ax=axs[0,0], color=\"green\")\n",
    "loan_train_exploration.plot.scatter('CoapplicantIncome', 'CoapplicantIncome', ax=axs[0,1])\n",
    "loan_train_exploration.plot.scatter('ApplicantIncome', 'Loan_Status', ax=axs[1,0], color=\"green\")\n",
    "loan_train_exploration.plot.scatter('CoapplicantIncome', 'Loan_Status', ax=axs[1,1])"
   ]
  },
  {
   "cell_type": "markdown",
   "metadata": {},
   "source": [
    "At first glance, we can see that distribution for ApplicantIncome and CoapplicantIncome income is very similar, but we can also see that a big income is not so important, for example applicant with highest income was denied. Also it's quite obvious that CoapplicantIncome feature has lower weight then ApplicantIncome. Luckily these columns does not have Nan values...i suppose they are mandatory."
   ]
  },
  {
   "cell_type": "markdown",
   "metadata": {},
   "source": [
    "*ApplicantIncome & CoapplicantIncome columns suggestions*\n",
    "- Maybe creating new column with total income.\n",
    "- Create a simple mechanism which will delete outliers (on train only), I wanna try to identify a companies mistakes, meaning appliers with high income, good credit history but with negative Loan_Status and vice versa.\n",
    "- Possibility to use StandardScaler, Normalizer and none is a matter of course."
   ]
  },
  {
   "cell_type": "markdown",
   "metadata": {},
   "source": [
    "<div class=\"alert alert-block alert-warning\"><b>LoanAmount & Loan_Amount_Term columns</b></div>"
   ]
  },
  {
   "cell_type": "markdown",
   "metadata": {},
   "source": [
    "These two columns are simple. I will drop rows if both of them will have Nan values, cause the prediction would not make sense without knowing how much they have to pay and for how long."
   ]
  },
  {
   "cell_type": "code",
   "execution_count": 316,
   "metadata": {},
   "outputs": [
    {
     "data": {
      "text/html": [
       "<div>\n",
       "<style scoped>\n",
       "    .dataframe tbody tr th:only-of-type {\n",
       "        vertical-align: middle;\n",
       "    }\n",
       "\n",
       "    .dataframe tbody tr th {\n",
       "        vertical-align: top;\n",
       "    }\n",
       "\n",
       "    .dataframe thead th {\n",
       "        text-align: right;\n",
       "    }\n",
       "</style>\n",
       "<table border=\"1\" class=\"dataframe\">\n",
       "  <thead>\n",
       "    <tr style=\"text-align: right;\">\n",
       "      <th></th>\n",
       "      <th>Loan_ID</th>\n",
       "      <th>Gender</th>\n",
       "      <th>Married</th>\n",
       "      <th>Dependents</th>\n",
       "      <th>Education</th>\n",
       "      <th>Self_Employed</th>\n",
       "      <th>ApplicantIncome</th>\n",
       "      <th>CoapplicantIncome</th>\n",
       "      <th>LoanAmount</th>\n",
       "      <th>Loan_Amount_Term</th>\n",
       "      <th>Credit_History</th>\n",
       "      <th>Property_Area</th>\n",
       "      <th>Loan_Status</th>\n",
       "      <th>Has2Income</th>\n",
       "      <th>income_total</th>\n",
       "    </tr>\n",
       "  </thead>\n",
       "  <tbody>\n",
       "  </tbody>\n",
       "</table>\n",
       "</div>"
      ],
      "text/plain": [
       "Empty DataFrame\n",
       "Columns: [Loan_ID, Gender, Married, Dependents, Education, Self_Employed, ApplicantIncome, CoapplicantIncome, LoanAmount, Loan_Amount_Term, Credit_History, Property_Area, Loan_Status, Has2Income, income_total]\n",
       "Index: []"
      ]
     },
     "execution_count": 316,
     "metadata": {},
     "output_type": "execute_result"
    }
   ],
   "source": [
    "loan_train_exploration[(loan_train_exploration[\"LoanAmount\"].isna()) \\\n",
    "                       & (loan_train_exploration[\"Loan_Amount_Term\"].isna())]\n",
    "#filter rows where is LoanAmount and Loa_Amount_Term missing"
   ]
  },
  {
   "cell_type": "markdown",
   "metadata": {},
   "source": [
    "But this case probably won't happen. We will have at least one feature, either LoanAmount or Loan_Amount_Term. Now for Nan values: the simple way is just calculate average or median for LoanAmount and Loan_Amount_Term and use one to fill the other."
   ]
  },
  {
   "cell_type": "code",
   "execution_count": 260,
   "metadata": {},
   "outputs": [
    {
     "data": {
      "text/plain": [
       "<matplotlib.axes._subplots.AxesSubplot at 0x1b768a48b08>"
      ]
     },
     "execution_count": 260,
     "metadata": {},
     "output_type": "execute_result"
    },
    {
     "data": {
      "image/png": "[encoded data removed]",
      "text/plain": [
       "<Figure size 432x288 with 1 Axes>"
      ]
     },
     "metadata": {
      "needs_background": "light"
     },
     "output_type": "display_data"
    }
   ],
   "source": [
    "loan_train_nan = loan_train_exploration.dropna()\n",
    "loan_train_nan.plot.scatter('LoanAmount', \"Gender\")"
   ]
  },
  {
   "cell_type": "markdown",
   "metadata": {},
   "source": [
    "Here is just an example, probably Male apply for bigger Loans and so on. It would be good idea to calculate average LoanAmount for more \"stereotypes\"."
   ]
  },
  {
   "cell_type": "markdown",
   "metadata": {},
   "source": [
    "*LoanAmount & Loan_Amount_Term columns suggestions*\n",
    "- Calculate missing LoanAmoutn or Loan_Amount_Term with simple average or using a couple of them for different groups of people.\n",
    "- Create new column Month payment, LoanAmoutn and Loan_Amount_Term are not a very good fit for Income columns."
   ]
  },
  {
   "cell_type": "markdown",
   "metadata": {},
   "source": [
    "<div class=\"alert alert-block alert-warning\"><b>Credit_History column</b></div>"
   ]
  },
  {
   "cell_type": "code",
   "execution_count": 313,
   "metadata": {},
   "outputs": [
    {
     "data": {
      "text/plain": [
       "<matplotlib.axes._subplots.AxesSubplot at 0x1b768b1e548>"
      ]
     },
     "execution_count": 313,
     "metadata": {},
     "output_type": "execute_result"
    },
    {
     "data": {
      "image/png": "[encoded data removed]",
      "text/plain": [
       "<Figure size 432x288 with 1 Axes>"
      ]
     },
     "metadata": {
      "needs_background": "light"
     },
     "output_type": "display_data"
    }
   ],
   "source": [
    "sns.countplot(x=\"Credit_History\",data=loan_train_exploration, hue=\"Loan_Status\")"
   ]
  },
  {
   "cell_type": "code",
   "execution_count": 314,
   "metadata": {},
   "outputs": [],
   "source": [
    "credit_column = loan_train_exploration[[\"Credit_History\",\"Loan_Status\"]].groupby([\"Loan_Status\",\"Credit_History\"]).size()\n",
    "credit_column.Y[1]/(credit_column.N[1]+credit_column.Y[1]),credit_column.Y[0]/(credit_column.Y[0]+credit_column.N[0]);"
   ]
  },
  {
   "cell_type": "markdown",
   "metadata": {},
   "source": [
    "<code style=\"background:yellow;color:black\">Acceptace rate for Credit History 1 and 0 is 79% and 7,8%</code>"
   ]
  },
  {
   "cell_type": "markdown",
   "metadata": {},
   "source": [
    "Well this column is probably the most important. I have clear Recall-Precision trade off and i will definitely need to try more Nan variants. "
   ]
  },
  {
   "cell_type": "markdown",
   "metadata": {},
   "source": [
    "*Credit_History column suggestions*\n",
    "- Nan v.1 -> if missing just use 0.\n",
    "- Nan v.2 -> fill Nan based on proportions .\n",
    "- Nan v.3 -> try ML algorithm to predict these Nan values.\n",
    "- Nan v.4 -> delete rows for training and fill Nan for test.\n",
    "- Nan v.5 -> Something else if the results won't be good enough."
   ]
  },
  {
   "cell_type": "markdown",
   "metadata": {},
   "source": [
    "<div class=\"alert alert-block alert-warning\"><b>Property_Area column</b></div>"
   ]
  },
  {
   "cell_type": "code",
   "execution_count": 286,
   "metadata": {},
   "outputs": [
    {
     "data": {
      "text/plain": [
       "<matplotlib.axes._subplots.AxesSubplot at 0x1b76b5f6b08>"
      ]
     },
     "execution_count": 286,
     "metadata": {},
     "output_type": "execute_result"
    },
    {
     "data": {
      "image/png": "[encoded data removed]",
      "text/plain": [
       "<Figure size 1080x360 with 2 Axes>"
      ]
     },
     "metadata": {
      "needs_background": "light"
     },
     "output_type": "display_data"
    }
   ],
   "source": [
    "fig, axs = plt.subplots(nrows=1,ncols=2, figsize=(15,5))\n",
    "sns.countplot(x=\"Property_Area\",data=loan_train_exploration, hue=\"Loan_Status\", ax=axs[0])\n",
    "sns.countplot(x=\"Property_Area\",data=loan_train_exploration, hue=\"Credit_History\", ax=axs[1],hue_order = [1.0, 0] )"
   ]
  },
  {
   "cell_type": "markdown",
   "metadata": {},
   "source": [
    "I can see that Property_Area can affect Loan_Status quite a lot, or and that is interesting, Credit_History. It's quite visible on charts."
   ]
  },
  {
   "cell_type": "code",
   "execution_count": 315,
   "metadata": {},
   "outputs": [],
   "source": [
    "property_col = loan_train_exploration[[\"Property_Area\",\"Loan_Status\"]].groupby([\"Loan_Status\",\"Property_Area\"]).size()\n",
    "property_col.Y[2]/(property_col.Y[2]+property_col.N[2]), property_col.Y[0]/(property_col.Y[0]+property_col.N[0]), \\\n",
    "property_col.Y[1]/(property_col.N[1]+property_col.Y[1]);"
   ]
  },
  {
   "cell_type": "markdown",
   "metadata": {},
   "source": [
    "<code style=\"background:yellow;color:black\">Acceptace rate for Urban, Rural, Semiurban is 66%, 61%, 77%</code>"
   ]
  },
  {
   "cell_type": "markdown",
   "metadata": {},
   "source": [
    "*Property_Area column suggestions*\n",
    "- no Nan \n",
    "- Ordinal variables where Rural is worst, Urban is better and Semiurban is best "
   ]
  },
  {
   "cell_type": "markdown",
   "metadata": {},
   "source": [
    "And that's it! Data visualization is done, hopefully I've gathered enough information to create a well performing model."
   ]
  },
  {
   "cell_type": "markdown",
   "metadata": {},
   "source": [
    "<p style=\"background:white\">\n",
    "<code style=\"background:white;color:white\">\n",
    "</code>\n",
    "</p>"
   ]
  },
  {
   "cell_type": "markdown",
   "metadata": {},
   "source": [
    "## Custom transformers and data preparation"
   ]
  },
  {
   "cell_type": "markdown",
   "metadata": {},
   "source": [
    "___"
   ]
  },
  {
   "cell_type": "markdown",
   "metadata": {},
   "source": [
    "> 1) Split, Pipelines, Modeling, Tuning\n",
    ">> 2) easy Nan values, more complicated ones\n",
    ">>> 3) Encoding for nominal and ordinal variables\n",
    ">>>> 4) Adding new columns, dropping ones\n",
    ">>>>> 5) Credit_history solution - multiple versions"
   ]
  },
  {
   "cell_type": "markdown",
   "metadata": {},
   "source": [
    "A simple scheme, in Jupyter everything will be written gradually but I will be doing everything in different order: 1-1, 1-2,1-3,1-4,1-5."
   ]
  },
  {
   "cell_type": "markdown",
   "metadata": {},
   "source": [
    "<div class=\"alert alert-block alert-warning\"><b>Basic imports: </b> all import necessary for transformers, pipelines, model selection and hyperparameters tuning.</div>"
   ]
  },
  {
   "cell_type": "code",
   "execution_count": 1193,
   "metadata": {},
   "outputs": [],
   "source": [
    "from sklearn.base import BaseEstimator\n",
    "from sklearn.base import TransformerMixin\n",
    "from sklearn.metrics import precision_score, recall_score, \\\n",
    "confusion_matrix, classification_report, accuracy_score, f1_score\n",
    "from sklearn.preprocessing import OrdinalEncoder\n",
    "from sklearn.preprocessing import OneHotEncoder\n",
    "from sklearn.preprocessing import Normalizer\n",
    "from sklearn.model_selection import cross_val_score\n",
    "from sklearn.svm import SVC, LinearSVC\n",
    "from sklearn.tree import DecisionTreeClassifier\n",
    "from sklearn.ensemble import RandomForestClassifier, AdaBoostClassifier, GradientBoostingClassifier, \\\n",
    "ExtraTreesClassifier, BaggingClassifier\n",
    "from sklearn.metrics import confusion_matrix\n",
    "from sklearn.metrics import precision_recall_fscore_support\n",
    "from sklearn.linear_model import LogisticRegression\n",
    "from sklearn.discriminant_analysis import LinearDiscriminantAnalysis\n",
    "from sklearn.pipeline import Pipeline\n",
    "from sklearn.model_selection import train_test_split\n",
    "#from random import randint\n",
    "import random\n",
    "from sklearn.preprocessing import Normalizer\n",
    "from sklearn.preprocessing import StandardScaler\n",
    "from sklearn.compose import ColumnTransformer\n",
    "from sklearn.preprocessing import OrdinalEncoder\n",
    "import category_encoders as encoders\n",
    "from sklearn.ensemble import VotingClassifier"
   ]
  },
  {
   "cell_type": "markdown",
   "metadata": {},
   "source": [
    "### Custom Transformers"
   ]
  },
  {
   "cell_type": "markdown",
   "metadata": {},
   "source": [
    "The main purpose of writing custom transformer is not for data modifying, but hyperparameters tuning, ability to change content of table in many ways and find out what is the best data composition! And beign able to answer question like...does my model predict better or worse with Gender column? "
   ]
  },
  {
   "cell_type": "markdown",
   "metadata": {},
   "source": [
    "<div class=\"alert alert-block alert-success\"><b>Step 1: Nan Custom Transformer</b></div><a id='DataChanger_nan'></a>"
   ]
  },
  {
   "cell_type": "code",
   "execution_count": 2004,
   "metadata": {},
   "outputs": [],
   "source": [
    "class DataChanger_nan(BaseEstimator, TransformerMixin):\n",
    "    \"\"\"Replacing nan values for loan prediction data set\"\"\"\n",
    "    \n",
    "    def __init__(self, credit_history_option=None):\n",
    "        \n",
    "        self.credit_history_option = credit_history_option\n",
    "      \n",
    "    def fit(self, data, y=None):\n",
    "        \"\"\"mandatory method for transformer\"\"\"        \n",
    "        return self\n",
    "    \n",
    "    \n",
    "    \"\"\"____________________________________| METHOD FOR GENDER NAN VALUES |_____________________________________\"\"\"\n",
    "    \n",
    "    def gender(self,data):\n",
    "        \"\"\"Changing Nan in Gender column\"\"\"\n",
    "        if \"Gender\" in data.columns:\n",
    "            import random\n",
    "            \n",
    "            male_number = data[\"Gender\"][(data[\"Gender\"] == \"Male\")].count()\n",
    "            female_number = data[\"Gender\"][(data[\"Gender\"] == \"Female\")].count()\n",
    "            male_weight = male_number / (female_number+male_number)\n",
    "            female_weight = female_number / (male_number+female_number)  \n",
    "            \n",
    "            index_gender = list(data.loc[pd.isna(data[\"Gender\"]), :].index)\n",
    "            values_gender = random.choices(population=[\"Female\",\"Male\"],weights=[male_weight,female_weight],\n",
    "                                            k=len(index_gender))\n",
    "            #first three rows i am calculating indexes of nana values, and than i am generating femaile\n",
    "            #and male values based on train distribution\n",
    "    \n",
    "            gender_generator = pd.Series(list(values_gender), list(index_gender))\n",
    "            data[\"Gender\"].fillna(gender_generator, inplace = True)\n",
    "            data[\"Gender\"] = data[\"Gender\"].astype(\"category\") #better data type\n",
    "            #last two rows i am creating pd.series from our two list and then i am \n",
    "            #filling nana values with this pd.series\n",
    "            \n",
    "   \n",
    "    \"\"\"_________________________________| METHOD FOR INDEPENDENTS NAN VALUES |__________________________________\"\"\"\n",
    "    \n",
    "    def dependents(self, data):\n",
    "        \"\"\"replacing nan values for Dependents based on their mean (probably 1 a 0 in every time but still)\"\"\"\n",
    "        if \"Dependents\" in data.columns:\n",
    "            data.loc[(data[\"Dependents\"] == \"3+\"),\"Dependents\"] = 3\n",
    "            married_dep_val = int(data[[\"Dependents\"]][(data[\"Married\"] == \"Yes\")].dropna\\\n",
    "                                  (axis=0).astype(int).mean())\n",
    "            not_married_dep_val = int(data[[\"Dependents\"]][(data[\"Married\"] == \"No\")].dropna\\\n",
    "                                      (axis=0).astype(int).mean())\n",
    "            #this might look scary, but it just filter our dependets column in table based on \n",
    "            #yes/no in married columndropping nan values and calculating the mean\n",
    "\n",
    "            #i am changing nan values for both tables - filling nana values\n",
    "            data.loc[(data[\"Dependents\"].isna())& (data[\"Married\"] == \"Yes\"),\"Dependents\"] = married_dep_val\n",
    "            data.loc[(data[\"Dependents\"].isna())& ((data[\"Married\"] == \"No\") | (data[\"Married\"].isna()))\\\n",
    "                                                   ,\"Dependents\"] = not_married_dep_val\n",
    "            #i need to also assign dependents if married is nan - it is Married x Dependents tradeoff\n",
    "            #assumpiton is easy married has 1 independents, not married 0\n",
    "            data[\"Dependents\"] = data[\"Dependents\"].astype(int) #better data type\n",
    "            \n",
    "      \n",
    "    \"\"\"___________________________________| METHOD FOR MARRIED NAN VALUES |____________________________________\"\"\"\n",
    "    \n",
    "    def married(self, data):\n",
    "        \"\"\"replacing nan value for married based on number of independents and coapplicant income\"\"\"\n",
    "        if \"Married\" in data.columns:\n",
    "            data.loc[(data[\"Married\"].isna())& (data[\"CoapplicantIncome\"] == 0)\\\n",
    "                     & (data[\"Dependents\"] == 0) ,\"Married\"] = \"No\"\n",
    "            data.loc[(data[\"Married\"].isna())& (data[\"Dependents\"] > 0) ,\"Married\"] = \"Yes\" \n",
    "            data.loc[(data[\"Married\"].isna())& (data[\"CoapplicantIncome\"] > 0) ,\"Married\"] = \"Yes\"\n",
    "            #ASSUMPITON is easy, coapplicant income > 0 = MARRIED, independents > 0 = MARRIED\n",
    "            # coapplicant income and independets == 0 ==> NOT MARRIED\n",
    "            data[\"Married\"] = data[\"Married\"].astype(\"category\") #better data type\n",
    "    \n",
    "    \n",
    "    \"\"\"________________________________| METHOD FOR SELF_EMPLOYED NAN VALUES |_________________________________\"\"\"\n",
    "    \n",
    "    def employed(self, data):\n",
    "        \"\"\"replacing nan values for self_employed based on proportion and income\"\"\"\n",
    "        if \"Self_Employed\" in data.columns:\n",
    "            #calculating our weight to be self_employed - same approach as in gender\n",
    "            self_ey = data[\"Self_Employed\"][(data[\"Self_Employed\"] == \"Yes\")].count()\n",
    "            self_not_ey = data[\"Self_Employed\"][(data[\"Self_Employed\"] == \"No\")].count()\n",
    "            self_employed_rate = self_ey / (self_ey+self_not_ey)\n",
    "            self_note_eployed_rate = self_not_ey / (self_ey+self_not_ey)\n",
    "            \n",
    "            #calculating precise numbers of self_employed and ...\n",
    "            number_of_nan = data[\"Self_Employed\"].isna().sum()\n",
    "            number_self_employed = int(number_of_nan*self_employed_rate)\n",
    "            number_not_self_employed = number_of_nan-number_self_employed\n",
    "                          \n",
    "            #assign values - filtering top X values from nan (based on income) and bottom X\n",
    "            indexes_self_employ = data[data[\"Self_Employed\"]\\\n",
    "            .isna()].nlargest(number_self_employed,[\"ApplicantIncome\"]).index.tolist() \n",
    "            indexes_not_self_employ = data[data[\"Self_Employed\"]\\\n",
    "            .isna()].nsmallest(number_not_self_employed,[\"ApplicantIncome\"]).index.tolist()   \n",
    "            \n",
    "            #now i filter based on my indexes and filling values\n",
    "            data.loc[(data[\"Self_Employed\"].\\\n",
    "            index.isin(indexes_self_employ)),\"Self_Employed\"] = \"Yes\" \n",
    "            data.loc[(data[\"Self_Employed\"].\\\n",
    "            index.isin(indexes_not_self_employ)),\"Self_Employed\"] = \"No\" \n",
    "            \n",
    "        #I keep it simple, I have bigger chance that self_employed will have higher income then not a s_y\n",
    "        #therefore I will just assing values based on that and based on proportions\n",
    "      \n",
    "    \"\"\"__________________________________| METHOD FOR LOAN_AMOUNT_AND_TERM|___________________________________\"\"\"\n",
    "    \n",
    "    def loan_amount_and_term(self, data):\n",
    "        \"\"\"replacing nan values for loan amount and loan amount term\"\"\"\n",
    "        if \"LoanAmount\" and \"Loan_Amount_Term\" in data.columns:\n",
    "                data[\"LoanAmount\"] = data[\"LoanAmount\"]*1000\n",
    "                loan_nan = data.loc[(data[\"LoanAmount\"].isna())& (data[\"Loan_Amount_Term\"].isna())]\n",
    "                #my condition for having nan values for LoanAmount and also for Loan_Amount_Term \n",
    "                #if these two things happens i have to drop entire row\n",
    "\n",
    "                if len(loan_nan):#dropping rows - how all is important i want delete my rows only\n",
    "                    #in case when i have two nan values in same row!\n",
    "                    data.dropna(subset=[\"LoanAmount\",\"Loan_Amount_Term\"], how=\"all\", inplace = True)\n",
    "\n",
    "                elif not len(loan_nan):\n",
    "                    #firstly we will calculate loan average\n",
    "                    loan_average = data[[\"LoanAmount\",\"Loan_Amount_Term\"]].dropna() #need to drop all nan values\n",
    "                    loan_average = int((loan_average[\"LoanAmount\"] / loan_average[\"Loan_Amount_Term\"]).mean())\n",
    "\n",
    "\n",
    "                    #and now we fill na values with it\n",
    "                    data.loc[(data[\"LoanAmount\"].isna()),\"LoanAmount\"] = data[\"Loan_Amount_Term\"]* loan_average\n",
    "                    data.loc[(data[\"Loan_Amount_Term\"].isna()),\"Loan_Amount_Term\"] = \\\n",
    "                    data[\"LoanAmount\"] / loan_average\n",
    "\n",
    "                    data[\"Loan_Amount_Term\"] = data[\"Loan_Amount_Term\"].astype(int)\n",
    "        \n",
    "        \n",
    "    \"\"\"__________________________________| CREDIT_HISTORY ADDED AFTER STEP3|___________________________________\"\"\"\n",
    "    \n",
    "    def credit_history(self, data):\n",
    "        \"\"\"dropping all rows where is Vredit_History missing\"\"\"\n",
    "        \n",
    "        if self.credit_history_option == 1: #just filling with 0\n",
    "            data[\"Credit_History\"].fillna(0, inplace=True)\n",
    "            \n",
    "        if self.credit_history_option == 2:\n",
    "            credit_yes = data[\"Credit_History\"][(data[\"Credit_History\"] == 1)].count()\n",
    "            credit_no = data[\"Credit_History\"][(data[\"Credit_History\"] == 0)].count()\n",
    "            credit_rate_yes = credit_yes / (credit_yes+credit_no)\n",
    "            credit_rate_no = credit_no / (credit_yes+credit_no)\n",
    "            #calculation proportions for credit history\n",
    "\n",
    "            data[\"family_for_calc\"] = (data[\"ApplicantIncome\"]+data[\"CoapplicantIncome\"]) \\\n",
    "            - (data[\"Dependents\"].astype(int)*500)\n",
    "            #creating our own column family balance - cost per person is set to 500\n",
    "            #it could be great for parameter tuning probably?\n",
    "\n",
    "            #calculating number of yes and no values\n",
    "            len_coef = data[\"Credit_History\"].isna().sum()\n",
    "            credit_yes = int(credit_rate_yes *len_coef)\n",
    "            credit_no = len_coef - credit_yes\n",
    "\n",
    "            #i am vreating my data for credit history\n",
    "            no_series = data.loc[(data[\"Credit_History\"].isna())\\\n",
    "                                  ,[\"Credit_History\",\"family_for_calc\"]].sort_values\\\n",
    "            (by=\"family_for_calc\")[:credit_no][\"Credit_History\"].fillna(0)\n",
    "            #no values\n",
    "\n",
    "            yes_series = data.loc[(data[\"Credit_History\"].isna())\\\n",
    "                                   ,[\"Credit_History\",\"family_for_calc\"]].sort_values\\\n",
    "            (by=\"family_for_calc\")[credit_no:][\"Credit_History\"].fillna(1)\n",
    "            #yes values\n",
    "\n",
    "            #no i fillna my values\n",
    "            data[\"Credit_History\"].fillna(no_series, inplace = True)\n",
    "            data[\"Credit_History\"].fillna(yes_series, inplace = True)\n",
    "            data.drop(\"family_for_calc\", axis=1, inplace=True)\n",
    "            \n",
    "    \"\"\"_________________________________________________| SUMMARY|______________________________________________\"\"\"\n",
    "    \n",
    "    def transform(self, data):\n",
    "        self.gender(data)\n",
    "        self.dependents(data)\n",
    "        self.married(data)\n",
    "        self.employed(data)\n",
    "        self.loan_amount_and_term(data)\n",
    "        self.credit_history(data)\n",
    "        \n",
    "        return data\n",
    "        "
   ]
  },
  {
   "cell_type": "markdown",
   "metadata": {},
   "source": [
    "<div class=\"alert alert-block alert-info\"><b>Note 3:</b> Apology for docstring above, but i cannot help myself. </div>"
   ]
  },
  {
   "cell_type": "markdown",
   "metadata": {},
   "source": [
    "My first Customer is finished, it's just a lot of scary hard coding. Now I can look if it performs well."
   ]
  },
  {
   "cell_type": "code",
   "execution_count": 2005,
   "metadata": {},
   "outputs": [
    {
     "name": "stdout",
     "output_type": "stream",
     "text": [
      "<class 'pandas.core.frame.DataFrame'>\n",
      "RangeIndex: 614 entries, 0 to 613\n",
      "Data columns (total 13 columns):\n",
      " #   Column             Non-Null Count  Dtype   \n",
      "---  ------             --------------  -----   \n",
      " 0   Loan_ID            614 non-null    object  \n",
      " 1   Gender             614 non-null    category\n",
      " 2   Married            614 non-null    category\n",
      " 3   Dependents         614 non-null    int32   \n",
      " 4   Education          614 non-null    object  \n",
      " 5   Self_Employed      614 non-null    object  \n",
      " 6   ApplicantIncome    614 non-null    int64   \n",
      " 7   CoapplicantIncome  614 non-null    float64 \n",
      " 8   LoanAmount         614 non-null    float64 \n",
      " 9   Loan_Amount_Term   614 non-null    int32   \n",
      " 10  Credit_History     564 non-null    float64 \n",
      " 11  Property_Area      614 non-null    object  \n",
      " 12  Loan_Status        614 non-null    object  \n",
      "dtypes: category(2), float64(3), int32(2), int64(1), object(5)\n",
      "memory usage: 49.5+ KB\n"
     ]
    }
   ],
   "source": [
    "DataChanger_nan().fit_transform(pd.read_csv(\"train.csv\")).info()"
   ]
  },
  {
   "cell_type": "markdown",
   "metadata": {},
   "source": [
    "From this point of view everything looks fine. Every column has 614 non-nul values, meaning data has no Nan values, except  Credit History column. We will see, if adjustments will have positive or negative effect on model performance. Next stop: Credit_History!"
   ]
  },
  {
   "cell_type": "markdown",
   "metadata": {},
   "source": [
    "<div class=\"alert alert-block alert-success\"><b>Step 2: Dropping and adding columns</b></div><a id='ColumnsChanger'></a>"
   ]
  },
  {
   "cell_type": "markdown",
   "metadata": {},
   "source": [
    "I wanna have possibility to drop columns and add some new ones. It has to be done after Nan values replacer and before encoding procedures. The cherry on the cake will be use of class parameters as hyperparameters in pipeline."
   ]
  },
  {
   "cell_type": "code",
   "execution_count": 1597,
   "metadata": {},
   "outputs": [],
   "source": [
    "class ColumnsChanger(BaseEstimator, TransformerMixin):\n",
    "    \"\"\"Drop and adds some columns\"\"\"\n",
    "    \n",
    "    def __init__(self, \n",
    "                cost_per_month = False, #for adding cost per month column\n",
    "                family_balance = False, #for adding family balance column\n",
    "                cost_per_person = 500, #cost per person - used in family balance\n",
    "                family_loan_cost = False, #adding extra substraction for family balance\n",
    "                columns_to_drop = None): #for dropping all columns\n",
    "        \n",
    "        self.columns_to_drop = columns_to_drop\n",
    "        self.cost_per_month = cost_per_month\n",
    "        self.family_balance = family_balance\n",
    "        self.cost_per_person = cost_per_person\n",
    "        self.family_loan_cost = family_loan_cost\n",
    "                 \n",
    "    def fit(self, data, y=None):\n",
    "        \"\"\"mandatory method for transformer\"\"\"        \n",
    "        return self\n",
    "    \n",
    "    def add_cost_per_month(self, data):\n",
    "        \"\"\"adds new column to our dataset - cost per month\"\"\"\n",
    "        if self.cost_per_month:\n",
    "            data[\"Cost_per_month\"] = round((data[\"LoanAmount\"] / data[\"Loan_Amount_Term\"]),1)\n",
    "            #i guess rounding is not so important issue here, so i leave it as that..\n",
    "            \n",
    "            \"\"\"Skipped - better to delete columns seperately!\"\"\"\n",
    "            #if self.cost_per_month[1]: #don't wanna endup with 0 columns total :)\n",
    "                #data.drop([\"LoanAmount\",\"Loan_Amount_Term\"], axis = 1, inplace = True)\n",
    "                \n",
    "    def add_family_balance(self, data):\n",
    "        \"\"\"ads new column to our dataset - family balance\"\"\"\n",
    "        if self.family_balance:\n",
    "            data[\"family_balance\"] = (data[\"ApplicantIncome\"]+data[\"CoapplicantIncome\"]) \\\n",
    "            - (data[\"Dependents\"].astype(int)* self.cost_per_person \\\n",
    "            + (self.family_loan_cost and (round((data[\"LoanAmount\"] / data[\"Loan_Amount_Term\"]),1))))\n",
    "            #if family_loan_cost false i substract 0, if True i substract average cost_per month!\n",
    "    \n",
    "    def rename_columns(self, data):\n",
    "        \"\"\"Renaming function - important for encoding part\"\"\"\n",
    "        new_names = {\"Gender\": \"Gender_OHE\", \n",
    "                     \"Married\": \"Married_OHE\",\n",
    "                     \"Self_Employed\" : \"Self_Employed_OHE\",\n",
    "                     \"Education\": \"Education_OHE\",\n",
    "                     \"Property_Area\": \"Property_Area_OHE\",\n",
    "                     \n",
    "                     \"ApplicantIncome\" : \"ApplicantIncome_NUM\",\n",
    "                     \"CoapplicantIncome\" : \"CoapplicantIncome_NUM\",\n",
    "                     \"LoanAmount\" : \"LoanAmount_NUM\",\n",
    "                     \"Loan_Amount_Term\" : \"Loan_Amount_Term_NUM\",\n",
    "                     \"Cost_per_month\" : \"Cost_per_month_NUM\",\n",
    "                     \"family_balance\" : \"family_balance_NUM\",\n",
    "                    \n",
    "                    \"Loan_Status\": \"Loan_Status_OTHER\",\n",
    "                    \"Credit_History\" : \"Credit_History_OTHER\",\n",
    "                    \"Dependents\" : \"Dependents_OTHER\"}\n",
    "                     \n",
    "        return data.rename(columns=new_names, inplace=True)\n",
    "    \n",
    "    def transform(self, data):\n",
    "        \n",
    "        self.add_cost_per_month(data)\n",
    "        self.add_family_balance(data)\n",
    "        self.columns_to_drop and data.drop(self.columns_to_drop, 1, inplace=True) #and = False or END, or True or END\n",
    "        #deleting of columns must be the last part - we don't wanna delete columns which could be required for building\n",
    "        #another ones..\n",
    "        self.rename_columns(data)\n",
    "            \n",
    "        return data"
   ]
  },
  {
   "cell_type": "markdown",
   "metadata": {},
   "source": [
    "And that is it! Dropping every colum I want is good, and about adding, we could add something like..family size and so on. But family_balance and cost_per_month looks good enough to me."
   ]
  },
  {
   "cell_type": "code",
   "execution_count": 1669,
   "metadata": {},
   "outputs": [],
   "source": [
    "columns_data = DataChanger_nan().fit_transform(pd.read_csv(\"train.csv\"))"
   ]
  },
  {
   "cell_type": "code",
   "execution_count": 1670,
   "metadata": {},
   "outputs": [
    {
     "data": {
      "text/html": [
       "<div>\n",
       "<style scoped>\n",
       "    .dataframe tbody tr th:only-of-type {\n",
       "        vertical-align: middle;\n",
       "    }\n",
       "\n",
       "    .dataframe tbody tr th {\n",
       "        vertical-align: top;\n",
       "    }\n",
       "\n",
       "    .dataframe thead th {\n",
       "        text-align: right;\n",
       "    }\n",
       "</style>\n",
       "<table border=\"1\" class=\"dataframe\">\n",
       "  <thead>\n",
       "    <tr style=\"text-align: right;\">\n",
       "      <th></th>\n",
       "      <th>Gender_OHE</th>\n",
       "      <th>Married_OHE</th>\n",
       "      <th>Dependents_OTHER</th>\n",
       "      <th>Education_OHE</th>\n",
       "      <th>Self_Employed_OHE</th>\n",
       "      <th>ApplicantIncome_NUM</th>\n",
       "      <th>CoapplicantIncome_NUM</th>\n",
       "      <th>LoanAmount_NUM</th>\n",
       "      <th>Loan_Amount_Term_NUM</th>\n",
       "      <th>Property_Area_OHE</th>\n",
       "      <th>Cost_per_month_NUM</th>\n",
       "      <th>family_balance_NUM</th>\n",
       "    </tr>\n",
       "  </thead>\n",
       "  <tbody>\n",
       "    <tr>\n",
       "      <th>0</th>\n",
       "      <td>Male</td>\n",
       "      <td>No</td>\n",
       "      <td>0</td>\n",
       "      <td>Graduate</td>\n",
       "      <td>No</td>\n",
       "      <td>5849</td>\n",
       "      <td>0.0</td>\n",
       "      <td>172800.0</td>\n",
       "      <td>360</td>\n",
       "      <td>Urban</td>\n",
       "      <td>480.0</td>\n",
       "      <td>5369.0</td>\n",
       "    </tr>\n",
       "    <tr>\n",
       "      <th>1</th>\n",
       "      <td>Male</td>\n",
       "      <td>Yes</td>\n",
       "      <td>1</td>\n",
       "      <td>Graduate</td>\n",
       "      <td>No</td>\n",
       "      <td>4583</td>\n",
       "      <td>1508.0</td>\n",
       "      <td>128000.0</td>\n",
       "      <td>360</td>\n",
       "      <td>Rural</td>\n",
       "      <td>355.6</td>\n",
       "      <td>4735.4</td>\n",
       "    </tr>\n",
       "    <tr>\n",
       "      <th>2</th>\n",
       "      <td>Male</td>\n",
       "      <td>Yes</td>\n",
       "      <td>0</td>\n",
       "      <td>Graduate</td>\n",
       "      <td>Yes</td>\n",
       "      <td>3000</td>\n",
       "      <td>0.0</td>\n",
       "      <td>66000.0</td>\n",
       "      <td>360</td>\n",
       "      <td>Urban</td>\n",
       "      <td>183.3</td>\n",
       "      <td>2816.7</td>\n",
       "    </tr>\n",
       "    <tr>\n",
       "      <th>3</th>\n",
       "      <td>Male</td>\n",
       "      <td>Yes</td>\n",
       "      <td>0</td>\n",
       "      <td>Not Graduate</td>\n",
       "      <td>No</td>\n",
       "      <td>2583</td>\n",
       "      <td>2358.0</td>\n",
       "      <td>120000.0</td>\n",
       "      <td>360</td>\n",
       "      <td>Urban</td>\n",
       "      <td>333.3</td>\n",
       "      <td>4607.7</td>\n",
       "    </tr>\n",
       "    <tr>\n",
       "      <th>4</th>\n",
       "      <td>Male</td>\n",
       "      <td>No</td>\n",
       "      <td>0</td>\n",
       "      <td>Graduate</td>\n",
       "      <td>No</td>\n",
       "      <td>6000</td>\n",
       "      <td>0.0</td>\n",
       "      <td>141000.0</td>\n",
       "      <td>360</td>\n",
       "      <td>Urban</td>\n",
       "      <td>391.7</td>\n",
       "      <td>5608.3</td>\n",
       "    </tr>\n",
       "  </tbody>\n",
       "</table>\n",
       "</div>"
      ],
      "text/plain": [
       "  Gender_OHE Married_OHE  Dependents_OTHER Education_OHE Self_Employed_OHE  \\\n",
       "0       Male          No                 0      Graduate                No   \n",
       "1       Male         Yes                 1      Graduate                No   \n",
       "2       Male         Yes                 0      Graduate               Yes   \n",
       "3       Male         Yes                 0  Not Graduate                No   \n",
       "4       Male          No                 0      Graduate                No   \n",
       "\n",
       "   ApplicantIncome_NUM  CoapplicantIncome_NUM  LoanAmount_NUM  \\\n",
       "0                 5849                    0.0        172800.0   \n",
       "1                 4583                 1508.0        128000.0   \n",
       "2                 3000                    0.0         66000.0   \n",
       "3                 2583                 2358.0        120000.0   \n",
       "4                 6000                    0.0        141000.0   \n",
       "\n",
       "   Loan_Amount_Term_NUM Property_Area_OHE  Cost_per_month_NUM  \\\n",
       "0                   360             Urban               480.0   \n",
       "1                   360             Rural               355.6   \n",
       "2                   360             Urban               183.3   \n",
       "3                   360             Urban               333.3   \n",
       "4                   360             Urban               391.7   \n",
       "\n",
       "   family_balance_NUM  \n",
       "0              5369.0  \n",
       "1              4735.4  \n",
       "2              2816.7  \n",
       "3              4607.7  \n",
       "4              5608.3  "
      ]
     },
     "execution_count": 1670,
     "metadata": {},
     "output_type": "execute_result"
    }
   ],
   "source": [
    "columns_to_delete = [\"Loan_ID\",\"Loan_Status\",\"Credit_History\"]\n",
    "\n",
    "columns_changed = ColumnsChanger(cost_per_month = True,\n",
    "               family_balance = True,\n",
    "               family_loan_cost = True,\n",
    "               cost_per_person = 1000,\n",
    "               columns_to_drop=columns_to_delete).fit_transform(columns_data)\n",
    "\n",
    "columns_changed.head()"
   ]
  },
  {
   "cell_type": "markdown",
   "metadata": {},
   "source": [
    "With using a little bit of math I can easily check whether my function works fine. For example second row - Depenndetns = 1, meaning costs = 1000, total income 6091. cost_per_month 356 => family balance is equal to 4735 (6091 - 1000 - 356)."
   ]
  },
  {
   "cell_type": "markdown",
   "metadata": {},
   "source": [
    "<div class=\"alert alert-block alert-success\"><b>Step 3: encoding and decoding</b></div><a id='encoding_decoding'></a>"
   ]
  },
  {
   "cell_type": "markdown",
   "metadata": {},
   "source": [
    "The biggest problem is wheter to use nominal or ordinal encoding. Because the main purpose is to learn, i want try more combinations. "
   ]
  },
  {
   "cell_type": "code",
   "execution_count": 2142,
   "metadata": {},
   "outputs": [],
   "source": [
    "class NumTransformer(BaseEstimator, TransformerMixin):\n",
    "    def __init__(self, transformer_name = None,column_transfer = []):\n",
    "        \n",
    "        self.transformer_name = transformer_name\n",
    "        self.column_transfer = column_transfer\n",
    "        self.mappings = []\n",
    "\n",
    "    def fit(self, data, y=None):\n",
    "        \"\"\"mandatory method for transformer\"\"\"        \n",
    "        return self\n",
    "    \n",
    "    \n",
    "    def transform(self, data):\n",
    "        #lists of columns\n",
    "        numeric_columns = [col for col in data.columns if \"_NUM\" in col] #columns for numeric pipelines\n",
    "        #all of my columns are supposed to be nominal, if I don't say otherwise \n",
    "        ohe_columns = [col for col in data.columns if \"_OHE\" in col if col not in self.column_transfer]\n",
    "        ode_columns = self.column_transfer #optional ordinal columns - based on my transformer parameter\n",
    "\n",
    "        #mapping - this must be hardcoded \n",
    "        Property_Area_OHE = {'col': 'Property_Area_OHE', 'mapping': {\"Semiurban\" : 3, \"Urban\": 2, \"Rural\": 1}}\n",
    "        Education_OHE = {'col': 'Education_OHE', 'mapping': {\"Graduate\" : 1, \"Not Graduate\" : 0}}\n",
    "        Self_Employed_OHE = {\"col\" : \"Self_Employed_OHE\", \"mapping\" : {\"No\" : 0, \"Yes\" : 1}}\n",
    "        \n",
    "        #better this easy way - may mapping has to be flexible\n",
    "        if \"Property_Area_OHE\" in self.column_transfer:\n",
    "            self.mappings.append(Property_Area_OHE)\n",
    "        if \"Education_OHE\" in self.column_transfer:\n",
    "            self.mappings.append(Education_OHE)\n",
    "        if \"Self_Employed_OHE\" in self.column_transfer:\n",
    "            self.mappings.append(Self_Employed_OHE)\n",
    "\n",
    "        #individual pipelines\n",
    "        num_pipeline = Pipeline([(\"optional num transformer\", self.transformer_name())]) \n",
    "        nominal_pipeline = Pipeline([(\"One_Hot_Encoder\", OneHotEncoder())])\n",
    "        ordinal_pipeline = Pipeline\\\n",
    "        ([(\"Ordinal_Encoder\", encoders.OrdinalEncoder(mapping = self.mappings))])\n",
    "\n",
    "        \n",
    "        #final pipeline\n",
    "        colum_transformer = ColumnTransformer([(\"numeric\", num_pipeline, numeric_columns),\n",
    "                                              (\"nominal\", nominal_pipeline, ohe_columns),\n",
    "                                                (\"ordinal\",ordinal_pipeline, ode_columns)\n",
    "                                              ],remainder='passthrough')\n",
    "                 \n",
    "        return colum_transformer.fit_transform(data)"
   ]
  },
  {
   "cell_type": "markdown",
   "metadata": {},
   "source": [
    "This part is a little heavier. I have columns I do not care like dependents and credit history (at least for now), 5 numeric columns, they are really easy but I have option to use both StandardScaler and Normalizer, and all ofmy categorical columns are nominal as default, but I can change some of them - Property_Area, Education and Self_Employed to ordinal if i want to. "
   ]
  },
  {
   "cell_type": "code",
   "execution_count": 1914,
   "metadata": {},
   "outputs": [],
   "source": [
    "trying_encoder = NumTransformer(StandardScaler, column_transfer =[\"Property_Area_OHE\"])"
   ]
  },
  {
   "cell_type": "code",
   "execution_count": 1915,
   "metadata": {},
   "outputs": [
    {
     "data": {
      "text/plain": [
       "array([ 7.29908229e-02, -5.54487330e-01,  3.06715367e-01,  3.03623801e-01,\n",
       "       -5.92148660e-04, -6.69627504e-02,  0.00000000e+00,  1.00000000e+00,\n",
       "        1.00000000e+00,  0.00000000e+00,  1.00000000e+00,  0.00000000e+00,\n",
       "        1.00000000e+00,  0.00000000e+00,  2.00000000e+00,  0.00000000e+00])"
      ]
     },
     "execution_count": 1915,
     "metadata": {},
     "output_type": "execute_result"
    }
   ],
   "source": [
    "trying_encoder.fit_transform(columns_changed)[0]"
   ]
  },
  {
   "cell_type": "markdown",
   "metadata": {},
   "source": [
    "<div class=\"alert alert-block alert-success\"><b>Step 4: Credit_History</b></div><a id='credit_history'></a>"
   ]
  },
  {
   "cell_type": "markdown",
   "metadata": {},
   "source": [
    "Possible approaches:"
   ]
  },
  {
   "cell_type": "markdown",
   "metadata": {},
   "source": [
    "1. Nan fill with 0\n",
    "2. Proportions and simple logic\n",
    "3.  ~~ML model - skipped, model will probably preditct same 1 ~~\n",
    "4.  ~~Deleting rows on train - skipped ~~"
   ]
  },
  {
   "cell_type": "markdown",
   "metadata": {},
   "source": [
    "Option 1 and 2 is just simplier if I only modify Nan class from step1 and give an option - no replacing, option 1 or 2 and that's it."
   ]
  },
  {
   "cell_type": "code",
   "execution_count": 2003,
   "metadata": {},
   "outputs": [],
   "source": [
    "    \"\"\"__________________________________| CREDIT_HISTORY ADDED AFTER STEP3|___________________________________\"\"\"\n",
    "    \n",
    "    def credit_history(self, data):\n",
    "        \"\"\"dropping all rows where is Vredit_History missing\"\"\"\n",
    "        \n",
    "        if self.credit_history_option == 1: #just filling with 0\n",
    "            data[\"Credit_History\"].fillna(0, inplace=True)\n",
    "            \n",
    "        if self.credit_history_option == 2:\n",
    "            credit_yes = data[\"Credit_History\"][(data[\"Credit_History\"] == 1)].count()\n",
    "            credit_no = data[\"Credit_History\"][(data[\"Credit_History\"] == 0)].count()\n",
    "            credit_rate_yes = credit_yes / (credit_yes+credit_no)\n",
    "            credit_rate_no = credit_no / (credit_yes+credit_no)\n",
    "            #calculation proportions for credit history\n",
    "\n",
    "            data[\"family_for_calc\"] = (data[\"ApplicantIncome\"]+data[\"CoapplicantIncome\"]) \\\n",
    "            - (data[\"Dependents\"].astype(int)*500)\n",
    "            #creating our own column family balance \n",
    "            \n",
    "            #calculating number of yes and no values\n",
    "            len_coef = data[\"Credit_History\"].isna().sum()\n",
    "            credit_yes = int(credit_rate_yes *len_coef)\n",
    "            credit_no = len_coef - credit_yes\n",
    "\n",
    "            #i am vreating my data for credit history\n",
    "            no_series = data.loc[(data[\"Credit_History\"].isna())\\\n",
    "                                  ,[\"Credit_History\",\"family_for_calc\"]].sort_values\\\n",
    "            (by=\"family_for_calc\")[:credit_no][\"Credit_History\"].fillna(0)\n",
    "            #no values\n",
    "\n",
    "            yes_series = data.loc[(data[\"Credit_History\"].isna())\\\n",
    "                                   ,[\"Credit_History\",\"family_for_calc\"]].sort_values\\\n",
    "            (by=\"family_for_calc\")[credit_no:][\"Credit_History\"].fillna(1)\n",
    "            #yes values\n",
    "\n",
    "            #no i fillna my values\n",
    "            data[\"Credit_History\"].fillna(no_series, inplace = True)\n",
    "            data[\"Credit_History\"].fillna(yes_series, inplace = True)\n",
    "            data.drop(\"family_for_calc\", axis=1, inplace=True)"
   ]
  },
  {
   "cell_type": "markdown",
   "metadata": {},
   "source": [
    "Here is my basic function i added to Nan custom transformer, with ML model I will have 3 possibilities of how to replace my Nan values and see the differences."
   ]
  },
  {
   "cell_type": "code",
   "execution_count": 2006,
   "metadata": {},
   "outputs": [
    {
     "name": "stdout",
     "output_type": "stream",
     "text": [
      "<class 'pandas.core.frame.DataFrame'>\n",
      "RangeIndex: 614 entries, 0 to 613\n",
      "Data columns (total 13 columns):\n",
      " #   Column             Non-Null Count  Dtype   \n",
      "---  ------             --------------  -----   \n",
      " 0   Loan_ID            614 non-null    object  \n",
      " 1   Gender             614 non-null    category\n",
      " 2   Married            614 non-null    category\n",
      " 3   Dependents         614 non-null    int32   \n",
      " 4   Education          614 non-null    object  \n",
      " 5   Self_Employed      614 non-null    object  \n",
      " 6   ApplicantIncome    614 non-null    int64   \n",
      " 7   CoapplicantIncome  614 non-null    float64 \n",
      " 8   LoanAmount         614 non-null    float64 \n",
      " 9   Loan_Amount_Term   614 non-null    int32   \n",
      " 10  Credit_History     614 non-null    float64 \n",
      " 11  Property_Area      614 non-null    object  \n",
      " 12  Loan_Status        614 non-null    object  \n",
      "dtypes: category(2), float64(3), int32(2), int64(1), object(5)\n",
      "memory usage: 49.5+ KB\n"
     ]
    }
   ],
   "source": [
    "DataChanger_nan(credit_history_option=2).fit_transform(pd.read_csv(\"train.csv\")).info()"
   ]
  },
  {
   "cell_type": "markdown",
   "metadata": {},
   "source": [
    "Something like that :), first option just fillna with 0 (it's most common approach), if you don't have credit history you expect 0 and second is just using proportions and total income - costs to guess better (maybe?). But that is all, no more custom transformers!"
   ]
  },
  {
   "cell_type": "markdown",
   "metadata": {},
   "source": [
    "## All together - split, pipelines, model selection and hyperparameter tuning"
   ]
  },
  {
   "cell_type": "markdown",
   "metadata": {},
   "source": [
    "<div class=\"alert alert-block alert-danger\"><b>Step 1 completition: after Nan custom transformer</b></div>"
   ]
  },
  {
   "cell_type": "markdown",
   "metadata": {},
   "source": [
    "Well I have only one customer and nothing else, nothing to complete right now. Ofcourse I could use ML model and so on, but now it would be just a waste of time. Structure of model is simple."
   ]
  },
  {
   "cell_type": "markdown",
   "metadata": {},
   "source": [
    "1. Data loading\n",
    "2. Labels splitting\n",
    "3. Train and Test splitting\n",
    "4. Train - fit_transform \n",
    "5. Test - transform"
   ]
  },
  {
   "cell_type": "markdown",
   "metadata": {},
   "source": [
    "[Link to Data changer class - replacer for Nan values](#DataChanger_nan)"
   ]
  },
  {
   "cell_type": "code",
   "execution_count": 1936,
   "metadata": {},
   "outputs": [],
   "source": [
    "pipeline_datachanger = Pipeline([(\"changing data\", DataChanger_nan())]) #nan replacer\n",
    "split_data = pd.read_csv(\"train.csv\") #loading data\n",
    "X, y = split_data.iloc[:,:-1], split_data.iloc[:,-1] #labels off\n",
    "n = 20\n",
    "\n",
    "for _ in range(n):\n",
    "    #splitting to train, test with n splits\n",
    "    X_train, X_test, y_train, y_test = train_test_split(\n",
    "    X, y, test_size=random.randint(15,30)/100) #i am also using randomized split for now from 15-30%\n",
    "    \n",
    "    X_train = pipeline_datachanger.fit_transform(X_train)\n",
    "    X_test = pipeline_datachanger.transform(X_test)"
   ]
  },
  {
   "cell_type": "markdown",
   "metadata": {},
   "source": [
    "Here is nothing special..yet. It's just custom version of splitting data into train and test, you can notice that I am fit_transformimg data to my X_train, but for test I use only transform method. In same cases we won't notice any difference in final result, but better do it \"right\"."
   ]
  },
  {
   "cell_type": "markdown",
   "metadata": {},
   "source": [
    "<div class=\"alert alert-block alert-danger\"><b>Step 2 completition: after Columns dropper and adder </b></div>"
   ]
  },
  {
   "cell_type": "markdown",
   "metadata": {},
   "source": [
    "[Link to ColumnChanger class - drops and create new columns](#encoding_decoding)"
   ]
  },
  {
   "cell_type": "code",
   "execution_count": 882,
   "metadata": {},
   "outputs": [],
   "source": [
    "columns_to_delete = [\"Loan_ID\",\"Married\",\"Gender\",\"Education\"]\n",
    "\n",
    "pipeline_datachanger = Pipeline([(\"changing data\", DataChanger_nan())]) #nan replacer\n",
    "pipeline_columnschanger = Pipeline([(\"adding and deleting columns\", ColumnsChanger(columns_to_drop=columns_to_delete,\n",
    "                                                                                  cost_per_month = True, \n",
    "                                                                                family_balance = True))])\n",
    "#just packing two pipelines above together\n",
    "full_pipeline = Pipeline(steps=[(\"basic change\", pipeline_datachanger),\n",
    "                              (\"column_transformer\", pipeline_columnschanger)])\n",
    "\n",
    "\n",
    "split_data = pd.read_csv(\"train.csv\") #loading data\n",
    "X, y = split_data.iloc[:,:-1], split_data.iloc[:,-1] #labels off\n",
    "n = 20\n",
    "\n",
    "for _ in range(n):\n",
    "    #splitting to train, test with n splits\n",
    "    X_train, X_test, y_train, y_test = train_test_split(\n",
    "    X, y, test_size=random.randint(15,30)/100) #i am also using randomized split for now from 15-30%\n",
    "    \n",
    "    X_train = full_pipeline.fit_transform(X_train)\n",
    "    X_test = full_pipeline.transform(X_test)"
   ]
  },
  {
   "cell_type": "code",
   "execution_count": 883,
   "metadata": {},
   "outputs": [
    {
     "data": {
      "text/html": [
       "<div>\n",
       "<style scoped>\n",
       "    .dataframe tbody tr th:only-of-type {\n",
       "        vertical-align: middle;\n",
       "    }\n",
       "\n",
       "    .dataframe tbody tr th {\n",
       "        vertical-align: top;\n",
       "    }\n",
       "\n",
       "    .dataframe thead th {\n",
       "        text-align: right;\n",
       "    }\n",
       "</style>\n",
       "<table border=\"1\" class=\"dataframe\">\n",
       "  <thead>\n",
       "    <tr style=\"text-align: right;\">\n",
       "      <th></th>\n",
       "      <th>Dependents</th>\n",
       "      <th>Self_Employed</th>\n",
       "      <th>ApplicantIncome</th>\n",
       "      <th>CoapplicantIncome</th>\n",
       "      <th>LoanAmount</th>\n",
       "      <th>Loan_Amount_Term</th>\n",
       "      <th>Credit_History</th>\n",
       "      <th>Property_Area</th>\n",
       "      <th>Cost_per_month</th>\n",
       "      <th>family_balance</th>\n",
       "    </tr>\n",
       "  </thead>\n",
       "  <tbody>\n",
       "    <tr>\n",
       "      <th>334</th>\n",
       "      <td>1</td>\n",
       "      <td>Yes</td>\n",
       "      <td>9833</td>\n",
       "      <td>1833.0</td>\n",
       "      <td>182000.0</td>\n",
       "      <td>180</td>\n",
       "      <td>1.0</td>\n",
       "      <td>Urban</td>\n",
       "      <td>1011.1</td>\n",
       "      <td>11166.0</td>\n",
       "    </tr>\n",
       "    <tr>\n",
       "      <th>212</th>\n",
       "      <td>1</td>\n",
       "      <td>Yes</td>\n",
       "      <td>7787</td>\n",
       "      <td>0.0</td>\n",
       "      <td>240000.0</td>\n",
       "      <td>360</td>\n",
       "      <td>1.0</td>\n",
       "      <td>Urban</td>\n",
       "      <td>666.7</td>\n",
       "      <td>7287.0</td>\n",
       "    </tr>\n",
       "    <tr>\n",
       "      <th>237</th>\n",
       "      <td>0</td>\n",
       "      <td>Yes</td>\n",
       "      <td>3463</td>\n",
       "      <td>0.0</td>\n",
       "      <td>122000.0</td>\n",
       "      <td>360</td>\n",
       "      <td>NaN</td>\n",
       "      <td>Urban</td>\n",
       "      <td>338.9</td>\n",
       "      <td>3463.0</td>\n",
       "    </tr>\n",
       "    <tr>\n",
       "      <th>246</th>\n",
       "      <td>2</td>\n",
       "      <td>No</td>\n",
       "      <td>9703</td>\n",
       "      <td>0.0</td>\n",
       "      <td>112000.0</td>\n",
       "      <td>360</td>\n",
       "      <td>1.0</td>\n",
       "      <td>Urban</td>\n",
       "      <td>311.1</td>\n",
       "      <td>8703.0</td>\n",
       "    </tr>\n",
       "    <tr>\n",
       "      <th>172</th>\n",
       "      <td>3</td>\n",
       "      <td>No</td>\n",
       "      <td>3522</td>\n",
       "      <td>0.0</td>\n",
       "      <td>81000.0</td>\n",
       "      <td>180</td>\n",
       "      <td>1.0</td>\n",
       "      <td>Rural</td>\n",
       "      <td>450.0</td>\n",
       "      <td>2022.0</td>\n",
       "    </tr>\n",
       "  </tbody>\n",
       "</table>\n",
       "</div>"
      ],
      "text/plain": [
       "     Dependents Self_Employed  ApplicantIncome  CoapplicantIncome  LoanAmount  \\\n",
       "334           1           Yes             9833             1833.0    182000.0   \n",
       "212           1           Yes             7787                0.0    240000.0   \n",
       "237           0           Yes             3463                0.0    122000.0   \n",
       "246           2            No             9703                0.0    112000.0   \n",
       "172           3            No             3522                0.0     81000.0   \n",
       "\n",
       "     Loan_Amount_Term  Credit_History Property_Area  Cost_per_month  \\\n",
       "334               180             1.0         Urban          1011.1   \n",
       "212               360             1.0         Urban           666.7   \n",
       "237               360             NaN         Urban           338.9   \n",
       "246               360             1.0         Urban           311.1   \n",
       "172               180             1.0         Rural           450.0   \n",
       "\n",
       "     family_balance  \n",
       "334         11166.0  \n",
       "212          7287.0  \n",
       "237          3463.0  \n",
       "246          8703.0  \n",
       "172          2022.0  "
      ]
     },
     "execution_count": 883,
     "metadata": {},
     "output_type": "execute_result"
    }
   ],
   "source": [
    "X_train.head()"
   ]
  },
  {
   "cell_type": "markdown",
   "metadata": {},
   "source": [
    "Everything works fine i can continue with encoding."
   ]
  },
  {
   "cell_type": "markdown",
   "metadata": {},
   "source": [
    "<div class=\"alert alert-block alert-danger\"><b>Step 3 completition: after encoding and decoding</b></div>"
   ]
  },
  {
   "cell_type": "markdown",
   "metadata": {},
   "source": [
    "[Link to NumTransformer class - encoding](#ColumnsChanger)"
   ]
  },
  {
   "cell_type": "code",
   "execution_count": 1941,
   "metadata": {},
   "outputs": [],
   "source": [
    "columns_to_delete = [\"Loan_ID\",\"Credit_History\"]\n",
    "\n",
    "pipeline_datachanger = Pipeline([(\"changing data\", DataChanger_nan())]) #nan replacer\n",
    "pipeline_columnschanger = Pipeline([(\"adding and deleting columns\", ColumnsChanger(columns_to_drop=columns_to_delete,\n",
    "                                                                                  cost_per_month = False, \n",
    "                                                                                family_balance = False))])\n",
    "\n",
    "pipeline_encoder = Pipeline([(\"encoding\", NumTransformer(StandardScaler, column_transfer =[\"Property_Area_OHE\"]))])\n",
    "\n",
    "\n",
    "#just packing two pipelines above together\n",
    "full_pipeline = Pipeline(steps=[(\"basic change\", pipeline_datachanger),\n",
    "                              (\"column_transformer\", pipeline_columnschanger),\n",
    "                               (\"encoding\",pipeline_encoder)])\n",
    "\n",
    "\n",
    "split_data = pd.read_csv(\"train.csv\") #loading data\n",
    "X, y = split_data.iloc[:,:-1], split_data.iloc[:,-1] #labels off\n",
    "n = 20\n",
    "\n",
    "for _ in range(n):\n",
    "    #splitting to train, test with n splits\n",
    "    X_train, X_test, y_train, y_test = train_test_split(\n",
    "    X, y, test_size=random.randint(15,30)/100) #i am also using randomized split for now from 15-30%\n",
    "    \n",
    "    X_train = full_pipeline.fit_transform(X_train)\n",
    "    X_test = full_pipeline.transform(X_test)"
   ]
  },
  {
   "cell_type": "markdown",
   "metadata": {},
   "source": [
    "<div class=\"alert alert-block alert-info\"><b>Note4: </b> If my model won't be performing good, this is a first stop for checking what is going wrong.</div>"
   ]
  },
  {
   "cell_type": "markdown",
   "metadata": {},
   "source": [
    "***Simple playground***"
   ]
  },
  {
   "cell_type": "code",
   "execution_count": 1964,
   "metadata": {},
   "outputs": [],
   "source": [
    "columns_to_delete = [\"Loan_ID\",\"Gender\",\"Married\",\"Education\",\"Self_Employed\",\"ApplicantIncome\",\\\n",
    "                    \"CoapplicantIncome\",\"LoanAmount\",\"Loan_Amount_Term\",\"Loan_Status\"]"
   ]
  },
  {
   "cell_type": "code",
   "execution_count": 1965,
   "metadata": {},
   "outputs": [],
   "source": [
    "pipeline_encoder = Pipeline([(\"encoding\", NumTransformer(StandardScaler, column_transfer =[\"Property_Area_OHE\"]))])\n",
    "pipeline_columnschanger = Pipeline([(\"adding and deleting columns\", ColumnsChanger(columns_to_drop=columns_to_delete,\n",
    "                                                                                  cost_per_month = False, \n",
    "                                                                                family_balance = False))])\n",
    "pipeline_datachanger = Pipeline([(\"changing data\", DataChanger_nan())])"
   ]
  },
  {
   "cell_type": "code",
   "execution_count": 1966,
   "metadata": {},
   "outputs": [],
   "source": [
    "full_pipeline2 = Pipeline(steps=[(\"basic change\", pipeline_datachanger),\n",
    "                              (\"column_transformer\", pipeline_columnschanger),\n",
    "                               (\"encoding\",pipeline_encoder)])"
   ]
  },
  {
   "cell_type": "code",
   "execution_count": 1976,
   "metadata": {},
   "outputs": [],
   "source": [
    "trying = full_pipeline2.fit_transform(pd.read_csv(\"train.csv\"))"
   ]
  },
  {
   "cell_type": "code",
   "execution_count": 1960,
   "metadata": {},
   "outputs": [],
   "source": [
    "filter_arr = trying == 3"
   ]
  },
  {
   "cell_type": "code",
   "execution_count": 1961,
   "metadata": {},
   "outputs": [
    {
     "data": {
      "text/plain": [
       "(284,)"
      ]
     },
     "execution_count": 1961,
     "metadata": {},
     "output_type": "execute_result"
    }
   ],
   "source": [
    "trying[filter_arr].shape"
   ]
  },
  {
   "cell_type": "markdown",
   "metadata": {},
   "source": [
    "I am just looking if I have enough of threes and number is luckily correct :). I have 51x 3+ in train.csv and 233 customers living in Semiurban. Only thing which can go wrong with my last transformer is ordinal encoding, no need to check other data."
   ]
  },
  {
   "cell_type": "markdown",
   "metadata": {},
   "source": [
    "## Final Model"
   ]
  },
  {
   "cell_type": "markdown",
   "metadata": {},
   "source": [
    "### Model selection"
   ]
  },
  {
   "cell_type": "markdown",
   "metadata": {},
   "source": [
    "Finally it's time to finish whole project. Previous 3 steps, were just building block for this part, i just wanted to make sure that everything is working before i will pack all together."
   ]
  },
  {
   "cell_type": "markdown",
   "metadata": {},
   "source": [
    "<div class=\"alert alert-block alert-danger\"><b>Step 4 completition: Creating ML model</b></div>"
   ]
  },
  {
   "cell_type": "markdown",
   "metadata": {},
   "source": [
    "[Link to Credit_History update](#credit_history)"
   ]
  },
  {
   "cell_type": "markdown",
   "metadata": {},
   "source": [
    "<div class=\"alert alert-block alert-warning\"><b>Basic lists for score metrics</b>"
   ]
  },
  {
   "cell_type": "code",
   "execution_count": 2501,
   "metadata": {},
   "outputs": [],
   "source": [
    "n = 20 #coefficient for my iterations..\n",
    "precision, recall, acurracy = [], [], [] #lists for recieving testing results\n",
    "final, pre_max, re_max, acc_max = [], [], [], [] #and lists for final table with top results\n",
    "pre_min, re_min, acc_min = [], [], [] #and my min. values\n",
    "pre_avg, re_avg, acc_avg = [], [], [] #and average values\n",
    "classifier_list = [(type(classifier).__name__) for classifier in classifiers]\n",
    "#i am just listing all names of my classifiers - so they are only names and not callables"
   ]
  },
  {
   "cell_type": "markdown",
   "metadata": {},
   "source": [
    "<div class=\"alert alert-block alert-warning\"><b>Classifiers</b>"
   ]
  },
  {
   "cell_type": "code",
   "execution_count": 2502,
   "metadata": {},
   "outputs": [],
   "source": [
    "classifiers = [\n",
    "    SVC(kernel=\"rbf\", C=0.025, probability=True),\n",
    "    DecisionTreeClassifier(),\n",
    "    RandomForestClassifier(),\n",
    "    AdaBoostClassifier(),\n",
    "    GradientBoostingClassifier(),\n",
    "    ExtraTreesClassifier(),\n",
    "    BaggingClassifier(),\n",
    "    LogisticRegression(),\n",
    "    LinearDiscriminantAnalysis(),\n",
    "    ]"
   ]
  },
  {
   "cell_type": "markdown",
   "metadata": {},
   "source": [
    "<div class=\"alert alert-block alert-warning\"><b>Pipelines</b>"
   ]
  },
  {
   "cell_type": "markdown",
   "metadata": {},
   "source": [
    "I need to also choose my options for filling Credit_History column."
   ]
  },
  {
   "cell_type": "code",
   "execution_count": 2503,
   "metadata": {},
   "outputs": [],
   "source": [
    "columns_to_delete = [\"Loan_ID\",\"Gender\"]\n",
    "\n",
    "pipeline_datachanger = Pipeline([(\"changing data\", DataChanger_nan(credit_history_option=2))]) #nan replacer\n",
    "pipeline_columnschanger = Pipeline([(\"adding and deleting columns\", ColumnsChanger(columns_to_drop=columns_to_delete,\n",
    "                                                                                  cost_per_month = True, \n",
    "                                                                                family_balance = True))])\n",
    "\n",
    "pipeline_encoder = Pipeline([(\"encoding\", NumTransformer(Normalizer, column_transfer =\\\n",
    "                                                         [\"Property_Area_OHE\"]))])\n",
    "\n",
    "\n",
    "full_pipeline = Pipeline(steps=[(\"basic change\", pipeline_datachanger),\n",
    "                              (\"column_transformer\", pipeline_columnschanger),\n",
    "                               (\"encoding\",pipeline_encoder)])"
   ]
  },
  {
   "cell_type": "markdown",
   "metadata": {},
   "source": [
    "<div class=\"alert alert-block alert-warning\"><b>Testing</b>"
   ]
  },
  {
   "cell_type": "code",
   "execution_count": 2504,
   "metadata": {},
   "outputs": [],
   "source": [
    "X_y = pd.read_csv(\"train.csv\")\n",
    "X, y = X_y.iloc[:,:-1], X_y.iloc[:,-1:]\n",
    "\n",
    "for _ in range(n):\n",
    "    #splitting to train, test with n splits\n",
    "    X_train, X_test, y_train, y_test = train_test_split(\n",
    "    X, y, test_size=random.randint(15,30)/100) #i am also using randomized split for now from 15-30%\n",
    "    \n",
    "    X_train = full_pipeline.fit_transform(X_train)\n",
    "    X_test = full_pipeline.transform(X_test)\n",
    "    \n",
    "    for classifier in classifiers: #i will iterate through all of my classifiers\n",
    "        classifier.fit(X_train, y_train) #training my data\n",
    "        y_pred = classifier.predict(X_test) #making a prediction\n",
    "        recall.append(recall_score(y_test, y_pred, pos_label='Y'))\n",
    "        precision.append(precision_score(y_test, y_pred, pos_label='Y'))\n",
    "        acurracy.append(accuracy_score(y_test,y_pred)) "
   ]
  },
  {
   "cell_type": "markdown",
   "metadata": {},
   "source": [
    "<div class=\"alert alert-block alert-warning\"><b>Evaluating</b>"
   ]
  },
  {
   "cell_type": "code",
   "execution_count": 2505,
   "metadata": {},
   "outputs": [
    {
     "data": {
      "text/html": [
       "<div>\n",
       "<style scoped>\n",
       "    .dataframe tbody tr th:only-of-type {\n",
       "        vertical-align: middle;\n",
       "    }\n",
       "\n",
       "    .dataframe tbody tr th {\n",
       "        vertical-align: top;\n",
       "    }\n",
       "\n",
       "    .dataframe thead th {\n",
       "        text-align: right;\n",
       "    }\n",
       "</style>\n",
       "<table border=\"1\" class=\"dataframe\">\n",
       "  <thead>\n",
       "    <tr style=\"text-align: right;\">\n",
       "      <th></th>\n",
       "      <th>classifier</th>\n",
       "      <th>Recall_min</th>\n",
       "      <th>Recall_avg</th>\n",
       "      <th>Recall_max</th>\n",
       "      <th>Precision_min</th>\n",
       "      <th>Precision_avg</th>\n",
       "      <th>Precision_max</th>\n",
       "      <th>Accuracy_min</th>\n",
       "      <th>Accuracy_avg</th>\n",
       "      <th>Accuracy_max</th>\n",
       "    </tr>\n",
       "  </thead>\n",
       "  <tbody>\n",
       "    <tr>\n",
       "      <th>0</th>\n",
       "      <td>SVC</td>\n",
       "      <td>1.000000</td>\n",
       "      <td>1.000000</td>\n",
       "      <td>1.000000</td>\n",
       "      <td>0.650000</td>\n",
       "      <td>0.697265</td>\n",
       "      <td>0.774775</td>\n",
       "      <td>0.650000</td>\n",
       "      <td>0.697265</td>\n",
       "      <td>0.774775</td>\n",
       "    </tr>\n",
       "    <tr>\n",
       "      <th>1</th>\n",
       "      <td>DecisionTreeClassifier</td>\n",
       "      <td>0.710843</td>\n",
       "      <td>0.787412</td>\n",
       "      <td>0.920635</td>\n",
       "      <td>0.713115</td>\n",
       "      <td>0.780408</td>\n",
       "      <td>0.850000</td>\n",
       "      <td>0.651163</td>\n",
       "      <td>0.696706</td>\n",
       "      <td>0.753521</td>\n",
       "    </tr>\n",
       "    <tr>\n",
       "      <th>2</th>\n",
       "      <td>RandomForestClassifier</td>\n",
       "      <td>0.837607</td>\n",
       "      <td>0.904379</td>\n",
       "      <td>0.959016</td>\n",
       "      <td>0.748092</td>\n",
       "      <td>0.805084</td>\n",
       "      <td>0.851485</td>\n",
       "      <td>0.697674</td>\n",
       "      <td>0.780512</td>\n",
       "      <td>0.828571</td>\n",
       "    </tr>\n",
       "    <tr>\n",
       "      <th>3</th>\n",
       "      <td>AdaBoostClassifier</td>\n",
       "      <td>0.870229</td>\n",
       "      <td>0.914631</td>\n",
       "      <td>0.980769</td>\n",
       "      <td>0.753247</td>\n",
       "      <td>0.797658</td>\n",
       "      <td>0.864078</td>\n",
       "      <td>0.739437</td>\n",
       "      <td>0.778603</td>\n",
       "      <td>0.852713</td>\n",
       "    </tr>\n",
       "    <tr>\n",
       "      <th>4</th>\n",
       "      <td>GradientBoostingClassifier</td>\n",
       "      <td>0.846154</td>\n",
       "      <td>0.914838</td>\n",
       "      <td>0.960396</td>\n",
       "      <td>0.736842</td>\n",
       "      <td>0.793665</td>\n",
       "      <td>0.852632</td>\n",
       "      <td>0.709302</td>\n",
       "      <td>0.775125</td>\n",
       "      <td>0.830986</td>\n",
       "    </tr>\n",
       "    <tr>\n",
       "      <th>5</th>\n",
       "      <td>ExtraTreesClassifier</td>\n",
       "      <td>0.783133</td>\n",
       "      <td>0.877090</td>\n",
       "      <td>0.936170</td>\n",
       "      <td>0.730769</td>\n",
       "      <td>0.792835</td>\n",
       "      <td>0.846154</td>\n",
       "      <td>0.709677</td>\n",
       "      <td>0.754089</td>\n",
       "      <td>0.821705</td>\n",
       "    </tr>\n",
       "    <tr>\n",
       "      <th>6</th>\n",
       "      <td>BaggingClassifier</td>\n",
       "      <td>0.753846</td>\n",
       "      <td>0.844661</td>\n",
       "      <td>0.932692</td>\n",
       "      <td>0.740458</td>\n",
       "      <td>0.804252</td>\n",
       "      <td>0.873950</td>\n",
       "      <td>0.686869</td>\n",
       "      <td>0.748120</td>\n",
       "      <td>0.809524</td>\n",
       "    </tr>\n",
       "    <tr>\n",
       "      <th>7</th>\n",
       "      <td>LogisticRegression</td>\n",
       "      <td>0.661538</td>\n",
       "      <td>0.952802</td>\n",
       "      <td>0.982301</td>\n",
       "      <td>0.739130</td>\n",
       "      <td>0.794096</td>\n",
       "      <td>0.844037</td>\n",
       "      <td>0.676768</td>\n",
       "      <td>0.794834</td>\n",
       "      <td>0.852713</td>\n",
       "    </tr>\n",
       "    <tr>\n",
       "      <th>8</th>\n",
       "      <td>LinearDiscriminantAnalysis</td>\n",
       "      <td>0.846154</td>\n",
       "      <td>0.956714</td>\n",
       "      <td>0.980769</td>\n",
       "      <td>0.739130</td>\n",
       "      <td>0.792193</td>\n",
       "      <td>0.844037</td>\n",
       "      <td>0.744186</td>\n",
       "      <td>0.795066</td>\n",
       "      <td>0.852713</td>\n",
       "    </tr>\n",
       "  </tbody>\n",
       "</table>\n",
       "</div>"
      ],
      "text/plain": [
       "                   classifier  Recall_min  Recall_avg  Recall_max  \\\n",
       "0                         SVC    1.000000    1.000000    1.000000   \n",
       "1      DecisionTreeClassifier    0.710843    0.787412    0.920635   \n",
       "2      RandomForestClassifier    0.837607    0.904379    0.959016   \n",
       "3          AdaBoostClassifier    0.870229    0.914631    0.980769   \n",
       "4  GradientBoostingClassifier    0.846154    0.914838    0.960396   \n",
       "5        ExtraTreesClassifier    0.783133    0.877090    0.936170   \n",
       "6           BaggingClassifier    0.753846    0.844661    0.932692   \n",
       "7          LogisticRegression    0.661538    0.952802    0.982301   \n",
       "8  LinearDiscriminantAnalysis    0.846154    0.956714    0.980769   \n",
       "\n",
       "   Precision_min  Precision_avg  Precision_max  Accuracy_min  Accuracy_avg  \\\n",
       "0       0.650000       0.697265       0.774775      0.650000      0.697265   \n",
       "1       0.713115       0.780408       0.850000      0.651163      0.696706   \n",
       "2       0.748092       0.805084       0.851485      0.697674      0.780512   \n",
       "3       0.753247       0.797658       0.864078      0.739437      0.778603   \n",
       "4       0.736842       0.793665       0.852632      0.709302      0.775125   \n",
       "5       0.730769       0.792835       0.846154      0.709677      0.754089   \n",
       "6       0.740458       0.804252       0.873950      0.686869      0.748120   \n",
       "7       0.739130       0.794096       0.844037      0.676768      0.794834   \n",
       "8       0.739130       0.792193       0.844037      0.744186      0.795066   \n",
       "\n",
       "   Accuracy_max  \n",
       "0      0.774775  \n",
       "1      0.753521  \n",
       "2      0.828571  \n",
       "3      0.852713  \n",
       "4      0.830986  \n",
       "5      0.821705  \n",
       "6      0.809524  \n",
       "7      0.852713  \n",
       "8      0.852713  "
      ]
     },
     "execution_count": 2505,
     "metadata": {},
     "output_type": "execute_result"
    }
   ],
   "source": [
    "#getting data for my evaluation table        \n",
    "for s in range(len(classifier_list)):\n",
    "    pre_max.append(max(precision[s::len(classifier_list)]))\n",
    "    re_max.append(max(recall[s::len(classifier_list)]))\n",
    "    acc_max.append(max(acurracy[s::len(classifier_list)]))\n",
    "    final.append(classifier_list[s])\n",
    "\n",
    "    pre_min.append(min(precision[s::len(classifier_list)]))\n",
    "    re_min.append(min(recall[s::len(classifier_list)]))\n",
    "    acc_min.append(min(acurracy[s::len(classifier_list)]))\n",
    "\n",
    "    pre_avg.append(np.mean(precision[s::len(classifier_list)]))\n",
    "    re_avg.append(np.mean(recall[s::len(classifier_list)]))\n",
    "    acc_avg.append(np.mean(acurracy[s::len(classifier_list)]))\n",
    "\n",
    "#final results of my models   \n",
    "final_result = pd.DataFrame(None)\n",
    "final_result = pd.DataFrame(data = {\"classifier\" : final,\n",
    "                                    \"Recall_min\" : re_min,\n",
    "                                    \"Recall_avg\" : re_avg,\n",
    "                                    \"Recall_max\" : re_max,\n",
    "                                    \"Precision_min\" : pre_min,\n",
    "                                    \"Precision_avg\" : pre_avg,\n",
    "                                    \"Precision_max\" : pre_max,\n",
    "                                    \"Accuracy_min\" : acc_min,\n",
    "                                    \"Accuracy_avg\" : acc_avg,\n",
    "                                    \"Accuracy_max\" : acc_max,                                                                                    \n",
    "    })\n",
    "\n",
    "final result"
   ]
  },
  {
   "cell_type": "markdown",
   "metadata": {},
   "source": [
    "Model has something about 80% average accuracy at best. I will use LogisticRegression model for hyperparameter tunning and Randomforrest classifier."
   ]
  },
  {
   "cell_type": "markdown",
   "metadata": {},
   "source": [
    "<p style=\"background:black\">\n",
    "<code style=\"background:black;color:white\">TOP RESULTS LDA: Recall = 0.956714, Acurracy = 0.795066 Precision = 0.792193)\n",
    "</code>\n",
    "</p>"
   ]
  },
  {
   "cell_type": "markdown",
   "metadata": {},
   "source": [
    "### Hyperparameters and Model tuning"
   ]
  },
  {
   "cell_type": "markdown",
   "metadata": {},
   "source": [
    "<div class=\"alert alert-block alert-warning\"><b>Basic settings:</b> our pipe and split</div>"
   ]
  },
  {
   "cell_type": "code",
   "execution_count": 2506,
   "metadata": {},
   "outputs": [],
   "source": [
    "from sklearn.model_selection import GridSearchCV"
   ]
  },
  {
   "cell_type": "markdown",
   "metadata": {},
   "source": [
    "Firstly some mandatory splitting, only a simple verison."
   ]
  },
  {
   "cell_type": "code",
   "execution_count": 2523,
   "metadata": {
    "scrolled": true
   },
   "outputs": [],
   "source": [
    "def split_for_tuning():\n",
    "    X_y = pd.read_csv(\"train.csv\")\n",
    "    X_y = X_y.drop(\"Loan_ID\", axis=1)\n",
    "    X, y = X_y.iloc[:,:-1], X_y.iloc[:,-1:]\n",
    "\n",
    "    X_train, X_test, y_train, y_test = train_test_split(\n",
    "        X, y, test_size=0.35) \n",
    "    \n",
    "    return X_train, X_test, y_train, y_test"
   ]
  },
  {
   "cell_type": "markdown",
   "metadata": {},
   "source": [
    "Next stop, is setting up my pipelines for GridSearch."
   ]
  },
  {
   "cell_type": "code",
   "execution_count": 2511,
   "metadata": {},
   "outputs": [],
   "source": [
    "full_pipeline_log = Pipeline(steps=[(\"basic_change\", DataChanger_nan()),\n",
    "                              (\"column_transformer\", ColumnsChanger()),\n",
    "                               (\"encoding\",NumTransformer()),\n",
    "                               (\"classifier\",LogisticRegression())])"
   ]
  },
  {
   "cell_type": "markdown",
   "metadata": {},
   "source": [
    "<div class=\"alert alert-block alert-info\"><b>Note5:</b> It is my first time i am doing GridSearch with custom transformer so it is a little clumsy :), one important note - better to use default parameters in custom transformers, because GridSearch except callable - probably a default form of transformer. If you don't have default parameters you can still add them in your param_grid.</div>"
   ]
  },
  {
   "cell_type": "markdown",
   "metadata": {},
   "source": [
    "<div class=\"alert alert-block alert-warning\"><b>LF Hyperparameters</b></div>"
   ]
  },
  {
   "cell_type": "markdown",
   "metadata": {},
   "source": [
    "It's very straightforward, I am going to try some combinations for all of four transformers and hopefully be able to improve prediction a little bit. I could try more combinations but it would take more time, even for dataset small like this one, therefore I use only these i consider more important."
   ]
  },
  {
   "cell_type": "markdown",
   "metadata": {},
   "source": [
    "**For LogisticRegression**"
   ]
  },
  {
   "cell_type": "code",
   "execution_count": 2524,
   "metadata": {},
   "outputs": [],
   "source": [
    "#if I will have somewhere only one options I probably filter the second out - so i could decrease a computation time\n",
    "\n",
    "param_grid_log = {\n",
    "    \"basic_change__credit_history_option\" : [2,1],\n",
    "    \n",
    "    #columns changer param\n",
    "    \"column_transformer__cost_per_month\" : [True, False],\n",
    "    \"column_transformer__family_balance\" : [True, False],\n",
    "    \"column_transformer__cost_per_person\" : [0, 500, 3000],\n",
    "    \"column_transformer__family_loan_cost\" : [False, True],\n",
    "    #i could you combinations but for this purpose this will be enough\n",
    "    \"column_transformer__columns_to_drop\" : [\"Gender\", \"Married\"],                                         \n",
    "    \n",
    "    #encoding param\n",
    "    \"encoding__transformer_name\" : [Normalizer, StandardScaler], \n",
    "    \"encoding__column_transfer\" : [\"Property_Area_OHE\",\"Education_OHE\",\"Self_Employed_OHE\"],                            \n",
    "    #classifier param\n",
    "    \"classifier__C\" : np.logspace(-4,4,20),\n",
    "    \"classifier__solver\" : ['liblinear'],\n",
    "    \"classifier__penalty\" : ['l1', 'l2']\n",
    "    \n",
    "}"
   ]
  },
  {
   "cell_type": "code",
   "execution_count": 2646,
   "metadata": {},
   "outputs": [],
   "source": [
    "log = GridSearchCV(full_pipeline_log, param_grid_log, n_jobs= 1)\n",
    "X_train, X_test, y_train, y_test = split_for_tuning()"
   ]
  },
  {
   "cell_type": "code",
   "execution_count": 2649,
   "metadata": {},
   "outputs": [],
   "source": [
    "log_model = log.fit(X_train, y_train)"
   ]
  },
  {
   "cell_type": "code",
   "execution_count": 2653,
   "metadata": {
    "scrolled": true
   },
   "outputs": [
    {
     "data": {
      "text/plain": [
       "({'basic_change__credit_history_option': 2,\n",
       "  'classifier__C': 0.08858667904100823,\n",
       "  'classifier__penalty': 'l2',\n",
       "  'classifier__solver': 'liblinear',\n",
       "  'column_transformer__columns_to_drop': 'Married',\n",
       "  'column_transformer__cost_per_month': True,\n",
       "  'column_transformer__cost_per_person': 0,\n",
       "  'column_transformer__family_balance': True,\n",
       "  'column_transformer__family_loan_cost': False,\n",
       "  'encoding__column_transfer': 'Education_OHE',\n",
       "  'encoding__transformer_name': sklearn.preprocessing._data.Normalizer},\n",
       " 0.8045253164556962)"
      ]
     },
     "execution_count": 2653,
     "metadata": {},
     "output_type": "execute_result"
    }
   ],
   "source": [
    "log_model.best_params_ , log_model.best_score_"
   ]
  },
  {
   "cell_type": "markdown",
   "metadata": {},
   "source": [
    "We have are optional hyperparameters for Logisticregression, but there is no significant difference, maybe a minor one."
   ]
  },
  {
   "cell_type": "markdown",
   "metadata": {},
   "source": [
    "**For RandomForrest**"
   ]
  },
  {
   "cell_type": "code",
   "execution_count": 2580,
   "metadata": {},
   "outputs": [],
   "source": [
    "full_pipeline_forrest = Pipeline(steps=[(\"basic_change\", DataChanger_nan()),\n",
    "                              (\"column_transformer\", ColumnsChanger()),\n",
    "                               (\"encoding\",NumTransformer()),\n",
    "                               (\"classifier\",RandomForestClassifier())])"
   ]
  },
  {
   "cell_type": "code",
   "execution_count": 2581,
   "metadata": {},
   "outputs": [],
   "source": [
    "param_grid_forrest = {\n",
    "    #columns changer param\n",
    "    \"column_transformer__cost_per_month\" : [True],\n",
    "    \"column_transformer__family_balance\" : [True, False],\n",
    "    \"column_transformer__cost_per_person\" : [0],\n",
    "    \"column_transformer__family_loan_cost\" : [False, True],\n",
    "    #i could you combinations but for this purpose this will be enough\n",
    "    \"column_transformer__columns_to_drop\" : [\"Gender\"],                                         \n",
    "    \n",
    "    #encoding param\n",
    "    \"encoding__transformer_name\" : [Normalizer], #this one is simple\n",
    "    \"encoding__column_transfer\" : [\"Property_Area_OHE\",\"Education_OHE\",\"Self_Employed_OHE\"],\n",
    "    \n",
    "    #classifier param\n",
    "    'classifier__n_estimators': [100, 200],\n",
    "    'classifier__max_features': ['auto', 'sqrt', 'log2'],\n",
    "    'classifier__max_depth' : [4,5,6,7,8],\n",
    "    'classifier__criterion' :['gini', 'entropy'],\n",
    "    'classifier__min_samples_leaf': [1, 2, 4],\n",
    "    'classifier__min_samples_split': [2, 4, 6],}"
   ]
  },
  {
   "cell_type": "code",
   "execution_count": 2650,
   "metadata": {},
   "outputs": [],
   "source": [
    "forrest = GridSearchCV(full_pipeline_forrest, param_grid_forrest, n_jobs= 1)\n",
    "X_train, X_test, y_train, y_test = split_for_tuning()"
   ]
  },
  {
   "cell_type": "code",
   "execution_count": null,
   "metadata": {},
   "outputs": [],
   "source": [
    "forrest_model = forrest.fit(X_train, y_train)"
   ]
  },
  {
   "cell_type": "code",
   "execution_count": 2657,
   "metadata": {
    "scrolled": false
   },
   "outputs": [
    {
     "data": {
      "text/plain": [
       "({'classifier__criterion': 'gini',\n",
       "  'classifier__max_depth': 4,\n",
       "  'classifier__max_features': 'auto',\n",
       "  'classifier__min_samples_leaf': 1,\n",
       "  'classifier__min_samples_split': 2,\n",
       "  'classifier__n_estimators': 100,\n",
       "  'column_transformer__columns_to_drop': 'Gender',\n",
       "  'column_transformer__cost_per_month': True,\n",
       "  'column_transformer__cost_per_person': 0,\n",
       "  'column_transformer__family_balance': True,\n",
       "  'column_transformer__family_loan_cost': False,\n",
       "  'encoding__column_transfer': 'Property_Area_OHE',\n",
       "  'encoding__transformer_name': sklearn.preprocessing._data.Normalizer},\n",
       " nan)"
      ]
     },
     "execution_count": 2657,
     "metadata": {},
     "output_type": "execute_result"
    }
   ],
   "source": [
    "forrest.best_params_, forrest.best_score_"
   ]
  },
  {
   "cell_type": "markdown",
   "metadata": {},
   "source": [
    "Our top score is Nan but i guess there won't be any big difference, I will use this setting anyway."
   ]
  },
  {
   "cell_type": "markdown",
   "metadata": {},
   "source": [
    "<div class=\"alert alert-block alert-danger\"><b>Combining more models together</b></div>"
   ]
  },
  {
   "cell_type": "markdown",
   "metadata": {},
   "source": [
    "I would like to try combine some of the best models."
   ]
  },
  {
   "cell_type": "code",
   "execution_count": 2664,
   "metadata": {
    "scrolled": true
   },
   "outputs": [],
   "source": [
    "estimator = []\n",
    "estimator.append(('LOG', LogisticRegression(C =0.8858667904100823, \n",
    "                                            penalty = \"l2\", \n",
    "                                            solver = \"liblinear\")))\n",
    "\n",
    "\n",
    "estimator.append(('RFC', RandomForestClassifier(criterion = \"gini\",\n",
    "                                                max_depth = 4,\n",
    "                                                max_features = \"auto\",\n",
    "                                                min_samples_leaf =  1,\n",
    "                                                min_samples_split = 2,\n",
    "                                                n_estimators = 100)))  #randomforrest a top parametry\n",
    "estimator.append(('ADA', AdaBoostClassifier()))\n"
   ]
  },
  {
   "cell_type": "code",
   "execution_count": 2665,
   "metadata": {},
   "outputs": [],
   "source": [
    "vot_soft = VotingClassifier(estimators = estimator, voting ='soft')"
   ]
  },
  {
   "cell_type": "code",
   "execution_count": 2670,
   "metadata": {},
   "outputs": [],
   "source": [
    "columns_to_delete = [\"Loan_ID\",\"Gender\"] #married 50/50\n",
    "\n",
    "pipeline_datachanger = Pipeline([(\"changing data\", DataChanger_nan(credit_history_option=2))]) #nan replacer\n",
    "pipeline_columnschanger = Pipeline([(\"adding and deleting columns\", ColumnsChanger(columns_to_drop=columns_to_delete,\n",
    "                                                                                  cost_per_month = True, \n",
    "                                                                                family_balance = True,\n",
    "                                                                                  cost_per_person = 0,\n",
    "                                                                                  family_loan_cost = False))])\n",
    "\n",
    "pipeline_encoder = Pipeline([(\"encoding\", NumTransformer(Normalizer, column_transfer =\\\n",
    "                                                         [\"Property_Area_OHE\", \"Education_OHE\"]))])\n",
    "\n",
    "\n",
    "full_pipeline = Pipeline(steps=[(\"basic change\", pipeline_datachanger),\n",
    "                              (\"column_transformer\", pipeline_columnschanger),\n",
    "                               (\"encoding\",pipeline_encoder)])"
   ]
  },
  {
   "cell_type": "code",
   "execution_count": 2671,
   "metadata": {},
   "outputs": [],
   "source": [
    "X_y = pd.read_csv(\"train.csv\")\n",
    "X, y = X_y.iloc[:,:-1], X_y.iloc[:,-1:]\n",
    "recall, precision, acurracy = [], [], []\n",
    "\n",
    "for _ in range(n):\n",
    "    #splitting to train, test with n splits\n",
    "    X_train, X_test, y_train, y_test = train_test_split(\n",
    "    X, y, test_size=random.randint(15,30)/100) #i am also using randomized split for now from 15-30%\n",
    "    \n",
    "    X_train = full_pipeline.fit_transform(X_train)\n",
    "    X_test = full_pipeline.transform(X_test)\n",
    "    \n",
    "    vot_soft.fit(X_train, y_train) #training my data\n",
    "    y_pred = vot_soft.predict(X_test) #making a prediction\n",
    "    recall.append(recall_score(y_test, y_pred, pos_label='Y'))\n",
    "    precision.append(precision_score(y_test, y_pred, pos_label='Y'))\n",
    "    acurracy.append(accuracy_score(y_test,y_pred)) "
   ]
  },
  {
   "cell_type": "code",
   "execution_count": 2673,
   "metadata": {},
   "outputs": [],
   "source": [
    "np.mean(recall), np.mean(acurracy), np.mean(precision);"
   ]
  },
  {
   "cell_type": "markdown",
   "metadata": {},
   "source": [
    "<p style=\"background:black\">\n",
    "<code style=\"background:black;color:white\">Recall = 0.956796138507087, Acurracy = 0.8091159618855348 Precision = 0.8086178386973651)\n",
    "</code>\n",
    "</p>"
   ]
  },
  {
   "cell_type": "code",
   "execution_count": 2680,
   "metadata": {},
   "outputs": [
    {
     "data": {
      "text/plain": [
       "array([[ 19,  32],\n",
       "       [  4, 130]], dtype=int64)"
      ]
     },
     "execution_count": 2680,
     "metadata": {},
     "output_type": "execute_result"
    }
   ],
   "source": [
    "confusion_matrix(y_test, y_pred)"
   ]
  },
  {
   "cell_type": "markdown",
   "metadata": {},
   "source": [
    "We can see that we pushed our model a little bit. This is probably best result I achieved in this project."
   ]
  },
  {
   "cell_type": "markdown",
   "metadata": {},
   "source": [
    "<div class=\"alert alert-block alert-danger\"><b>Deleting outliers from train</b></div>"
   ]
  },
  {
   "cell_type": "markdown",
   "metadata": {},
   "source": [
    "Here i wanna try a small experiment. I will delete outliers from train and see if I can predict better. My outliers are unlucky rich and lucky poor :), the ones which were accepted or rejected by mistake (in my opinion). I will predict my values "
   ]
  },
  {
   "cell_type": "code",
   "execution_count": 2674,
   "metadata": {},
   "outputs": [],
   "source": [
    "def deleting_outliers(data):\n",
    "    \"\"\"optional functio for dropping an outliers based on quantil - default is 0.9\"\"\"\n",
    "    quaintile_rate_upper = outlier_quantil_rate #calculating our quantil rate and limits\n",
    "    quaintile_rate_lower = 1-quaintile_rate_upper\n",
    "    lower_limit = data[\"ApplicantIncome\"].quantile(quaintile_rate_lower)\n",
    "    upper_limit = data[\"ApplicantIncome\"].quantile(quaintile_rate_upper)\n",
    "\n",
    "    #our condition for top and bottom quantil - considering credit_histor and loan status\n",
    "    unlucky_rich = data[(data[\"ApplicantIncome\"] > upper_limit)& (data[\"Credit_History\"]== 1.0)& \\\n",
    "                        (data[\"Loan_Status\"]== \"N\")]\n",
    "\n",
    "    lucky_poor = data[(data[\"ApplicantIncome\"] < lower_limit)&(data[\"Credit_History\"]== 0.0)& \\\n",
    "                        (data[\"Loan_Status\"]== \"Y\")]\n",
    "\n",
    "    data.drop(lucky_poor.index.union(unlucky_rich.index), inplace=True)\n",
    "    return data"
   ]
  },
  {
   "cell_type": "markdown",
   "metadata": {},
   "source": [
    "Now the process is very similar, just a small change in my split."
   ]
  },
  {
   "cell_type": "code",
   "execution_count": 2734,
   "metadata": {},
   "outputs": [],
   "source": [
    "n = 20 #coefficient for my iterations..\n",
    "precision, recall, acurracy = [], [], [] #lists for recieving testing results\n",
    "outlier_quantil_rate = 0.9\n",
    "\n",
    "\"\"\"_________________________________________________SPLIT AND TESTING______________________________________________\"\"\"\n",
    "X_y = pd.read_csv(\"train.csv\") \n",
    "\n",
    "for _ in range(n):\n",
    "    X_train ,X_test = train_test_split(X_y, test_size=random.randint(15,30)/100)\n",
    "    X_train = deleting_outliers(X_train) #OUTLIER DELETER!\n",
    "\n",
    "    X_train, y_train = X_train.iloc[:,:-1], X_train.iloc[:,-1:]\n",
    "    X_test, y_test = X_test.iloc[:,:-1], X_test.iloc[:,-1:]\n",
    "\n",
    "    X_train = full_pipeline.fit_transform(X_train)\n",
    "    X_test = full_pipeline.transform(X_test)\n",
    "    \n",
    "    vot_soft.fit(X_train, y_train) #training my data\n",
    "    y_pred = vot_soft.predict(X_test) #making a prediction\n",
    "    recall.append(recall_score(y_test, y_pred, pos_label='Y'))\n",
    "    precision.append(precision_score(y_test, y_pred, pos_label='Y'))\n",
    "    acurracy.append(accuracy_score(y_test,y_pred)) "
   ]
  },
  {
   "cell_type": "code",
   "execution_count": 2740,
   "metadata": {},
   "outputs": [],
   "source": [
    "np.mean(recall), np.mean(precision), np.mean(acurracy);"
   ]
  },
  {
   "cell_type": "markdown",
   "metadata": {},
   "source": [
    "<p style=\"background:black\">\n",
    "<code style=\"background:black;color:white\">Recall = 0.9551932878195849, Acurracy = 0.7879577644503296 Precision = 0.7927027027027027)\n",
    "</code>\n",
    "</p>"
   ]
  },
  {
   "cell_type": "markdown",
   "metadata": {},
   "source": [
    "My outlier deletion didn't add any improvement."
   ]
  },
  {
   "cell_type": "markdown",
   "metadata": {},
   "source": [
    "<div class=\"alert alert-block alert-danger\"><b>Deleting Nan Credit_History from train + outliers</b>"
   ]
  },
  {
   "cell_type": "code",
   "execution_count": 2791,
   "metadata": {},
   "outputs": [],
   "source": [
    "n = 50 #coefficient for my iterations..\n",
    "precision, recall, acurracy = [], [], [] #lists for recieving testing results\n",
    "outlier_quantil_rate = 0.8\n",
    "y_test_m, y_pred_m = [], []\n",
    "\n",
    "\"\"\"_________________________________________________SPLIT AND TESTING______________________________________________\"\"\"\n",
    "X_y = pd.read_csv(\"train.csv\") \n",
    "\n",
    "for _ in range(n):\n",
    "    X_train ,X_test = train_test_split(X_y,test_size=random.randint(15,30)/100) \n",
    "    X_train = deleting_outliers(X_train) #Deleting outliers\n",
    "    X_train = X_train.dropna(subset=[\"Credit_History\"])#Deleting Credit_History Nan\n",
    "    \n",
    "    X_train, y_train = X_train.iloc[:,:-1], X_train.iloc[:,-1:]\n",
    "    X_test, y_test = X_test.iloc[:,:-1], X_test.iloc[:,-1:]\n",
    "\n",
    "    X_train = full_pipeline.fit_transform(X_train)\n",
    "    X_test = full_pipeline.transform(X_test)\n",
    "    \n",
    "    vot_soft.fit(X_train, y_train) #training my data\n",
    "    y_pred = vot_soft.predict(X_test) #making a prediction\n",
    "    recall.append(recall_score(y_test, y_pred, pos_label='Y'))\n",
    "    precision.append(precision_score(y_test, y_pred, pos_label='Y'))\n",
    "    acurracy.append(accuracy_score(y_test,y_pred)) \n",
    "    y_test_m.append(y_test)\n",
    "    y_pred_m.append(y_pred)"
   ]
  },
  {
   "cell_type": "markdown",
   "metadata": {},
   "source": [
    "So this is probably best model I have. Maximum accuracy is something about 86% and 80 on average."
   ]
  },
  {
   "cell_type": "code",
   "execution_count": 2792,
   "metadata": {},
   "outputs": [
    {
     "data": {
      "text/html": [
       "<div>\n",
       "<style scoped>\n",
       "    .dataframe tbody tr th:only-of-type {\n",
       "        vertical-align: middle;\n",
       "    }\n",
       "\n",
       "    .dataframe tbody tr th {\n",
       "        vertical-align: top;\n",
       "    }\n",
       "\n",
       "    .dataframe thead th {\n",
       "        text-align: right;\n",
       "    }\n",
       "</style>\n",
       "<table border=\"1\" class=\"dataframe\">\n",
       "  <thead>\n",
       "    <tr style=\"text-align: right;\">\n",
       "      <th></th>\n",
       "      <th>Recall</th>\n",
       "      <th>Precision</th>\n",
       "      <th>Accuracy</th>\n",
       "    </tr>\n",
       "  </thead>\n",
       "  <tbody>\n",
       "    <tr>\n",
       "      <th>Max</th>\n",
       "      <td>1.000000</td>\n",
       "      <td>0.858209</td>\n",
       "      <td>0.867470</td>\n",
       "    </tr>\n",
       "    <tr>\n",
       "      <th>Mean</th>\n",
       "      <td>0.961707</td>\n",
       "      <td>0.795371</td>\n",
       "      <td>0.802271</td>\n",
       "    </tr>\n",
       "    <tr>\n",
       "      <th>Min</th>\n",
       "      <td>0.935897</td>\n",
       "      <td>0.722772</td>\n",
       "      <td>0.717949</td>\n",
       "    </tr>\n",
       "  </tbody>\n",
       "</table>\n",
       "</div>"
      ],
      "text/plain": [
       "        Recall  Precision  Accuracy\n",
       "Max   1.000000   0.858209  0.867470\n",
       "Mean  0.961707   0.795371  0.802271\n",
       "Min   0.935897   0.722772  0.717949"
      ]
     },
     "execution_count": 2792,
     "metadata": {},
     "output_type": "execute_result"
    }
   ],
   "source": [
    "pd.DataFrame(data = {\"Recall\" : [max(recall),np.mean(recall), np.min(recall)],\n",
    "                                    \"Precision\" : [max(precision),np.mean(precision), np.min(precision)],\n",
    "                                    \"Accuracy\" : [max(acurracy),np.mean(acurracy), np.min(acurracy)]\n",
    "                                                                                                                        \n",
    "    },index=[\"Max\",\"Mean\",\"Min\"])"
   ]
  },
  {
   "cell_type": "markdown",
   "metadata": {},
   "source": [
    "This is my final model. There is always something to improve. But i will end it like this. Let's look at Confusion Matrix."
   ]
  },
  {
   "cell_type": "code",
   "execution_count": 2814,
   "metadata": {},
   "outputs": [
    {
     "data": {
      "image/png": "[encoded data removed]",
      "text/plain": [
       "<Figure size 432x288 with 2 Axes>"
      ]
     },
     "metadata": {
      "needs_background": "light"
     },
     "output_type": "display_data"
    }
   ],
   "source": [
    "ax= plt.subplot()\n",
    "sns.heatmap(confusion_matrix(y_test_m[27], y_pred_m[27]), annot=True, ax = ax, fmt='g', cmap='RdBu_r'); \n",
    "\n",
    "ax.set_xlabel('Predicted');ax.set_ylabel('True'); \n",
    "ax.set_title('Confusion Matrix'); \n",
    "ax.xaxis.set_ticklabels(['No', 'Yes']); ax.yaxis.set_ticklabels(['No', 'Yes']);"
   ]
  },
  {
   "cell_type": "markdown",
   "metadata": {},
   "source": [
    "<div class=\"alert alert-block alert-success\"><b>Interpretation</b></div"
   ]
  },
  {
   "cell_type": "markdown",
   "metadata": {},
   "source": [
    "1. Model predict 134 YES values but in fact there were only 118 YES values. In other words, my model is too benevolent, and it gives loans to customer who should not get one.\n",
    "2. Model predict 32 NO values but in fact there were 48 NO values. This statement corresponds with first one."
   ]
  },
  {
   "cell_type": "markdown",
   "metadata": {},
   "source": [
    "It's not surprising when our model has a high recall and lower precision! It depends what we want, for 2008 this would be probably great model but for now, it would be better to decrease recall a little bit and therefore increase precision. And most importantly, find out how to make the model more selective, then it would have better overall results."
   ]
  },
  {
   "cell_type": "markdown",
   "metadata": {},
   "source": [
    "<div class=\"alert alert-block alert-info\"><b>Note 6:</b> I was only using train.csv, test.csv is without labels and can be used only on analyticsvidhya.com</div>"
   ]
  },
  {
   "cell_type": "markdown",
   "metadata": {},
   "source": [
    "***The end***"
   ]
  }
 ],
 "metadata": {
  "kernelspec": {
   "display_name": "Python 3",
   "language": "python",
   "name": "python3"
  },
  "language_info": {
   "codemirror_mode": {
    "name": "ipython",
    "version": 3
   },
   "file_extension": ".py",
   "mimetype": "text/x-python",
   "name": "python",
   "nbconvert_exporter": "python",
   "pygments_lexer": "ipython3",
   "version": "3.7.6"
  }
 },
 "nbformat": 4,
 "nbformat_minor": 4
}
