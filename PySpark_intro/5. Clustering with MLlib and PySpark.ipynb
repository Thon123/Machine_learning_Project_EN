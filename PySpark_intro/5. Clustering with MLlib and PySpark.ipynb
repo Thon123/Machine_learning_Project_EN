{
 "cells": [
  {
   "cell_type": "markdown",
   "metadata": {},
   "source": [
    "# Clustering with MLlib and PySpark"
   ]
  },
  {
   "cell_type": "markdown",
   "metadata": {},
   "source": [
    "Available algorithm in PySpark:"
   ]
  },
  {
   "cell_type": "markdown",
   "metadata": {},
   "source": [
    "1. K-means (dividing data into groups or clusters, based on distance and centroids..)\n",
    "2. Latent Dirichlet allocation (LDA) - for discovering topics, dna analysis, tweet threads\n",
    "3. Bisecting k-menas ..bisecting splitting meaning 1-2-4-8 ..\n",
    "4. Gaussian Mixture Model (GMM) - soft clustering (k-means = hard)"
   ]
  },
  {
   "cell_type": "markdown",
   "metadata": {},
   "source": [
    "## K-Means & Bisecting K-Means"
   ]
  },
  {
   "cell_type": "code",
   "execution_count": 1,
   "metadata": {},
   "outputs": [],
   "source": [
    "import pyspark \n",
    "from pyspark.sql import SparkSession\n",
    "spark = SparkSession.builder.appName(\"kmeans\").getOrCreate()"
   ]
  },
  {
   "cell_type": "code",
   "execution_count": 2,
   "metadata": {
    "scrolled": true
   },
   "outputs": [
    {
     "data": {
      "text/html": [
       "\n",
       "            <div>\n",
       "                <p><b>SparkSession - in-memory</b></p>\n",
       "                \n",
       "        <div>\n",
       "            <p><b>SparkContext</b></p>\n",
       "\n",
       "            <p><a href=\"http://10.0.0.36:4040\">Spark UI</a></p>\n",
       "\n",
       "            <dl>\n",
       "              <dt>Version</dt>\n",
       "                <dd><code>v3.0.0</code></dd>\n",
       "              <dt>Master</dt>\n",
       "                <dd><code>local[*]</code></dd>\n",
       "              <dt>AppName</dt>\n",
       "                <dd><code>kmeans</code></dd>\n",
       "            </dl>\n",
       "        </div>\n",
       "        \n",
       "            </div>\n",
       "        "
      ],
      "text/plain": [
       "<pyspark.sql.session.SparkSession at 0x2ae3964b5b0>"
      ]
     },
     "execution_count": 2,
     "metadata": {},
     "output_type": "execute_result"
    }
   ],
   "source": [
    "spark"
   ]
  },
  {
   "cell_type": "markdown",
   "metadata": {},
   "source": [
    "<div class=\"alert alert-block alert-warning\"><b>Data</b></div>"
   ]
  },
  {
   "cell_type": "markdown",
   "metadata": {},
   "source": [
    "**Import dataset**\n",
    "\n",
    "**Content**\n",
    "\n",
    "This dataset summarizes the usage behavior of about 9,000 credit card holders during the last 6 months that we will use to define a marketing outreach strategy for. Basically we want to see how we can get our customers to purchase more! The file is at a customer level with 18 behavioral variables.\n",
    "\n",
    "**Data Dictionary:**\n",
    "\n",
    " - **CUST_ID:** Identification of Credit Card holder (Categorical) \n",
    " - **BALANCE:** Balance amount left in their account to make purchases \n",
    " - **BALANCE_FREQUENCY:** How frequently the Balance is updated, score between 0 and 1 (1 = frequently updated, 0 = not frequently updated) \n",
    " - **PURCHASES:** Amount of purchases made from account \n",
    " - **ONEOFF_PURCHASES:** Maximum purchase amount done in one-go \n",
    " - **INSTALLMENTS_PURCHASES:** Amount of purchase done in installment \n",
    " - **CASH_ADVANCE:** Cash in advance given by the user \n",
    " - **PURCHASES_FREQUENCY:** How frequently the Purchases are being made, score between 0 and 1 (1 = frequently purchased, 0 = not frequently purchased) \n",
    " - **ONEOFFPURCHASESFREQUENCY:** How frequently Purchases are happening in one-go (1 = frequently purchased, 0 = not frequently purchased) \n",
    " - **PURCHASESINSTALLMENTSFREQUENCY:** How frequently purchases in installments are being done (1 = frequently done, 0 = not frequently done) \n",
    " - **CASHADVANCEFREQUENCY:** How frequently the cash in advance being paid \n",
    " - **CASHADVANCETRX:** Number of Transactions made with \"Cash in Advanced\" \n",
    " - **PURCHASES_TRX:** Number of purchase transactions made \n",
    " - **CREDIT_LIMIT:** Limit of Credit Card for user \n",
    " - **PAYMENTS:** Amount of Payment done by user \n",
    " - **MINIMUM_PAYMENTS:** Minimum amount of payments made by user \n",
    " - **PRCFULLPAYMENT:** Percent of full payment paid by user TENURE : Tenure of credit card service for user\n",
    "\n",
    "**Source:** https://www.kaggle.com/arjunbhasin2013/ccdata"
   ]
  },
  {
   "cell_type": "code",
   "execution_count": 3,
   "metadata": {},
   "outputs": [],
   "source": [
    "path =\"Datasets/\"\n",
    "df = spark.read.csv(path+'credit_card_data.csv',inferSchema=True,header=True)"
   ]
  },
  {
   "cell_type": "code",
   "execution_count": 4,
   "metadata": {},
   "outputs": [
    {
     "data": {
      "text/html": [
       "<div>\n",
       "<style scoped>\n",
       "    .dataframe tbody tr th:only-of-type {\n",
       "        vertical-align: middle;\n",
       "    }\n",
       "\n",
       "    .dataframe tbody tr th {\n",
       "        vertical-align: top;\n",
       "    }\n",
       "\n",
       "    .dataframe thead th {\n",
       "        text-align: right;\n",
       "    }\n",
       "</style>\n",
       "<table border=\"1\" class=\"dataframe\">\n",
       "  <thead>\n",
       "    <tr style=\"text-align: right;\">\n",
       "      <th></th>\n",
       "      <th>CUST_ID</th>\n",
       "      <th>BALANCE</th>\n",
       "      <th>BALANCE_FREQUENCY</th>\n",
       "      <th>PURCHASES</th>\n",
       "      <th>ONEOFF_PURCHASES</th>\n",
       "      <th>INSTALLMENTS_PURCHASES</th>\n",
       "      <th>CASH_ADVANCE</th>\n",
       "      <th>PURCHASES_FREQUENCY</th>\n",
       "      <th>ONEOFF_PURCHASES_FREQUENCY</th>\n",
       "      <th>PURCHASES_INSTALLMENTS_FREQUENCY</th>\n",
       "      <th>CASH_ADVANCE_FREQUENCY</th>\n",
       "      <th>CASH_ADVANCE_TRX</th>\n",
       "      <th>PURCHASES_TRX</th>\n",
       "      <th>CREDIT_LIMIT</th>\n",
       "      <th>PAYMENTS</th>\n",
       "      <th>MINIMUM_PAYMENTS</th>\n",
       "      <th>PRC_FULL_PAYMENT</th>\n",
       "      <th>TENURE</th>\n",
       "    </tr>\n",
       "  </thead>\n",
       "  <tbody>\n",
       "    <tr>\n",
       "      <th>0</th>\n",
       "      <td>C10001</td>\n",
       "      <td>40.900749</td>\n",
       "      <td>0.818182</td>\n",
       "      <td>95.40</td>\n",
       "      <td>0.00</td>\n",
       "      <td>95.4</td>\n",
       "      <td>0.000000</td>\n",
       "      <td>0.166667</td>\n",
       "      <td>0.000000</td>\n",
       "      <td>0.083333</td>\n",
       "      <td>0.000000</td>\n",
       "      <td>0</td>\n",
       "      <td>2</td>\n",
       "      <td>1000.0</td>\n",
       "      <td>201.802084</td>\n",
       "      <td>139.509787</td>\n",
       "      <td>0.000000</td>\n",
       "      <td>12</td>\n",
       "    </tr>\n",
       "    <tr>\n",
       "      <th>1</th>\n",
       "      <td>C10002</td>\n",
       "      <td>3202.467416</td>\n",
       "      <td>0.909091</td>\n",
       "      <td>0.00</td>\n",
       "      <td>0.00</td>\n",
       "      <td>0.0</td>\n",
       "      <td>6442.945483</td>\n",
       "      <td>0.000000</td>\n",
       "      <td>0.000000</td>\n",
       "      <td>0.000000</td>\n",
       "      <td>0.250000</td>\n",
       "      <td>4</td>\n",
       "      <td>0</td>\n",
       "      <td>7000.0</td>\n",
       "      <td>4103.032597</td>\n",
       "      <td>1072.340217</td>\n",
       "      <td>0.222222</td>\n",
       "      <td>12</td>\n",
       "    </tr>\n",
       "    <tr>\n",
       "      <th>2</th>\n",
       "      <td>C10003</td>\n",
       "      <td>2495.148862</td>\n",
       "      <td>1.000000</td>\n",
       "      <td>773.17</td>\n",
       "      <td>773.17</td>\n",
       "      <td>0.0</td>\n",
       "      <td>0.000000</td>\n",
       "      <td>1.000000</td>\n",
       "      <td>1.000000</td>\n",
       "      <td>0.000000</td>\n",
       "      <td>0.000000</td>\n",
       "      <td>0</td>\n",
       "      <td>12</td>\n",
       "      <td>7500.0</td>\n",
       "      <td>622.066742</td>\n",
       "      <td>627.284787</td>\n",
       "      <td>0.000000</td>\n",
       "      <td>12</td>\n",
       "    </tr>\n",
       "    <tr>\n",
       "      <th>3</th>\n",
       "      <td>C10004</td>\n",
       "      <td>1666.670542</td>\n",
       "      <td>0.636364</td>\n",
       "      <td>1499.00</td>\n",
       "      <td>1499.00</td>\n",
       "      <td>0.0</td>\n",
       "      <td>205.788017</td>\n",
       "      <td>0.083333</td>\n",
       "      <td>0.083333</td>\n",
       "      <td>0.000000</td>\n",
       "      <td>0.083333</td>\n",
       "      <td>1</td>\n",
       "      <td>1</td>\n",
       "      <td>7500.0</td>\n",
       "      <td>0.000000</td>\n",
       "      <td>NaN</td>\n",
       "      <td>0.000000</td>\n",
       "      <td>12</td>\n",
       "    </tr>\n",
       "    <tr>\n",
       "      <th>4</th>\n",
       "      <td>C10005</td>\n",
       "      <td>817.714335</td>\n",
       "      <td>1.000000</td>\n",
       "      <td>16.00</td>\n",
       "      <td>16.00</td>\n",
       "      <td>0.0</td>\n",
       "      <td>0.000000</td>\n",
       "      <td>0.083333</td>\n",
       "      <td>0.083333</td>\n",
       "      <td>0.000000</td>\n",
       "      <td>0.000000</td>\n",
       "      <td>0</td>\n",
       "      <td>1</td>\n",
       "      <td>1200.0</td>\n",
       "      <td>678.334763</td>\n",
       "      <td>244.791237</td>\n",
       "      <td>0.000000</td>\n",
       "      <td>12</td>\n",
       "    </tr>\n",
       "  </tbody>\n",
       "</table>\n",
       "</div>"
      ],
      "text/plain": [
       "  CUST_ID      BALANCE  BALANCE_FREQUENCY  PURCHASES  ONEOFF_PURCHASES  \\\n",
       "0  C10001    40.900749           0.818182      95.40              0.00   \n",
       "1  C10002  3202.467416           0.909091       0.00              0.00   \n",
       "2  C10003  2495.148862           1.000000     773.17            773.17   \n",
       "3  C10004  1666.670542           0.636364    1499.00           1499.00   \n",
       "4  C10005   817.714335           1.000000      16.00             16.00   \n",
       "\n",
       "   INSTALLMENTS_PURCHASES  CASH_ADVANCE  PURCHASES_FREQUENCY  \\\n",
       "0                    95.4      0.000000             0.166667   \n",
       "1                     0.0   6442.945483             0.000000   \n",
       "2                     0.0      0.000000             1.000000   \n",
       "3                     0.0    205.788017             0.083333   \n",
       "4                     0.0      0.000000             0.083333   \n",
       "\n",
       "   ONEOFF_PURCHASES_FREQUENCY  PURCHASES_INSTALLMENTS_FREQUENCY  \\\n",
       "0                    0.000000                          0.083333   \n",
       "1                    0.000000                          0.000000   \n",
       "2                    1.000000                          0.000000   \n",
       "3                    0.083333                          0.000000   \n",
       "4                    0.083333                          0.000000   \n",
       "\n",
       "   CASH_ADVANCE_FREQUENCY  CASH_ADVANCE_TRX  PURCHASES_TRX  CREDIT_LIMIT  \\\n",
       "0                0.000000                 0              2        1000.0   \n",
       "1                0.250000                 4              0        7000.0   \n",
       "2                0.000000                 0             12        7500.0   \n",
       "3                0.083333                 1              1        7500.0   \n",
       "4                0.000000                 0              1        1200.0   \n",
       "\n",
       "      PAYMENTS  MINIMUM_PAYMENTS  PRC_FULL_PAYMENT  TENURE  \n",
       "0   201.802084        139.509787          0.000000      12  \n",
       "1  4103.032597       1072.340217          0.222222      12  \n",
       "2   622.066742        627.284787          0.000000      12  \n",
       "3     0.000000               NaN          0.000000      12  \n",
       "4   678.334763        244.791237          0.000000      12  "
      ]
     },
     "execution_count": 4,
     "metadata": {},
     "output_type": "execute_result"
    }
   ],
   "source": [
    "df.limit(5).toPandas()"
   ]
  },
  {
   "cell_type": "code",
   "execution_count": 5,
   "metadata": {},
   "outputs": [
    {
     "name": "stdout",
     "output_type": "stream",
     "text": [
      "root\n",
      " |-- CUST_ID: string (nullable = true)\n",
      " |-- BALANCE: double (nullable = true)\n",
      " |-- BALANCE_FREQUENCY: double (nullable = true)\n",
      " |-- PURCHASES: double (nullable = true)\n",
      " |-- ONEOFF_PURCHASES: double (nullable = true)\n",
      " |-- INSTALLMENTS_PURCHASES: double (nullable = true)\n",
      " |-- CASH_ADVANCE: double (nullable = true)\n",
      " |-- PURCHASES_FREQUENCY: double (nullable = true)\n",
      " |-- ONEOFF_PURCHASES_FREQUENCY: double (nullable = true)\n",
      " |-- PURCHASES_INSTALLMENTS_FREQUENCY: double (nullable = true)\n",
      " |-- CASH_ADVANCE_FREQUENCY: double (nullable = true)\n",
      " |-- CASH_ADVANCE_TRX: integer (nullable = true)\n",
      " |-- PURCHASES_TRX: integer (nullable = true)\n",
      " |-- CREDIT_LIMIT: double (nullable = true)\n",
      " |-- PAYMENTS: double (nullable = true)\n",
      " |-- MINIMUM_PAYMENTS: double (nullable = true)\n",
      " |-- PRC_FULL_PAYMENT: double (nullable = true)\n",
      " |-- TENURE: integer (nullable = true)\n",
      "\n"
     ]
    }
   ],
   "source": [
    "df.printSchema()"
   ]
  },
  {
   "cell_type": "markdown",
   "metadata": {},
   "source": [
    "<div class=\"alert alert-block alert-warning\"><b>Checking the null values</b></div>"
   ]
  },
  {
   "cell_type": "code",
   "execution_count": 6,
   "metadata": {},
   "outputs": [],
   "source": [
    "from pyspark.sql.functions import *"
   ]
  },
  {
   "cell_type": "code",
   "execution_count": 7,
   "metadata": {},
   "outputs": [],
   "source": [
    "def null_value_calc(df):\n",
    "    null_columns_counts = []\n",
    "    numRows = df.count()\n",
    "    for k in df.columns:\n",
    "        nullRows = df.where(col(k).isNull()).count()\n",
    "        if(nullRows > 0):\n",
    "            temp = k,nullRows,(nullRows/numRows)*100\n",
    "            null_columns_counts.append(temp)\n",
    "    return(null_columns_counts)"
   ]
  },
  {
   "cell_type": "code",
   "execution_count": 8,
   "metadata": {},
   "outputs": [
    {
     "name": "stdout",
     "output_type": "stream",
     "text": [
      "+----------------+-----------------+------------------+\n",
      "|     Column_Name|Null_Values_Count|Null_Value_Percent|\n",
      "+----------------+-----------------+------------------+\n",
      "|    CREDIT_LIMIT|                1|0.0111731843575419|\n",
      "|MINIMUM_PAYMENTS|              313|3.4972067039106145|\n",
      "+----------------+-----------------+------------------+\n",
      "\n"
     ]
    }
   ],
   "source": [
    "null_columns_calc_list = null_value_calc(df)\n",
    "spark.createDataFrame(null_columns_calc_list, ['Column_Name', 'Null_Values_Count','Null_Value_Percent']).show()"
   ]
  },
  {
   "cell_type": "markdown",
   "metadata": {},
   "source": [
    "<div class=\"alert alert-block alert-warning\"><b>Filling Nan with average</b></div>"
   ]
  },
  {
   "cell_type": "code",
   "execution_count": 9,
   "metadata": {},
   "outputs": [],
   "source": [
    "def fill_with_mean(df, include=set()): \n",
    "    stats = df.agg(*(avg(c).alias(c) for c in df.columns if c in include))\n",
    "    return df.na.fill(stats.first().asDict())"
   ]
  },
  {
   "cell_type": "markdown",
   "metadata": {},
   "source": [
    "*Filling Nan.*"
   ]
  },
  {
   "cell_type": "code",
   "execution_count": 12,
   "metadata": {},
   "outputs": [],
   "source": [
    "columns = df.columns\n",
    "columns = columns[1:]\n",
    "df = fill_with_mean(df, columns)"
   ]
  },
  {
   "cell_type": "code",
   "execution_count": 18,
   "metadata": {},
   "outputs": [
    {
     "data": {
      "text/plain": [
       "[]"
      ]
     },
     "execution_count": 18,
     "metadata": {},
     "output_type": "execute_result"
    }
   ],
   "source": [
    "null_value_calc(df) #check if empty "
   ]
  },
  {
   "cell_type": "markdown",
   "metadata": {},
   "source": [
    "<div class=\"alert alert-block alert-warning\"><b>Convert all features into a vector</b></div>"
   ]
  },
  {
   "cell_type": "markdown",
   "metadata": {},
   "source": [
    "*Note: no label here, so we don 't need any splitting.*"
   ]
  },
  {
   "cell_type": "code",
   "execution_count": 19,
   "metadata": {},
   "outputs": [
    {
     "data": {
      "text/html": [
       "<div>\n",
       "<style scoped>\n",
       "    .dataframe tbody tr th:only-of-type {\n",
       "        vertical-align: middle;\n",
       "    }\n",
       "\n",
       "    .dataframe tbody tr th {\n",
       "        vertical-align: top;\n",
       "    }\n",
       "\n",
       "    .dataframe thead th {\n",
       "        text-align: right;\n",
       "    }\n",
       "</style>\n",
       "<table border=\"1\" class=\"dataframe\">\n",
       "  <thead>\n",
       "    <tr style=\"text-align: right;\">\n",
       "      <th></th>\n",
       "      <th>CUST_ID</th>\n",
       "      <th>BALANCE</th>\n",
       "      <th>BALANCE_FREQUENCY</th>\n",
       "      <th>PURCHASES</th>\n",
       "      <th>ONEOFF_PURCHASES</th>\n",
       "      <th>INSTALLMENTS_PURCHASES</th>\n",
       "      <th>CASH_ADVANCE</th>\n",
       "      <th>PURCHASES_FREQUENCY</th>\n",
       "      <th>ONEOFF_PURCHASES_FREQUENCY</th>\n",
       "      <th>PURCHASES_INSTALLMENTS_FREQUENCY</th>\n",
       "      <th>CASH_ADVANCE_FREQUENCY</th>\n",
       "      <th>CASH_ADVANCE_TRX</th>\n",
       "      <th>PURCHASES_TRX</th>\n",
       "      <th>CREDIT_LIMIT</th>\n",
       "      <th>PAYMENTS</th>\n",
       "      <th>MINIMUM_PAYMENTS</th>\n",
       "      <th>PRC_FULL_PAYMENT</th>\n",
       "      <th>TENURE</th>\n",
       "      <th>features</th>\n",
       "    </tr>\n",
       "  </thead>\n",
       "  <tbody>\n",
       "    <tr>\n",
       "      <th>0</th>\n",
       "      <td>C10001</td>\n",
       "      <td>40.900749</td>\n",
       "      <td>0.818182</td>\n",
       "      <td>95.40</td>\n",
       "      <td>0.00</td>\n",
       "      <td>95.4</td>\n",
       "      <td>0.000000</td>\n",
       "      <td>0.166667</td>\n",
       "      <td>0.000000</td>\n",
       "      <td>0.083333</td>\n",
       "      <td>0.000000</td>\n",
       "      <td>0</td>\n",
       "      <td>2</td>\n",
       "      <td>1000.0</td>\n",
       "      <td>201.802084</td>\n",
       "      <td>139.509787</td>\n",
       "      <td>0.000000</td>\n",
       "      <td>12</td>\n",
       "      <td>[40.900749, 0.818182, 95.4, 0.0, 95.4, 0.0, 0....</td>\n",
       "    </tr>\n",
       "    <tr>\n",
       "      <th>1</th>\n",
       "      <td>C10002</td>\n",
       "      <td>3202.467416</td>\n",
       "      <td>0.909091</td>\n",
       "      <td>0.00</td>\n",
       "      <td>0.00</td>\n",
       "      <td>0.0</td>\n",
       "      <td>6442.945483</td>\n",
       "      <td>0.000000</td>\n",
       "      <td>0.000000</td>\n",
       "      <td>0.000000</td>\n",
       "      <td>0.250000</td>\n",
       "      <td>4</td>\n",
       "      <td>0</td>\n",
       "      <td>7000.0</td>\n",
       "      <td>4103.032597</td>\n",
       "      <td>1072.340217</td>\n",
       "      <td>0.222222</td>\n",
       "      <td>12</td>\n",
       "      <td>(3202.467416, 0.909091, 0.0, 0.0, 0.0, 6442.94...</td>\n",
       "    </tr>\n",
       "    <tr>\n",
       "      <th>2</th>\n",
       "      <td>C10003</td>\n",
       "      <td>2495.148862</td>\n",
       "      <td>1.000000</td>\n",
       "      <td>773.17</td>\n",
       "      <td>773.17</td>\n",
       "      <td>0.0</td>\n",
       "      <td>0.000000</td>\n",
       "      <td>1.000000</td>\n",
       "      <td>1.000000</td>\n",
       "      <td>0.000000</td>\n",
       "      <td>0.000000</td>\n",
       "      <td>0</td>\n",
       "      <td>12</td>\n",
       "      <td>7500.0</td>\n",
       "      <td>622.066742</td>\n",
       "      <td>627.284787</td>\n",
       "      <td>0.000000</td>\n",
       "      <td>12</td>\n",
       "      <td>[2495.148862, 1.0, 773.17, 773.17, 0.0, 0.0, 1...</td>\n",
       "    </tr>\n",
       "    <tr>\n",
       "      <th>3</th>\n",
       "      <td>C10004</td>\n",
       "      <td>1666.670542</td>\n",
       "      <td>0.636364</td>\n",
       "      <td>1499.00</td>\n",
       "      <td>1499.00</td>\n",
       "      <td>0.0</td>\n",
       "      <td>205.788017</td>\n",
       "      <td>0.083333</td>\n",
       "      <td>0.083333</td>\n",
       "      <td>0.000000</td>\n",
       "      <td>0.083333</td>\n",
       "      <td>1</td>\n",
       "      <td>1</td>\n",
       "      <td>7500.0</td>\n",
       "      <td>0.000000</td>\n",
       "      <td>864.206542</td>\n",
       "      <td>0.000000</td>\n",
       "      <td>12</td>\n",
       "      <td>[1666.670542, 0.636364, 1499.0, 1499.0, 0.0, 2...</td>\n",
       "    </tr>\n",
       "  </tbody>\n",
       "</table>\n",
       "</div>"
      ],
      "text/plain": [
       "  CUST_ID      BALANCE  BALANCE_FREQUENCY  PURCHASES  ONEOFF_PURCHASES  \\\n",
       "0  C10001    40.900749           0.818182      95.40              0.00   \n",
       "1  C10002  3202.467416           0.909091       0.00              0.00   \n",
       "2  C10003  2495.148862           1.000000     773.17            773.17   \n",
       "3  C10004  1666.670542           0.636364    1499.00           1499.00   \n",
       "\n",
       "   INSTALLMENTS_PURCHASES  CASH_ADVANCE  PURCHASES_FREQUENCY  \\\n",
       "0                    95.4      0.000000             0.166667   \n",
       "1                     0.0   6442.945483             0.000000   \n",
       "2                     0.0      0.000000             1.000000   \n",
       "3                     0.0    205.788017             0.083333   \n",
       "\n",
       "   ONEOFF_PURCHASES_FREQUENCY  PURCHASES_INSTALLMENTS_FREQUENCY  \\\n",
       "0                    0.000000                          0.083333   \n",
       "1                    0.000000                          0.000000   \n",
       "2                    1.000000                          0.000000   \n",
       "3                    0.083333                          0.000000   \n",
       "\n",
       "   CASH_ADVANCE_FREQUENCY  CASH_ADVANCE_TRX  PURCHASES_TRX  CREDIT_LIMIT  \\\n",
       "0                0.000000                 0              2        1000.0   \n",
       "1                0.250000                 4              0        7000.0   \n",
       "2                0.000000                 0             12        7500.0   \n",
       "3                0.083333                 1              1        7500.0   \n",
       "\n",
       "      PAYMENTS  MINIMUM_PAYMENTS  PRC_FULL_PAYMENT  TENURE  \\\n",
       "0   201.802084        139.509787          0.000000      12   \n",
       "1  4103.032597       1072.340217          0.222222      12   \n",
       "2   622.066742        627.284787          0.000000      12   \n",
       "3     0.000000        864.206542          0.000000      12   \n",
       "\n",
       "                                            features  \n",
       "0  [40.900749, 0.818182, 95.4, 0.0, 95.4, 0.0, 0....  \n",
       "1  (3202.467416, 0.909091, 0.0, 0.0, 0.0, 6442.94...  \n",
       "2  [2495.148862, 1.0, 773.17, 773.17, 0.0, 0.0, 1...  \n",
       "3  [1666.670542, 0.636364, 1499.0, 1499.0, 0.0, 2...  "
      ]
     },
     "execution_count": 19,
     "metadata": {},
     "output_type": "execute_result"
    }
   ],
   "source": [
    "from pyspark.ml.feature import VectorAssembler\n",
    "input_columns = df.columns #al of my columns\n",
    "input_columns = input_columns[1:] # the first one is not useful..\n",
    "vecAssembler = VectorAssembler(inputCols=input_columns, outputCol=\"features\")\n",
    "df_kmeans = vecAssembler.transform(df) \n",
    "df_kmeans.limit(4).toPandas()"
   ]
  },
  {
   "cell_type": "markdown",
   "metadata": {},
   "source": [
    "Data prepared and vectorized, now let's proceed with K-Means."
   ]
  },
  {
   "cell_type": "markdown",
   "metadata": {},
   "source": [
    "<div class=\"alert alert-block alert-warning\"><b>K-means</b></div>"
   ]
  },
  {
   "cell_type": "code",
   "execution_count": 20,
   "metadata": {},
   "outputs": [],
   "source": [
    "from pyspark.ml.clustering import KMeans\n",
    "from pyspark.ml.evaluation import ClusteringEvaluator\n",
    "import numpy as np"
   ]
  },
  {
   "cell_type": "code",
   "execution_count": 22,
   "metadata": {},
   "outputs": [],
   "source": [
    "kmax = 50 #just a number of maximum cluster\n",
    "kmcost = np.zeros(kmax) #for cost calculation\n",
    "for k in range(2,kmax): #trying to split our data from 2-50 clusters\n",
    "    kmeans = KMeans().setK(k).setSeed(1).setFeaturesCol(\"features\") #setting my algorithm\n",
    "    model = kmeans.fit(df_kmeans) #fitting our data\n",
    "    # Computes the \"cost\" (sum of squared distances) between the input points and their corresponding cluster centers.\n",
    "    predictions = model.transform(df_kmeans)\n",
    "    evaluator = ClusteringEvaluator()\n",
    "    kmcost[k] = evaluator.evaluate(predictions) "
   ]
  },
  {
   "cell_type": "markdown",
   "metadata": {},
   "source": [
    "*Now lets plot our elbow chart.*"
   ]
  },
  {
   "cell_type": "code",
   "execution_count": 23,
   "metadata": {},
   "outputs": [
    {
     "data": {
      "text/plain": [
       "Text(0, 0.5, 'cost')"
      ]
     },
     "execution_count": 23,
     "metadata": {},
     "output_type": "execute_result"
    },
    {
     "data": {
      "image/png": "[encoded data removed]",
      "text/plain": [
       "<Figure size 576x432 with 1 Axes>"
      ]
     },
     "metadata": {
      "needs_background": "light"
     },
     "output_type": "display_data"
    }
   ],
   "source": [
    "import matplotlib.pyplot as plt\n",
    "from mpl_toolkits.mplot3d import Axes3D\n",
    "\n",
    "fig, ax = plt.subplots(1,1, figsize =(8,6))\n",
    "ax.plot(range(2,kmax),kmcost[2:kmax])\n",
    "ax.set_xlabel('k')\n",
    "ax.set_ylabel('cost')"
   ]
  },
  {
   "cell_type": "markdown",
   "metadata": {},
   "source": [
    "Well I guess I can be happy that I have some shape :). It's a little bit tricky I would like to have smaller number of clusters but the results from 10-20 are not consistent."
   ]
  },
  {
   "cell_type": "markdown",
   "metadata": {},
   "source": [
    "<div class=\"alert alert-block alert-warning\"><b>Bisecting k-menas</b></div>"
   ]
  },
  {
   "cell_type": "markdown",
   "metadata": {},
   "source": [
    "The same procedure but with a lisghtly different K-means."
   ]
  },
  {
   "cell_type": "code",
   "execution_count": 24,
   "metadata": {},
   "outputs": [],
   "source": [
    "from pyspark.ml.clustering import BisectingKMeans\n",
    "kmax = 50\n",
    "bkmcost = np.zeros(kmax)\n",
    "for k in range(2,kmax):\n",
    "    bkmeans = BisectingKMeans().setK(k).setSeed(1).setFeaturesCol(\"features\")\n",
    "    model = bkmeans.fit(df_kmeans)\n",
    "    predictions = model.transform(df_kmeans)\n",
    "    evaluator = ClusteringEvaluator()\n",
    "    bkmcost[k] = evaluator.evaluate(predictions) #computes Silhouette score"
   ]
  },
  {
   "cell_type": "code",
   "execution_count": 25,
   "metadata": {},
   "outputs": [
    {
     "data": {
      "text/plain": [
       "Text(0, 0.5, 'cost')"
      ]
     },
     "execution_count": 25,
     "metadata": {},
     "output_type": "execute_result"
    },
    {
     "data": {
      "image/png": "[encoded data removed]",
      "text/plain": [
       "<Figure size 576x432 with 1 Axes>"
      ]
     },
     "metadata": {
      "needs_background": "light"
     },
     "output_type": "display_data"
    }
   ],
   "source": [
    "import matplotlib.pyplot as plt\n",
    "from mpl_toolkits.mplot3d import Axes3D\n",
    "fig, ax = plt.subplots(1,1, figsize =(8,6))\n",
    "ax.plot(range(2,kmax),bkmcost[2:kmax])\n",
    "ax.set_xlabel('k')\n",
    "ax.set_ylabel('cost')"
   ]
  },
  {
   "cell_type": "markdown",
   "metadata": {},
   "source": [
    "<div class=\"alert alert-block alert-warning\"><b>Coparison</b></div>"
   ]
  },
  {
   "cell_type": "markdown",
   "metadata": {},
   "source": [
    "We have two main approach for comparing two cluster method and these are:"
   ]
  },
  {
   "cell_type": "markdown",
   "metadata": {},
   "source": [
    "1. plotting together\n",
    "2. calculate i cost values for j k values"
   ]
  },
  {
   "cell_type": "code",
   "execution_count": 26,
   "metadata": {},
   "outputs": [
    {
     "data": {
      "text/plain": [
       "Text(0, 0.5, 'cost')"
      ]
     },
     "execution_count": 26,
     "metadata": {},
     "output_type": "execute_result"
    },
    {
     "data": {
      "image/png": "[encoded data removed]",
      "text/plain": [
       "<Figure size 576x432 with 1 Axes>"
      ]
     },
     "metadata": {
      "needs_background": "light"
     },
     "output_type": "display_data"
    }
   ],
   "source": [
    "fig, ax = plt.subplots(1,1, figsize = (8,6))\n",
    "ax.plot(range(2,kmax),bkmcost[2:kmax],color='blue')\n",
    "ax.plot(range(2,kmax),kmcost[2:kmax],color='red')\n",
    "ax.set_xlabel('k')\n",
    "ax.set_ylabel('cost')"
   ]
  },
  {
   "cell_type": "code",
   "execution_count": 27,
   "metadata": {},
   "outputs": [
    {
     "data": {
      "text/plain": [
       "[(2, 0.006652107175816435),\n",
       " (7, 0.07988236737114579),\n",
       " (12, 0.21917034747450276),\n",
       " (17, 0.15966945027119617),\n",
       " (22, 0.17042334621100996),\n",
       " (27, 0.13480360778428596),\n",
       " (32, 0.06617604511056815),\n",
       " (37, 0.13386153955302815),\n",
       " (42, 0.13985887359735294),\n",
       " (47, 0.13713663096880555)]"
      ]
     },
     "execution_count": 27,
     "metadata": {},
     "output_type": "execute_result"
    }
   ],
   "source": [
    "def compare(bkmcost,kmcost):\n",
    "    diff = []\n",
    "    for k in range(2,kmax,5):\n",
    "        temp = k,(kmcost[k]-bkmcost[k])\n",
    "        diff.append(temp)\n",
    "    return(diff)\n",
    "\n",
    "diff_list = compare(bkmcost,kmcost)\n",
    "diff_list"
   ]
  },
  {
   "cell_type": "markdown",
   "metadata": {},
   "source": [
    "Its cleary evident that our Bisect K-menas is performing better."
   ]
  },
  {
   "cell_type": "markdown",
   "metadata": {},
   "source": [
    "<div class=\"alert alert-block alert-warning\"><b>Final Model</b></div>"
   ]
  },
  {
   "cell_type": "code",
   "execution_count": 35,
   "metadata": {
    "scrolled": true
   },
   "outputs": [
    {
     "name": "stdout",
     "output_type": "stream",
     "text": [
      "Silhouette with squared euclidean distance = 0.3011137239104424\n",
      " \n",
      "Cluster Centers: \n",
      "[7.48653561e+02 8.47441104e-01 4.52753333e+02 2.12632529e+02\n",
      " 2.40348478e+02 4.20879612e+02 4.41458728e-01 1.16591629e-01\n",
      " 3.43004324e-01 1.05917520e-01 2.15786177e+00 8.73355607e+00\n",
      " 1.94616679e+03 7.94352986e+02 6.29433262e+02 1.40931358e-01\n",
      " 1.13361871e+01]\n",
      "[1.36228132e+03 8.87531107e-01 1.01021728e+03 5.79972124e+02\n",
      " 4.30628179e+02 7.88249684e+02 5.36920836e-01 2.62652115e-01\n",
      " 3.74818266e-01 1.18688008e-01 2.74386435e+00 1.60602410e+01\n",
      " 5.37198807e+03 1.53941482e+03 5.96593842e+02 1.84627880e-01\n",
      " 1.17139670e+01]\n",
      "[3.83535175e+03 9.39698093e-01 2.36799511e+03 1.55432279e+03\n",
      " 8.14056672e+02 2.59314399e+03 5.57943733e-01 3.46372692e-01\n",
      " 4.05780605e-01 2.27250919e-01 6.55937500e+00 2.80401042e+01\n",
      " 9.82630445e+03 4.30086064e+03 1.76214889e+03 1.49518101e-01\n",
      " 1.17395833e+01]\n"
     ]
    }
   ],
   "source": [
    "k = 3 #I am choosing K so low just to make results visible \n",
    "\n",
    "bkmeans = BisectingKMeans().setK(k).setSeed(1).setFeaturesCol(\"features\")\n",
    "model = bkmeans.fit(df_kmeans)\n",
    "\n",
    "predictions = model.transform(df_kmeans)\n",
    "\n",
    "\n",
    "evaluator = ClusteringEvaluator()\n",
    "\n",
    "silhouette = evaluator.evaluate(predictions)\n",
    "print(\"Silhouette with squared euclidean distance = \" + str(silhouette))\n",
    "print(\" \")\n",
    "\n",
    "# Shows the cluster centers\n",
    "centers = model.clusterCenters()\n",
    "print(\"Cluster Centers: \")\n",
    "for center in centers:\n",
    "    print(center)"
   ]
  },
  {
   "cell_type": "markdown",
   "metadata": {},
   "source": [
    "These data are just not very informative to us. Lest create a table for these."
   ]
  },
  {
   "cell_type": "code",
   "execution_count": 36,
   "metadata": {},
   "outputs": [
    {
     "data": {
      "text/html": [
       "<div>\n",
       "<style scoped>\n",
       "    .dataframe tbody tr th:only-of-type {\n",
       "        vertical-align: middle;\n",
       "    }\n",
       "\n",
       "    .dataframe tbody tr th {\n",
       "        vertical-align: top;\n",
       "    }\n",
       "\n",
       "    .dataframe thead th {\n",
       "        text-align: right;\n",
       "    }\n",
       "</style>\n",
       "<table border=\"1\" class=\"dataframe\">\n",
       "  <thead>\n",
       "    <tr style=\"text-align: right;\">\n",
       "      <th></th>\n",
       "      <th>BALANCE</th>\n",
       "      <th>BALANCE_FREQUENCY</th>\n",
       "      <th>PURCHASES</th>\n",
       "      <th>ONEOFF_PURCHASES</th>\n",
       "      <th>INSTALLMENTS_PURCHASES</th>\n",
       "      <th>CASH_ADVANCE</th>\n",
       "      <th>PURCHASES_FREQUENCY</th>\n",
       "      <th>ONEOFF_PURCHASES_FREQUENCY</th>\n",
       "      <th>PURCHASES_INSTALLMENTS_FREQUENCY</th>\n",
       "      <th>CASH_ADVANCE_FREQUENCY</th>\n",
       "      <th>CASH_ADVANCE_TRX</th>\n",
       "      <th>PURCHASES_TRX</th>\n",
       "      <th>CREDIT_LIMIT</th>\n",
       "      <th>PAYMENTS</th>\n",
       "      <th>MINIMUM_PAYMENTS</th>\n",
       "      <th>PRC_FULL_PAYMENT</th>\n",
       "      <th>TENURE</th>\n",
       "    </tr>\n",
       "  </thead>\n",
       "  <tbody>\n",
       "    <tr>\n",
       "      <th>0</th>\n",
       "      <td>748.653561</td>\n",
       "      <td>0.847441</td>\n",
       "      <td>452.753333</td>\n",
       "      <td>212.632529</td>\n",
       "      <td>240.348478</td>\n",
       "      <td>420.879612</td>\n",
       "      <td>0.441459</td>\n",
       "      <td>0.116592</td>\n",
       "      <td>0.343004</td>\n",
       "      <td>0.105918</td>\n",
       "      <td>2.157862</td>\n",
       "      <td>8.733556</td>\n",
       "      <td>1946.166794</td>\n",
       "      <td>794.352986</td>\n",
       "      <td>629.433262</td>\n",
       "      <td>0.140931</td>\n",
       "      <td>11.336187</td>\n",
       "    </tr>\n",
       "    <tr>\n",
       "      <th>1</th>\n",
       "      <td>1362.281321</td>\n",
       "      <td>0.887531</td>\n",
       "      <td>1010.217282</td>\n",
       "      <td>579.972124</td>\n",
       "      <td>430.628179</td>\n",
       "      <td>788.249684</td>\n",
       "      <td>0.536921</td>\n",
       "      <td>0.262652</td>\n",
       "      <td>0.374818</td>\n",
       "      <td>0.118688</td>\n",
       "      <td>2.743864</td>\n",
       "      <td>16.060241</td>\n",
       "      <td>5371.988067</td>\n",
       "      <td>1539.414816</td>\n",
       "      <td>596.593842</td>\n",
       "      <td>0.184628</td>\n",
       "      <td>11.713967</td>\n",
       "    </tr>\n",
       "    <tr>\n",
       "      <th>2</th>\n",
       "      <td>3835.351753</td>\n",
       "      <td>0.939698</td>\n",
       "      <td>2367.995115</td>\n",
       "      <td>1554.322792</td>\n",
       "      <td>814.056672</td>\n",
       "      <td>2593.143987</td>\n",
       "      <td>0.557944</td>\n",
       "      <td>0.346373</td>\n",
       "      <td>0.405781</td>\n",
       "      <td>0.227251</td>\n",
       "      <td>6.559375</td>\n",
       "      <td>28.040104</td>\n",
       "      <td>9826.304451</td>\n",
       "      <td>4300.860637</td>\n",
       "      <td>1762.148887</td>\n",
       "      <td>0.149518</td>\n",
       "      <td>11.739583</td>\n",
       "    </tr>\n",
       "  </tbody>\n",
       "</table>\n",
       "</div>"
      ],
      "text/plain": [
       "       BALANCE  BALANCE_FREQUENCY    PURCHASES  ONEOFF_PURCHASES  \\\n",
       "0   748.653561           0.847441   452.753333        212.632529   \n",
       "1  1362.281321           0.887531  1010.217282        579.972124   \n",
       "2  3835.351753           0.939698  2367.995115       1554.322792   \n",
       "\n",
       "   INSTALLMENTS_PURCHASES  CASH_ADVANCE  PURCHASES_FREQUENCY  \\\n",
       "0              240.348478    420.879612             0.441459   \n",
       "1              430.628179    788.249684             0.536921   \n",
       "2              814.056672   2593.143987             0.557944   \n",
       "\n",
       "   ONEOFF_PURCHASES_FREQUENCY  PURCHASES_INSTALLMENTS_FREQUENCY  \\\n",
       "0                    0.116592                          0.343004   \n",
       "1                    0.262652                          0.374818   \n",
       "2                    0.346373                          0.405781   \n",
       "\n",
       "   CASH_ADVANCE_FREQUENCY  CASH_ADVANCE_TRX  PURCHASES_TRX  CREDIT_LIMIT  \\\n",
       "0                0.105918          2.157862       8.733556   1946.166794   \n",
       "1                0.118688          2.743864      16.060241   5371.988067   \n",
       "2                0.227251          6.559375      28.040104   9826.304451   \n",
       "\n",
       "      PAYMENTS  MINIMUM_PAYMENTS  PRC_FULL_PAYMENT     TENURE  \n",
       "0   794.352986        629.433262          0.140931  11.336187  \n",
       "1  1539.414816        596.593842          0.184628  11.713967  \n",
       "2  4300.860637       1762.148887          0.149518  11.739583  "
      ]
     },
     "execution_count": 36,
     "metadata": {},
     "output_type": "execute_result"
    }
   ],
   "source": [
    "import pandas as pd\n",
    "import numpy as np\n",
    "center_pdf = pd.DataFrame(list(map(np.ravel,centers)))\n",
    "center_pdf.columns = columns\n",
    "center_pdf"
   ]
  },
  {
   "cell_type": "code",
   "execution_count": 47,
   "metadata": {},
   "outputs": [
    {
     "data": {
      "text/html": [
       "<div>\n",
       "<style scoped>\n",
       "    .dataframe tbody tr th:only-of-type {\n",
       "        vertical-align: middle;\n",
       "    }\n",
       "\n",
       "    .dataframe tbody tr th {\n",
       "        vertical-align: top;\n",
       "    }\n",
       "\n",
       "    .dataframe thead th {\n",
       "        text-align: right;\n",
       "    }\n",
       "</style>\n",
       "<table border=\"1\" class=\"dataframe\">\n",
       "  <thead>\n",
       "    <tr style=\"text-align: right;\">\n",
       "      <th></th>\n",
       "      <th>CUST_ID</th>\n",
       "      <th>BALANCE</th>\n",
       "      <th>BALANCE_FREQUENCY</th>\n",
       "      <th>PURCHASES</th>\n",
       "      <th>ONEOFF_PURCHASES</th>\n",
       "      <th>INSTALLMENTS_PURCHASES</th>\n",
       "      <th>CASH_ADVANCE</th>\n",
       "      <th>PURCHASES_FREQUENCY</th>\n",
       "      <th>ONEOFF_PURCHASES_FREQUENCY</th>\n",
       "      <th>PURCHASES_INSTALLMENTS_FREQUENCY</th>\n",
       "      <th>CASH_ADVANCE_FREQUENCY</th>\n",
       "      <th>CASH_ADVANCE_TRX</th>\n",
       "      <th>PURCHASES_TRX</th>\n",
       "      <th>CREDIT_LIMIT</th>\n",
       "      <th>PAYMENTS</th>\n",
       "      <th>MINIMUM_PAYMENTS</th>\n",
       "      <th>PRC_FULL_PAYMENT</th>\n",
       "      <th>TENURE</th>\n",
       "      <th>features</th>\n",
       "      <th>prediction</th>\n",
       "    </tr>\n",
       "  </thead>\n",
       "  <tbody>\n",
       "    <tr>\n",
       "      <th>0</th>\n",
       "      <td>C10001</td>\n",
       "      <td>40.900749</td>\n",
       "      <td>0.818182</td>\n",
       "      <td>95.40</td>\n",
       "      <td>0.00</td>\n",
       "      <td>95.40</td>\n",
       "      <td>0.000000</td>\n",
       "      <td>0.166667</td>\n",
       "      <td>0.000000</td>\n",
       "      <td>0.083333</td>\n",
       "      <td>0.000000</td>\n",
       "      <td>0</td>\n",
       "      <td>2</td>\n",
       "      <td>1000.0</td>\n",
       "      <td>201.802084</td>\n",
       "      <td>139.509787</td>\n",
       "      <td>0.000000</td>\n",
       "      <td>12</td>\n",
       "      <td>[40.900749, 0.818182, 95.4, 0.0, 95.4, 0.0, 0....</td>\n",
       "      <td>0</td>\n",
       "    </tr>\n",
       "    <tr>\n",
       "      <th>1</th>\n",
       "      <td>C10002</td>\n",
       "      <td>3202.467416</td>\n",
       "      <td>0.909091</td>\n",
       "      <td>0.00</td>\n",
       "      <td>0.00</td>\n",
       "      <td>0.00</td>\n",
       "      <td>6442.945483</td>\n",
       "      <td>0.000000</td>\n",
       "      <td>0.000000</td>\n",
       "      <td>0.000000</td>\n",
       "      <td>0.250000</td>\n",
       "      <td>4</td>\n",
       "      <td>0</td>\n",
       "      <td>7000.0</td>\n",
       "      <td>4103.032597</td>\n",
       "      <td>1072.340217</td>\n",
       "      <td>0.222222</td>\n",
       "      <td>12</td>\n",
       "      <td>(3202.467416, 0.909091, 0.0, 0.0, 0.0, 6442.94...</td>\n",
       "      <td>2</td>\n",
       "    </tr>\n",
       "    <tr>\n",
       "      <th>2</th>\n",
       "      <td>C10003</td>\n",
       "      <td>2495.148862</td>\n",
       "      <td>1.000000</td>\n",
       "      <td>773.17</td>\n",
       "      <td>773.17</td>\n",
       "      <td>0.00</td>\n",
       "      <td>0.000000</td>\n",
       "      <td>1.000000</td>\n",
       "      <td>1.000000</td>\n",
       "      <td>0.000000</td>\n",
       "      <td>0.000000</td>\n",
       "      <td>0</td>\n",
       "      <td>12</td>\n",
       "      <td>7500.0</td>\n",
       "      <td>622.066742</td>\n",
       "      <td>627.284787</td>\n",
       "      <td>0.000000</td>\n",
       "      <td>12</td>\n",
       "      <td>[2495.148862, 1.0, 773.17, 773.17, 0.0, 0.0, 1...</td>\n",
       "      <td>1</td>\n",
       "    </tr>\n",
       "    <tr>\n",
       "      <th>3</th>\n",
       "      <td>C10004</td>\n",
       "      <td>1666.670542</td>\n",
       "      <td>0.636364</td>\n",
       "      <td>1499.00</td>\n",
       "      <td>1499.00</td>\n",
       "      <td>0.00</td>\n",
       "      <td>205.788017</td>\n",
       "      <td>0.083333</td>\n",
       "      <td>0.083333</td>\n",
       "      <td>0.000000</td>\n",
       "      <td>0.083333</td>\n",
       "      <td>1</td>\n",
       "      <td>1</td>\n",
       "      <td>7500.0</td>\n",
       "      <td>0.000000</td>\n",
       "      <td>864.206542</td>\n",
       "      <td>0.000000</td>\n",
       "      <td>12</td>\n",
       "      <td>[1666.670542, 0.636364, 1499.0, 1499.0, 0.0, 2...</td>\n",
       "      <td>1</td>\n",
       "    </tr>\n",
       "    <tr>\n",
       "      <th>4</th>\n",
       "      <td>C10005</td>\n",
       "      <td>817.714335</td>\n",
       "      <td>1.000000</td>\n",
       "      <td>16.00</td>\n",
       "      <td>16.00</td>\n",
       "      <td>0.00</td>\n",
       "      <td>0.000000</td>\n",
       "      <td>0.083333</td>\n",
       "      <td>0.083333</td>\n",
       "      <td>0.000000</td>\n",
       "      <td>0.000000</td>\n",
       "      <td>0</td>\n",
       "      <td>1</td>\n",
       "      <td>1200.0</td>\n",
       "      <td>678.334763</td>\n",
       "      <td>244.791237</td>\n",
       "      <td>0.000000</td>\n",
       "      <td>12</td>\n",
       "      <td>[817.714335, 1.0, 16.0, 16.0, 0.0, 0.0, 0.0833...</td>\n",
       "      <td>0</td>\n",
       "    </tr>\n",
       "    <tr>\n",
       "      <th>5</th>\n",
       "      <td>C10006</td>\n",
       "      <td>1809.828751</td>\n",
       "      <td>1.000000</td>\n",
       "      <td>1333.28</td>\n",
       "      <td>0.00</td>\n",
       "      <td>1333.28</td>\n",
       "      <td>0.000000</td>\n",
       "      <td>0.666667</td>\n",
       "      <td>0.000000</td>\n",
       "      <td>0.583333</td>\n",
       "      <td>0.000000</td>\n",
       "      <td>0</td>\n",
       "      <td>8</td>\n",
       "      <td>1800.0</td>\n",
       "      <td>1400.057770</td>\n",
       "      <td>2407.246035</td>\n",
       "      <td>0.000000</td>\n",
       "      <td>12</td>\n",
       "      <td>[1809.828751, 1.0, 1333.28, 0.0, 1333.28, 0.0,...</td>\n",
       "      <td>0</td>\n",
       "    </tr>\n",
       "  </tbody>\n",
       "</table>\n",
       "</div>"
      ],
      "text/plain": [
       "  CUST_ID      BALANCE  BALANCE_FREQUENCY  PURCHASES  ONEOFF_PURCHASES  \\\n",
       "0  C10001    40.900749           0.818182      95.40              0.00   \n",
       "1  C10002  3202.467416           0.909091       0.00              0.00   \n",
       "2  C10003  2495.148862           1.000000     773.17            773.17   \n",
       "3  C10004  1666.670542           0.636364    1499.00           1499.00   \n",
       "4  C10005   817.714335           1.000000      16.00             16.00   \n",
       "5  C10006  1809.828751           1.000000    1333.28              0.00   \n",
       "\n",
       "   INSTALLMENTS_PURCHASES  CASH_ADVANCE  PURCHASES_FREQUENCY  \\\n",
       "0                   95.40      0.000000             0.166667   \n",
       "1                    0.00   6442.945483             0.000000   \n",
       "2                    0.00      0.000000             1.000000   \n",
       "3                    0.00    205.788017             0.083333   \n",
       "4                    0.00      0.000000             0.083333   \n",
       "5                 1333.28      0.000000             0.666667   \n",
       "\n",
       "   ONEOFF_PURCHASES_FREQUENCY  PURCHASES_INSTALLMENTS_FREQUENCY  \\\n",
       "0                    0.000000                          0.083333   \n",
       "1                    0.000000                          0.000000   \n",
       "2                    1.000000                          0.000000   \n",
       "3                    0.083333                          0.000000   \n",
       "4                    0.083333                          0.000000   \n",
       "5                    0.000000                          0.583333   \n",
       "\n",
       "   CASH_ADVANCE_FREQUENCY  CASH_ADVANCE_TRX  PURCHASES_TRX  CREDIT_LIMIT  \\\n",
       "0                0.000000                 0              2        1000.0   \n",
       "1                0.250000                 4              0        7000.0   \n",
       "2                0.000000                 0             12        7500.0   \n",
       "3                0.083333                 1              1        7500.0   \n",
       "4                0.000000                 0              1        1200.0   \n",
       "5                0.000000                 0              8        1800.0   \n",
       "\n",
       "      PAYMENTS  MINIMUM_PAYMENTS  PRC_FULL_PAYMENT  TENURE  \\\n",
       "0   201.802084        139.509787          0.000000      12   \n",
       "1  4103.032597       1072.340217          0.222222      12   \n",
       "2   622.066742        627.284787          0.000000      12   \n",
       "3     0.000000        864.206542          0.000000      12   \n",
       "4   678.334763        244.791237          0.000000      12   \n",
       "5  1400.057770       2407.246035          0.000000      12   \n",
       "\n",
       "                                            features  prediction  \n",
       "0  [40.900749, 0.818182, 95.4, 0.0, 95.4, 0.0, 0....           0  \n",
       "1  (3202.467416, 0.909091, 0.0, 0.0, 0.0, 6442.94...           2  \n",
       "2  [2495.148862, 1.0, 773.17, 773.17, 0.0, 0.0, 1...           1  \n",
       "3  [1666.670542, 0.636364, 1499.0, 1499.0, 0.0, 2...           1  \n",
       "4  [817.714335, 1.0, 16.0, 16.0, 0.0, 0.0, 0.0833...           0  \n",
       "5  [1809.828751, 1.0, 1333.28, 0.0, 1333.28, 0.0,...           0  "
      ]
     },
     "execution_count": 47,
     "metadata": {},
     "output_type": "execute_result"
    }
   ],
   "source": [
    "predictions.limit(6).toPandas()"
   ]
  },
  {
   "cell_type": "markdown",
   "metadata": {},
   "source": [
    "My prediction contains values only 0,1,2 so I was able to cluster my data."
   ]
  },
  {
   "cell_type": "markdown",
   "metadata": {},
   "source": [
    "## Latent Dirichlet Allocation"
   ]
  },
  {
   "cell_type": "code",
   "execution_count": 48,
   "metadata": {},
   "outputs": [
    {
     "data": {
      "text/html": [
       "\n",
       "            <div>\n",
       "                <p><b>SparkSession - in-memory</b></p>\n",
       "                \n",
       "        <div>\n",
       "            <p><b>SparkContext</b></p>\n",
       "\n",
       "            <p><a href=\"http://10.0.0.36:4040\">Spark UI</a></p>\n",
       "\n",
       "            <dl>\n",
       "              <dt>Version</dt>\n",
       "                <dd><code>v3.0.0</code></dd>\n",
       "              <dt>Master</dt>\n",
       "                <dd><code>local[*]</code></dd>\n",
       "              <dt>AppName</dt>\n",
       "                <dd><code>kmeans</code></dd>\n",
       "            </dl>\n",
       "        </div>\n",
       "        \n",
       "            </div>\n",
       "        "
      ],
      "text/plain": [
       "<pyspark.sql.session.SparkSession at 0x2ae3964b5b0>"
      ]
     },
     "execution_count": 48,
     "metadata": {},
     "output_type": "execute_result"
    }
   ],
   "source": [
    "import pyspark \n",
    "from pyspark.sql import SparkSession\n",
    "spark = SparkSession.builder.appName(\"LDA\").getOrCreate()\n",
    "spark"
   ]
  },
  {
   "cell_type": "markdown",
   "metadata": {},
   "source": [
    "<div class=\"alert alert-block alert-warning\"><b>Data</b></div>"
   ]
  },
  {
   "cell_type": "code",
   "execution_count": 49,
   "metadata": {},
   "outputs": [],
   "source": [
    "from pyspark.sql.types import *\n",
    "from pyspark.ml.feature import *\n",
    "from pyspark.ml.clustering import LDA\n",
    "from pyspark.sql.functions import *\n",
    "from pyspark.ml import Pipeline "
   ]
  },
  {
   "cell_type": "markdown",
   "metadata": {},
   "source": [
    "**Dataset**\n",
    "\n",
    "This JSON lines file contains 1600 christmas cooking recipes scraped from BBC Good Food.\n",
    "\n",
    "**Content**\n",
    "\n",
    " - Recipe Title\n",
    " - Recipe Description (we are going to focus on this variable for our analysis)\n",
    " - Recipe Author\n",
    " - Ingredients list\n",
    " - Step by step method\n",
    "\n",
    "**Source:** https://www.yanlong.app/gjbroughton/christmas-recipes\n"
   ]
  },
  {
   "cell_type": "code",
   "execution_count": 50,
   "metadata": {},
   "outputs": [
    {
     "data": {
      "text/html": [
       "<div>\n",
       "<style scoped>\n",
       "    .dataframe tbody tr th:only-of-type {\n",
       "        vertical-align: middle;\n",
       "    }\n",
       "\n",
       "    .dataframe tbody tr th {\n",
       "        vertical-align: top;\n",
       "    }\n",
       "\n",
       "    .dataframe thead th {\n",
       "        text-align: right;\n",
       "    }\n",
       "</style>\n",
       "<table border=\"1\" class=\"dataframe\">\n",
       "  <thead>\n",
       "    <tr style=\"text-align: right;\">\n",
       "      <th></th>\n",
       "      <th>Author</th>\n",
       "      <th>Description</th>\n",
       "      <th>Ingredients</th>\n",
       "      <th>Method</th>\n",
       "      <th>Name</th>\n",
       "      <th>url</th>\n",
       "    </tr>\n",
       "  </thead>\n",
       "  <tbody>\n",
       "    <tr>\n",
       "      <th>0</th>\n",
       "      <td>Mary Cadogan</td>\n",
       "      <td>Combine a few key Christmas flavours here to m...</td>\n",
       "      <td>[2 tbsp olive oil, knob butter, 1 onion, finel...</td>\n",
       "      <td>[Heat oven to 190C/fan 170C/gas 5. Heat 1 tbsp...</td>\n",
       "      <td>Christmas pie</td>\n",
       "      <td>https://www.bbcgoodfood.com/recipes/2793/chris...</td>\n",
       "    </tr>\n",
       "    <tr>\n",
       "      <th>1</th>\n",
       "      <td>Mary Cadogan</td>\n",
       "      <td>An easy-to-make alternative to traditional Chr...</td>\n",
       "      <td>[175g butter, chopped, 200g dark muscovado sug...</td>\n",
       "      <td>[Put the butter, sugar, fruit, zests, juice an...</td>\n",
       "      <td>Simmer-&amp;-stir Christmas cake</td>\n",
       "      <td>https://www.bbcgoodfood.com/recipes/1160/simme...</td>\n",
       "    </tr>\n",
       "    <tr>\n",
       "      <th>2</th>\n",
       "      <td>Sara Buenfeld</td>\n",
       "      <td>These beautiful and classy little cakes make l...</td>\n",
       "      <td>[200g dark muscovado sugar, 175g butter, chopp...</td>\n",
       "      <td>[Tip the sugar, butter, dried fruit, whole che...</td>\n",
       "      <td>Christmas cupcakes</td>\n",
       "      <td>https://www.bbcgoodfood.com/recipes/72622/chri...</td>\n",
       "    </tr>\n",
       "    <tr>\n",
       "      <th>3</th>\n",
       "      <td>Paul Hollywood</td>\n",
       "      <td>Paul Hollywood's fruit rolls can be made ahead...</td>\n",
       "      <td>[500g strong white flour, plus extra for dusti...</td>\n",
       "      <td>[Put the flour and 1 tsp salt into a large bow...</td>\n",
       "      <td>Christmas buns</td>\n",
       "      <td>https://www.bbcgoodfood.com/recipes/1803633/ch...</td>\n",
       "    </tr>\n",
       "    <tr>\n",
       "      <th>4</th>\n",
       "      <td>Barney Desmazery</td>\n",
       "      <td>Made these for the second time today, and I ha...</td>\n",
       "      <td>[280g self-raising flour, 175g golden caster s...</td>\n",
       "      <td>[Heat oven to 190C/170 fan/gas 5 and line a 12...</td>\n",
       "      <td>Christmas cupcakes</td>\n",
       "      <td>https://www.bbcgoodfood.com/recipes/981634/chr...</td>\n",
       "    </tr>\n",
       "  </tbody>\n",
       "</table>\n",
       "</div>"
      ],
      "text/plain": [
       "             Author                                        Description  \\\n",
       "0      Mary Cadogan  Combine a few key Christmas flavours here to m...   \n",
       "1      Mary Cadogan  An easy-to-make alternative to traditional Chr...   \n",
       "2     Sara Buenfeld  These beautiful and classy little cakes make l...   \n",
       "3    Paul Hollywood  Paul Hollywood's fruit rolls can be made ahead...   \n",
       "4  Barney Desmazery  Made these for the second time today, and I ha...   \n",
       "\n",
       "                                         Ingredients  \\\n",
       "0  [2 tbsp olive oil, knob butter, 1 onion, finel...   \n",
       "1  [175g butter, chopped, 200g dark muscovado sug...   \n",
       "2  [200g dark muscovado sugar, 175g butter, chopp...   \n",
       "3  [500g strong white flour, plus extra for dusti...   \n",
       "4  [280g self-raising flour, 175g golden caster s...   \n",
       "\n",
       "                                              Method  \\\n",
       "0  [Heat oven to 190C/fan 170C/gas 5. Heat 1 tbsp...   \n",
       "1  [Put the butter, sugar, fruit, zests, juice an...   \n",
       "2  [Tip the sugar, butter, dried fruit, whole che...   \n",
       "3  [Put the flour and 1 tsp salt into a large bow...   \n",
       "4  [Heat oven to 190C/170 fan/gas 5 and line a 12...   \n",
       "\n",
       "                           Name  \\\n",
       "0                 Christmas pie   \n",
       "1  Simmer-&-stir Christmas cake   \n",
       "2            Christmas cupcakes   \n",
       "3                Christmas buns   \n",
       "4            Christmas cupcakes   \n",
       "\n",
       "                                                 url  \n",
       "0  https://www.bbcgoodfood.com/recipes/2793/chris...  \n",
       "1  https://www.bbcgoodfood.com/recipes/1160/simme...  \n",
       "2  https://www.bbcgoodfood.com/recipes/72622/chri...  \n",
       "3  https://www.bbcgoodfood.com/recipes/1803633/ch...  \n",
       "4  https://www.bbcgoodfood.com/recipes/981634/chr...  "
      ]
     },
     "execution_count": 50,
     "metadata": {},
     "output_type": "execute_result"
    }
   ],
   "source": [
    "path = 'Datasets/'\n",
    "df = spark.read.json(path+'recipes.json')\n",
    "df.limit(5).toPandas()"
   ]
  },
  {
   "cell_type": "code",
   "execution_count": 51,
   "metadata": {},
   "outputs": [
    {
     "name": "stdout",
     "output_type": "stream",
     "text": [
      "root\n",
      " |-- Author: string (nullable = true)\n",
      " |-- Description: string (nullable = true)\n",
      " |-- Ingredients: array (nullable = true)\n",
      " |    |-- element: string (containsNull = true)\n",
      " |-- Method: array (nullable = true)\n",
      " |    |-- element: string (containsNull = true)\n",
      " |-- Name: string (nullable = true)\n",
      " |-- url: string (nullable = true)\n",
      "\n"
     ]
    }
   ],
   "source": [
    "df.printSchema()"
   ]
  },
  {
   "cell_type": "markdown",
   "metadata": {},
   "source": [
    "**Missing values**"
   ]
  },
  {
   "cell_type": "code",
   "execution_count": 52,
   "metadata": {},
   "outputs": [
    {
     "name": "stdout",
     "output_type": "stream",
     "text": [
      "+-----------+-----------------+------------------+\n",
      "|Column_Name|Null_Values_Count|Null_Value_Percent|\n",
      "+-----------+-----------------+------------------+\n",
      "|     Author|                6|0.3710575139146568|\n",
      "|Description|              188|11.626468769325912|\n",
      "+-----------+-----------------+------------------+\n",
      "\n"
     ]
    }
   ],
   "source": [
    "def null_value_calc(df):\n",
    "    null_columns_counts = []\n",
    "    numRows = df.count()\n",
    "    for k in df.columns:\n",
    "        nullRows = df.where(col(k).isNull()).count()\n",
    "        if(nullRows > 0):\n",
    "            temp = k,nullRows,(nullRows/numRows)*100\n",
    "            null_columns_counts.append(temp)\n",
    "    return(null_columns_counts)\n",
    "\n",
    "null_columns_calc_list = null_value_calc(df)\n",
    "spark.createDataFrame(null_columns_calc_list, ['Column_Name', 'Null_Values_Count','Null_Value_Percent']).show()"
   ]
  },
  {
   "cell_type": "markdown",
   "metadata": {},
   "source": [
    "Sice the description is the most important column here, I wont be trying to replace values, so rows will be dropped."
   ]
  },
  {
   "cell_type": "code",
   "execution_count": 53,
   "metadata": {},
   "outputs": [
    {
     "data": {
      "text/plain": [
       "1617"
      ]
     },
     "execution_count": 53,
     "metadata": {},
     "output_type": "execute_result"
    }
   ],
   "source": [
    "df.count()"
   ]
  },
  {
   "cell_type": "code",
   "execution_count": 54,
   "metadata": {},
   "outputs": [
    {
     "data": {
      "text/plain": [
       "1429"
      ]
     },
     "execution_count": 54,
     "metadata": {},
     "output_type": "execute_result"
    }
   ],
   "source": [
    "df = df.na.drop(subset=[\"Description\"])\n",
    "df.count()"
   ]
  },
  {
   "cell_type": "markdown",
   "metadata": {},
   "source": [
    "<div class=\"alert alert-block alert-warning\"><b>Data Preparation - NLP part</b></div>"
   ]
  },
  {
   "cell_type": "markdown",
   "metadata": {},
   "source": [
    "- Clean text\n",
    "- Tokenize\n",
    "- Stopwords\n",
    "- Vectorizing"
   ]
  },
  {
   "cell_type": "markdown",
   "metadata": {},
   "source": [
    "**Cleaning**"
   ]
  },
  {
   "cell_type": "code",
   "execution_count": 55,
   "metadata": {},
   "outputs": [
    {
     "name": "stdout",
     "output_type": "stream",
     "text": [
      "+------------------------------------------------------------------------------------------------+\n",
      "|Description                                                                                     |\n",
      "+------------------------------------------------------------------------------------------------+\n",
      "|Combine a few key Christmas flavours here to make a pie that both children and adults will adore|\n",
      "|An easy-to-make alternative to traditional Christmas cakes which requires no beating            |\n",
      "+------------------------------------------------------------------------------------------------+\n",
      "only showing top 2 rows\n",
      "\n"
     ]
    }
   ],
   "source": [
    "df.select('Description').show(2,False)"
   ]
  },
  {
   "cell_type": "markdown",
   "metadata": {},
   "source": [
    "Nothing to see here, so we will just use a classic method for deleting special characters."
   ]
  },
  {
   "cell_type": "code",
   "execution_count": 56,
   "metadata": {},
   "outputs": [
    {
     "name": "stdout",
     "output_type": "stream",
     "text": [
      "+------------------------------------------------------------------------------------------------+\n",
      "|Description                                                                                     |\n",
      "+------------------------------------------------------------------------------------------------+\n",
      "|combine a few key christmas flavours here to make a pie that both children and adults will adore|\n",
      "|an easy to make alternative to traditional christmas cakes which requires no beating            |\n",
      "+------------------------------------------------------------------------------------------------+\n",
      "only showing top 2 rows\n",
      "\n"
     ]
    }
   ],
   "source": [
    "# Removing anything that is not a letter\n",
    "df_clean = df.withColumn(\"Description\",lower(regexp_replace(col('Description'), '[^A-Za-z ]+', ' ')))\n",
    "# Remove multiple spaces (because we replaced punctuation with a space)\n",
    "df_clean = df_clean.withColumn(\"Description\",regexp_replace(col('Description'), ' +', ' '))\n",
    "df_clean.select('Description').show(2,False)"
   ]
  },
  {
   "cell_type": "markdown",
   "metadata": {},
   "source": [
    "**Tokenize, stopwords, vectorize**"
   ]
  },
  {
   "cell_type": "code",
   "execution_count": 57,
   "metadata": {},
   "outputs": [],
   "source": [
    "# Tokenize\n",
    "regex_tokenizer = RegexTokenizer(inputCol=\"Description\", outputCol=\"words\", pattern=\"\\\\W\")\n",
    "raw_words = regex_tokenizer.transform(df_clean)\n",
    "\n",
    "# Stopwords\n",
    "remover = StopWordsRemover(inputCol=\"words\", outputCol=\"filtered\")\n",
    "words_df = remover.transform(raw_words)\n",
    "\n",
    "# Zero Index Label Column\n",
    "cv = CountVectorizer(inputCol=\"filtered\", outputCol=\"features\")\n",
    "cvmodel = cv.fit(words_df)\n",
    "df_vect = cvmodel.transform(words_df)"
   ]
  },
  {
   "cell_type": "code",
   "execution_count": 58,
   "metadata": {},
   "outputs": [
    {
     "data": {
      "text/html": [
       "<div>\n",
       "<style scoped>\n",
       "    .dataframe tbody tr th:only-of-type {\n",
       "        vertical-align: middle;\n",
       "    }\n",
       "\n",
       "    .dataframe tbody tr th {\n",
       "        vertical-align: top;\n",
       "    }\n",
       "\n",
       "    .dataframe thead th {\n",
       "        text-align: right;\n",
       "    }\n",
       "</style>\n",
       "<table border=\"1\" class=\"dataframe\">\n",
       "  <thead>\n",
       "    <tr style=\"text-align: right;\">\n",
       "      <th></th>\n",
       "      <th>Author</th>\n",
       "      <th>Description</th>\n",
       "      <th>Ingredients</th>\n",
       "      <th>Method</th>\n",
       "      <th>Name</th>\n",
       "      <th>url</th>\n",
       "      <th>words</th>\n",
       "      <th>filtered</th>\n",
       "      <th>features</th>\n",
       "    </tr>\n",
       "  </thead>\n",
       "  <tbody>\n",
       "    <tr>\n",
       "      <th>0</th>\n",
       "      <td>Mary Cadogan</td>\n",
       "      <td>combine a few key christmas flavours here to m...</td>\n",
       "      <td>[2 tbsp olive oil, knob butter, 1 onion, finel...</td>\n",
       "      <td>[Heat oven to 190C/fan 170C/gas 5. Heat 1 tbsp...</td>\n",
       "      <td>Christmas pie</td>\n",
       "      <td>https://www.bbcgoodfood.com/recipes/2793/chris...</td>\n",
       "      <td>[combine, a, few, key, christmas, flavours, he...</td>\n",
       "      <td>[combine, key, christmas, flavours, make, pie,...</td>\n",
       "      <td>(1.0, 1.0, 0.0, 0.0, 0.0, 0.0, 0.0, 0.0, 0.0, ...</td>\n",
       "    </tr>\n",
       "    <tr>\n",
       "      <th>1</th>\n",
       "      <td>Mary Cadogan</td>\n",
       "      <td>an easy to make alternative to traditional chr...</td>\n",
       "      <td>[175g butter, chopped, 200g dark muscovado sug...</td>\n",
       "      <td>[Put the butter, sugar, fruit, zests, juice an...</td>\n",
       "      <td>Simmer-&amp;-stir Christmas cake</td>\n",
       "      <td>https://www.bbcgoodfood.com/recipes/1160/simme...</td>\n",
       "      <td>[an, easy, to, make, alternative, to, traditio...</td>\n",
       "      <td>[easy, make, alternative, traditional, christm...</td>\n",
       "      <td>(1.0, 1.0, 0.0, 0.0, 0.0, 0.0, 0.0, 1.0, 0.0, ...</td>\n",
       "    </tr>\n",
       "    <tr>\n",
       "      <th>2</th>\n",
       "      <td>Sara Buenfeld</td>\n",
       "      <td>these beautiful and classy little cakes make l...</td>\n",
       "      <td>[200g dark muscovado sugar, 175g butter, chopp...</td>\n",
       "      <td>[Tip the sugar, butter, dried fruit, whole che...</td>\n",
       "      <td>Christmas cupcakes</td>\n",
       "      <td>https://www.bbcgoodfood.com/recipes/72622/chri...</td>\n",
       "      <td>[these, beautiful, and, classy, little, cakes,...</td>\n",
       "      <td>[beautiful, classy, little, cakes, make, lovel...</td>\n",
       "      <td>(0.0, 1.0, 0.0, 0.0, 0.0, 0.0, 0.0, 0.0, 0.0, ...</td>\n",
       "    </tr>\n",
       "    <tr>\n",
       "      <th>3</th>\n",
       "      <td>Paul Hollywood</td>\n",
       "      <td>paul hollywood s fruit rolls can be made ahead...</td>\n",
       "      <td>[500g strong white flour, plus extra for dusti...</td>\n",
       "      <td>[Put the flour and 1 tsp salt into a large bow...</td>\n",
       "      <td>Christmas buns</td>\n",
       "      <td>https://www.bbcgoodfood.com/recipes/1803633/ch...</td>\n",
       "      <td>[paul, hollywood, s, fruit, rolls, can, be, ma...</td>\n",
       "      <td>[paul, hollywood, fruit, rolls, made, ahead, h...</td>\n",
       "      <td>(0.0, 0.0, 0.0, 0.0, 1.0, 0.0, 0.0, 0.0, 0.0, ...</td>\n",
       "    </tr>\n",
       "  </tbody>\n",
       "</table>\n",
       "</div>"
      ],
      "text/plain": [
       "           Author                                        Description  \\\n",
       "0    Mary Cadogan  combine a few key christmas flavours here to m...   \n",
       "1    Mary Cadogan  an easy to make alternative to traditional chr...   \n",
       "2   Sara Buenfeld  these beautiful and classy little cakes make l...   \n",
       "3  Paul Hollywood  paul hollywood s fruit rolls can be made ahead...   \n",
       "\n",
       "                                         Ingredients  \\\n",
       "0  [2 tbsp olive oil, knob butter, 1 onion, finel...   \n",
       "1  [175g butter, chopped, 200g dark muscovado sug...   \n",
       "2  [200g dark muscovado sugar, 175g butter, chopp...   \n",
       "3  [500g strong white flour, plus extra for dusti...   \n",
       "\n",
       "                                              Method  \\\n",
       "0  [Heat oven to 190C/fan 170C/gas 5. Heat 1 tbsp...   \n",
       "1  [Put the butter, sugar, fruit, zests, juice an...   \n",
       "2  [Tip the sugar, butter, dried fruit, whole che...   \n",
       "3  [Put the flour and 1 tsp salt into a large bow...   \n",
       "\n",
       "                           Name  \\\n",
       "0                 Christmas pie   \n",
       "1  Simmer-&-stir Christmas cake   \n",
       "2            Christmas cupcakes   \n",
       "3                Christmas buns   \n",
       "\n",
       "                                                 url  \\\n",
       "0  https://www.bbcgoodfood.com/recipes/2793/chris...   \n",
       "1  https://www.bbcgoodfood.com/recipes/1160/simme...   \n",
       "2  https://www.bbcgoodfood.com/recipes/72622/chri...   \n",
       "3  https://www.bbcgoodfood.com/recipes/1803633/ch...   \n",
       "\n",
       "                                               words  \\\n",
       "0  [combine, a, few, key, christmas, flavours, he...   \n",
       "1  [an, easy, to, make, alternative, to, traditio...   \n",
       "2  [these, beautiful, and, classy, little, cakes,...   \n",
       "3  [paul, hollywood, s, fruit, rolls, can, be, ma...   \n",
       "\n",
       "                                            filtered  \\\n",
       "0  [combine, key, christmas, flavours, make, pie,...   \n",
       "1  [easy, make, alternative, traditional, christm...   \n",
       "2  [beautiful, classy, little, cakes, make, lovel...   \n",
       "3  [paul, hollywood, fruit, rolls, made, ahead, h...   \n",
       "\n",
       "                                            features  \n",
       "0  (1.0, 1.0, 0.0, 0.0, 0.0, 0.0, 0.0, 0.0, 0.0, ...  \n",
       "1  (1.0, 1.0, 0.0, 0.0, 0.0, 0.0, 0.0, 1.0, 0.0, ...  \n",
       "2  (0.0, 1.0, 0.0, 0.0, 0.0, 0.0, 0.0, 0.0, 0.0, ...  \n",
       "3  (0.0, 0.0, 0.0, 0.0, 1.0, 0.0, 0.0, 0.0, 0.0, ...  "
      ]
     },
     "execution_count": 58,
     "metadata": {},
     "output_type": "execute_result"
    }
   ],
   "source": [
    "df_vect.limit(4).toPandas()"
   ]
  },
  {
   "cell_type": "markdown",
   "metadata": {},
   "source": [
    "And that's it, very straightforwad, now I can procced with LDA."
   ]
  },
  {
   "cell_type": "markdown",
   "metadata": {},
   "source": [
    "<div class=\"alert alert-block alert-warning\"><b>LDA looking for K value</b></div>"
   ]
  },
  {
   "cell_type": "markdown",
   "metadata": {},
   "source": [
    "**Basic info**\n",
    "\n",
    "This portion is going to be more like our k-means analysis where we plot our results and look for the elbow except this time we will be using the following metrics (the only ones PySpark provides):\n",
    "\n",
    "**Log likelihood:** Calculates a lower bound on the log likelihood of the entire corpus. We want higher numbers here. See Equation (16) in the Online LDA paper (Hoffman et al., 2010).\n",
    "\n",
    "**Log Perplexity:** Calculate an upper bound on perplexity. See Equation (16) in the Online LDA paper (Hoffman et al., 2010). We want lower numbers here, however keep in mind that this evaluation metric is debatable as many have shown that, surprisingly, perplexity and human judgment are often not correlated, and even sometimes slightly anti-correlated. Here is one interesting paper here on the subject: http://qpleple.com/perplexity-to-evaluate-topic-models/"
   ]
  },
  {
   "cell_type": "code",
   "execution_count": 59,
   "metadata": {},
   "outputs": [
    {
     "data": {
      "text/plain": [
       "Text(0, 0.5, 'lp')"
      ]
     },
     "execution_count": 59,
     "metadata": {},
     "output_type": "execute_result"
    },
    {
     "data": {
      "image/png": "[encoded data removed]",
      "text/plain": [
       "<Figure size 576x432 with 1 Axes>"
      ]
     },
     "metadata": {
      "needs_background": "light"
     },
     "output_type": "display_data"
    },
    {
     "data": {
      "image/png": "[encoded data removed]",
      "text/plain": [
       "<Figure size 576x432 with 1 Axes>"
      ]
     },
     "metadata": {
      "needs_background": "light"
     },
     "output_type": "display_data"
    }
   ],
   "source": [
    "import matplotlib.pyplot as plt\n",
    "from mpl_toolkits.mplot3d import Axes3D\n",
    "import numpy as np\n",
    "\n",
    "kmax = 30\n",
    "ll = np.zeros(kmax)\n",
    "lp = np.zeros(kmax)\n",
    "for k in range(2,kmax):\n",
    "    lda = LDA(k=k, maxIter=10)\n",
    "    model = lda.fit(df_vect)\n",
    "    ll[k] = model.logLikelihood(df_vect)\n",
    "    lp[k] = model.logPerplexity(df_vect)\n",
    "    \n",
    "fig, ax = plt.subplots(1,1, figsize =(8,6))\n",
    "ax.plot(range(2,kmax),ll[2:kmax])\n",
    "ax.set_xlabel('k')\n",
    "ax.set_ylabel('ll')\n",
    "\n",
    "fig, ax = plt.subplots(1,1, figsize =(8,6))\n",
    "ax.plot(range(2,kmax),lp[2:kmax])\n",
    "ax.set_xlabel('k')\n",
    "ax.set_ylabel('lp')"
   ]
  },
  {
   "cell_type": "markdown",
   "metadata": {},
   "source": [
    "*Better to choose lower K, but that make sense. More k = probably bad topic names.*"
   ]
  },
  {
   "cell_type": "markdown",
   "metadata": {},
   "source": [
    "<div class=\"alert alert-block alert-warning\"><b>Final LDA model</b></div>"
   ]
  },
  {
   "cell_type": "code",
   "execution_count": 60,
   "metadata": {},
   "outputs": [],
   "source": [
    "lda = LDA(k=5, maxIter=10)\n",
    "model = lda.fit(df_vect)"
   ]
  },
  {
   "cell_type": "code",
   "execution_count": 61,
   "metadata": {},
   "outputs": [
    {
     "name": "stdout",
     "output_type": "stream",
     "text": [
      "Recap of ll and lp:\n",
      "The lower bound on the log likelihood of the entire corpus: -165066.89051803027\n",
      "The upper bound on perplexity: 8.184593936832124\n",
      "Vocab Size:  3476\n",
      "The topics described by their top-weighted terms:\n",
      " \n",
      "TOPIC: 0\n",
      "cake\n",
      "chocolate\n",
      "christmas\n",
      "flavour\n",
      " \n",
      "TOPIC: 1\n",
      "sweet\n",
      "used\n",
      "step\n",
      "christmas\n",
      " \n",
      "TOPIC: 2\n",
      "really\n",
      "making\n",
      "sugar\n",
      "made\n",
      " \n",
      "TOPIC: 3\n",
      "sized\n",
      "bite\n",
      "tangy\n",
      "roll\n",
      " \n",
      "TOPIC: 4\n",
      "make\n",
      "christmas\n",
      "perfect\n",
      "recipe\n"
     ]
    }
   ],
   "source": [
    "print(\"Recap of ll and lp:\")\n",
    "ll = model.logLikelihood(df_vect)\n",
    "lp = model.logPerplexity(df_vect)\n",
    "print(\"The lower bound on the log likelihood of the entire corpus: \" + str(ll))\n",
    "print(\"The upper bound on perplexity: \" + str(lp))\n",
    "print(\"Vocab Size: \", model.vocabSize())\n",
    "\n",
    "# Describe topics.\n",
    "print(\"The topics described by their top-weighted terms:\")\n",
    "topics = model.describeTopics(maxTermsPerTopic = 4)\n",
    "# topics.show(truncate=False)\n",
    "topics = topics.collect()\n",
    "vocablist = cvmodel.vocabulary\n",
    "# Enumerate adds a counter to topics and returns it in a form of enumerate object. \n",
    "for x, topic in enumerate(topics):\n",
    "    print(\" \")\n",
    "    print('TOPIC: ' + str(x))\n",
    "    # This is like a temp holder\n",
    "    topic = topics\n",
    "    # Then we extract the words from the topics\n",
    "    words = topic[x][1]\n",
    "    # Then print the words by topics\n",
    "    for n in range(len(words)):\n",
    "        print(vocablist[words[n]]) # + ' ' + str(weights[n])"
   ]
  },
  {
   "cell_type": "markdown",
   "metadata": {},
   "source": [
    "Okay so we have some prediction for our topics based on description. Easiest approach would be to rewrite names of topics by hand. Let's look at some recommendation."
   ]
  },
  {
   "cell_type": "code",
   "execution_count": 63,
   "metadata": {},
   "outputs": [
    {
     "name": "stdout",
     "output_type": "stream",
     "text": [
      "root\n",
      " |-- Author: string (nullable = true)\n",
      " |-- Description: string (nullable = true)\n",
      " |-- Ingredients: array (nullable = true)\n",
      " |    |-- element: string (containsNull = true)\n",
      " |-- Method: array (nullable = true)\n",
      " |    |-- element: string (containsNull = true)\n",
      " |-- Name: string (nullable = true)\n",
      " |-- url: string (nullable = true)\n",
      " |-- words: array (nullable = true)\n",
      " |    |-- element: string (containsNull = true)\n",
      " |-- filtered: array (nullable = true)\n",
      " |    |-- element: string (containsNull = true)\n",
      " |-- features: vector (nullable = true)\n",
      " |-- topicDistribution: vector (nullable = true)\n",
      " |-- array: array (nullable = true)\n",
      " |    |-- element: double (containsNull = true)\n",
      " |-- max: double (nullable = true)\n",
      " |-- topic: string (nullable = true)\n",
      "\n"
     ]
    },
    {
     "data": {
      "text/html": [
       "<div>\n",
       "<style scoped>\n",
       "    .dataframe tbody tr th:only-of-type {\n",
       "        vertical-align: middle;\n",
       "    }\n",
       "\n",
       "    .dataframe tbody tr th {\n",
       "        vertical-align: top;\n",
       "    }\n",
       "\n",
       "    .dataframe thead th {\n",
       "        text-align: right;\n",
       "    }\n",
       "</style>\n",
       "<table border=\"1\" class=\"dataframe\">\n",
       "  <thead>\n",
       "    <tr style=\"text-align: right;\">\n",
       "      <th></th>\n",
       "      <th>Author</th>\n",
       "      <th>Description</th>\n",
       "      <th>Ingredients</th>\n",
       "      <th>Method</th>\n",
       "      <th>Name</th>\n",
       "      <th>url</th>\n",
       "      <th>words</th>\n",
       "      <th>filtered</th>\n",
       "      <th>features</th>\n",
       "      <th>topicDistribution</th>\n",
       "      <th>array</th>\n",
       "      <th>max</th>\n",
       "      <th>topic</th>\n",
       "    </tr>\n",
       "  </thead>\n",
       "  <tbody>\n",
       "    <tr>\n",
       "      <th>0</th>\n",
       "      <td>Mary Cadogan</td>\n",
       "      <td>combine a few key christmas flavours here to m...</td>\n",
       "      <td>[2 tbsp olive oil, knob butter, 1 onion, finel...</td>\n",
       "      <td>[Heat oven to 190C/fan 170C/gas 5. Heat 1 tbsp...</td>\n",
       "      <td>Christmas pie</td>\n",
       "      <td>https://www.bbcgoodfood.com/recipes/2793/chris...</td>\n",
       "      <td>[combine, a, few, key, christmas, flavours, he...</td>\n",
       "      <td>[combine, key, christmas, flavours, make, pie,...</td>\n",
       "      <td>(1.0, 1.0, 0.0, 0.0, 0.0, 0.0, 0.0, 0.0, 0.0, ...</td>\n",
       "      <td>[0.017605885916951742, 0.01727283086305035, 0....</td>\n",
       "      <td>[0.017605885916951742, 0.01727283086305035, 0....</td>\n",
       "      <td>0.930613</td>\n",
       "      <td>[4]</td>\n",
       "    </tr>\n",
       "    <tr>\n",
       "      <th>1</th>\n",
       "      <td>Mary Cadogan</td>\n",
       "      <td>an easy to make alternative to traditional chr...</td>\n",
       "      <td>[175g butter, chopped, 200g dark muscovado sug...</td>\n",
       "      <td>[Put the butter, sugar, fruit, zests, juice an...</td>\n",
       "      <td>Simmer-&amp;-stir Christmas cake</td>\n",
       "      <td>https://www.bbcgoodfood.com/recipes/1160/simme...</td>\n",
       "      <td>[an, easy, to, make, alternative, to, traditio...</td>\n",
       "      <td>[easy, make, alternative, traditional, christm...</td>\n",
       "      <td>(1.0, 1.0, 0.0, 0.0, 0.0, 0.0, 0.0, 1.0, 0.0, ...</td>\n",
       "      <td>[0.019649621889200906, 0.019265785275468534, 0...</td>\n",
       "      <td>[0.019649621889200906, 0.019265785275468534, 0...</td>\n",
       "      <td>0.922596</td>\n",
       "      <td>[4]</td>\n",
       "    </tr>\n",
       "    <tr>\n",
       "      <th>2</th>\n",
       "      <td>Sara Buenfeld</td>\n",
       "      <td>these beautiful and classy little cakes make l...</td>\n",
       "      <td>[200g dark muscovado sugar, 175g butter, chopp...</td>\n",
       "      <td>[Tip the sugar, butter, dried fruit, whole che...</td>\n",
       "      <td>Christmas cupcakes</td>\n",
       "      <td>https://www.bbcgoodfood.com/recipes/72622/chri...</td>\n",
       "      <td>[these, beautiful, and, classy, little, cakes,...</td>\n",
       "      <td>[beautiful, classy, little, cakes, make, lovel...</td>\n",
       "      <td>(0.0, 1.0, 0.0, 0.0, 0.0, 0.0, 0.0, 0.0, 0.0, ...</td>\n",
       "      <td>[0.015910489160384702, 0.015640777404509917, 0...</td>\n",
       "      <td>[0.015910489160384702, 0.015640777404509917, 0...</td>\n",
       "      <td>0.937215</td>\n",
       "      <td>[4]</td>\n",
       "    </tr>\n",
       "    <tr>\n",
       "      <th>3</th>\n",
       "      <td>Paul Hollywood</td>\n",
       "      <td>paul hollywood s fruit rolls can be made ahead...</td>\n",
       "      <td>[500g strong white flour, plus extra for dusti...</td>\n",
       "      <td>[Put the flour and 1 tsp salt into a large bow...</td>\n",
       "      <td>Christmas buns</td>\n",
       "      <td>https://www.bbcgoodfood.com/recipes/1803633/ch...</td>\n",
       "      <td>[paul, hollywood, s, fruit, rolls, can, be, ma...</td>\n",
       "      <td>[paul, hollywood, fruit, rolls, made, ahead, h...</td>\n",
       "      <td>(0.0, 0.0, 0.0, 0.0, 1.0, 0.0, 0.0, 0.0, 0.0, ...</td>\n",
       "      <td>[0.013652197494017132, 0.013315530067130833, 0...</td>\n",
       "      <td>[0.013652197494017132, 0.013315530067130833, 0...</td>\n",
       "      <td>0.946392</td>\n",
       "      <td>[4]</td>\n",
       "    </tr>\n",
       "    <tr>\n",
       "      <th>4</th>\n",
       "      <td>Barney Desmazery</td>\n",
       "      <td>made these for the second time today and i hav...</td>\n",
       "      <td>[280g self-raising flour, 175g golden caster s...</td>\n",
       "      <td>[Heat oven to 190C/170 fan/gas 5 and line a 12...</td>\n",
       "      <td>Christmas cupcakes</td>\n",
       "      <td>https://www.bbcgoodfood.com/recipes/981634/chr...</td>\n",
       "      <td>[made, these, for, the, second, time, today, a...</td>\n",
       "      <td>[made, second, time, today, say, turned, great...</td>\n",
       "      <td>(1.0, 1.0, 0.0, 0.0, 2.0, 1.0, 0.0, 0.0, 0.0, ...</td>\n",
       "      <td>[0.007970869909660953, 0.007819533297542116, 0...</td>\n",
       "      <td>[0.007970869909660953, 0.007819533297542116, 0...</td>\n",
       "      <td>0.968529</td>\n",
       "      <td>[4]</td>\n",
       "    </tr>\n",
       "    <tr>\n",
       "      <th>5</th>\n",
       "      <td>Good Food</td>\n",
       "      <td>a nutty winter salad which is superhealthy qui...</td>\n",
       "      <td>[2 carrots, halved, ½ white cabbage, shredded,...</td>\n",
       "      <td>[Peel strips from the carrots using a vegetabl...</td>\n",
       "      <td>Christmas slaw</td>\n",
       "      <td>https://www.bbcgoodfood.com/recipes/890635/chr...</td>\n",
       "      <td>[a, nutty, winter, salad, which, is, superheal...</td>\n",
       "      <td>[nutty, winter, salad, superhealthy, quick, pr...</td>\n",
       "      <td>(0.0, 0.0, 0.0, 0.0, 0.0, 0.0, 0.0, 0.0, 0.0, ...</td>\n",
       "      <td>[0.014787064249136773, 0.01438561366435553, 0....</td>\n",
       "      <td>[0.014787064249136773, 0.01438561366435553, 0....</td>\n",
       "      <td>0.942038</td>\n",
       "      <td>[4]</td>\n",
       "    </tr>\n",
       "    <tr>\n",
       "      <th>6</th>\n",
       "      <td>Caroline Hire</td>\n",
       "      <td>delicious and a synch to make have made this a...</td>\n",
       "      <td>[600ml double cream, 400g Greek yoghurt, 4 tbs...</td>\n",
       "      <td>[In a small saucepan gently heat the frozen be...</td>\n",
       "      <td>Christmas mess</td>\n",
       "      <td>https://www.bbcgoodfood.com/recipes/2806664/ch...</td>\n",
       "      <td>[delicious, and, a, synch, to, make, have, mad...</td>\n",
       "      <td>[delicious, synch, make, made, couple, times, ...</td>\n",
       "      <td>(0.0, 1.0, 0.0, 0.0, 2.0, 1.0, 0.0, 0.0, 1.0, ...</td>\n",
       "      <td>[0.004736325100269986, 0.00465824448078024, 0....</td>\n",
       "      <td>[0.004736325100269986, 0.00465824448078024, 0....</td>\n",
       "      <td>0.981288</td>\n",
       "      <td>[4]</td>\n",
       "    </tr>\n",
       "    <tr>\n",
       "      <th>7</th>\n",
       "      <td>Miriam Nice</td>\n",
       "      <td>can i made these the day before</td>\n",
       "      <td>[200g unsalted buttercut into cubes, plus extr...</td>\n",
       "      <td>[Grease and line a 20cm x 20cm brownie tin. He...</td>\n",
       "      <td>Christmas brownies</td>\n",
       "      <td>https://www.bbcgoodfood.com/recipes/christmas-...</td>\n",
       "      <td>[can, i, made, these, the, day, before]</td>\n",
       "      <td>[made, day]</td>\n",
       "      <td>(0.0, 0.0, 0.0, 0.0, 1.0, 0.0, 0.0, 0.0, 0.0, ...</td>\n",
       "      <td>[0.05953460603279525, 0.0585694416133144, 0.05...</td>\n",
       "      <td>[0.05953460603279525, 0.0585694416133144, 0.05...</td>\n",
       "      <td>0.764590</td>\n",
       "      <td>[4]</td>\n",
       "    </tr>\n",
       "    <tr>\n",
       "      <th>8</th>\n",
       "      <td>Good Food</td>\n",
       "      <td>how many servings have you gotten using the ab...</td>\n",
       "      <td>[500ml vodka, 500ml gingerwine, 1l cranberry j...</td>\n",
       "      <td>[Mix the vodka and ginger wine in a jug. Stir ...</td>\n",
       "      <td>Christmas cosmopolitan</td>\n",
       "      <td>https://www.bbcgoodfood.com/recipes/889643/chr...</td>\n",
       "      <td>[how, many, servings, have, you, gotten, using...</td>\n",
       "      <td>[many, servings, gotten, using, measures]</td>\n",
       "      <td>(0.0, 0.0, 0.0, 0.0, 0.0, 0.0, 0.0, 0.0, 0.0, ...</td>\n",
       "      <td>[0.8728397971167294, 0.02903357102066038, 0.02...</td>\n",
       "      <td>[0.8728397971167294, 0.02903357102066038, 0.02...</td>\n",
       "      <td>0.872840</td>\n",
       "      <td>[0]</td>\n",
       "    </tr>\n",
       "    <tr>\n",
       "      <th>9</th>\n",
       "      <td>Katy Greenwood</td>\n",
       "      <td>use up leftover roast turkey and sausagemeat s...</td>\n",
       "      <td>[145g pizza basemix, 6 tbsp tomato pasta sauce...</td>\n",
       "      <td>[Heat oven to 220C/200C fan/gas 7. Prepare the...</td>\n",
       "      <td>Christmas pizza</td>\n",
       "      <td>https://www.bbcgoodfood.com/recipes/christmas-...</td>\n",
       "      <td>[use, up, leftover, roast, turkey, and, sausag...</td>\n",
       "      <td>[use, leftover, roast, turkey, sausagemeat, st...</td>\n",
       "      <td>(0.0, 0.0, 0.0, 0.0, 0.0, 0.0, 0.0, 0.0, 0.0, ...</td>\n",
       "      <td>[0.015910817764351475, 0.015635806592485934, 0...</td>\n",
       "      <td>[0.015910817764351475, 0.015635806592485934, 0...</td>\n",
       "      <td>0.937216</td>\n",
       "      <td>[4]</td>\n",
       "    </tr>\n",
       "  </tbody>\n",
       "</table>\n",
       "</div>"
      ],
      "text/plain": [
       "             Author                                        Description  \\\n",
       "0      Mary Cadogan  combine a few key christmas flavours here to m...   \n",
       "1      Mary Cadogan  an easy to make alternative to traditional chr...   \n",
       "2     Sara Buenfeld  these beautiful and classy little cakes make l...   \n",
       "3    Paul Hollywood  paul hollywood s fruit rolls can be made ahead...   \n",
       "4  Barney Desmazery  made these for the second time today and i hav...   \n",
       "5         Good Food  a nutty winter salad which is superhealthy qui...   \n",
       "6     Caroline Hire  delicious and a synch to make have made this a...   \n",
       "7       Miriam Nice                    can i made these the day before   \n",
       "8         Good Food  how many servings have you gotten using the ab...   \n",
       "9    Katy Greenwood  use up leftover roast turkey and sausagemeat s...   \n",
       "\n",
       "                                         Ingredients  \\\n",
       "0  [2 tbsp olive oil, knob butter, 1 onion, finel...   \n",
       "1  [175g butter, chopped, 200g dark muscovado sug...   \n",
       "2  [200g dark muscovado sugar, 175g butter, chopp...   \n",
       "3  [500g strong white flour, plus extra for dusti...   \n",
       "4  [280g self-raising flour, 175g golden caster s...   \n",
       "5  [2 carrots, halved, ½ white cabbage, shredded,...   \n",
       "6  [600ml double cream, 400g Greek yoghurt, 4 tbs...   \n",
       "7  [200g unsalted buttercut into cubes, plus extr...   \n",
       "8  [500ml vodka, 500ml gingerwine, 1l cranberry j...   \n",
       "9  [145g pizza basemix, 6 tbsp tomato pasta sauce...   \n",
       "\n",
       "                                              Method  \\\n",
       "0  [Heat oven to 190C/fan 170C/gas 5. Heat 1 tbsp...   \n",
       "1  [Put the butter, sugar, fruit, zests, juice an...   \n",
       "2  [Tip the sugar, butter, dried fruit, whole che...   \n",
       "3  [Put the flour and 1 tsp salt into a large bow...   \n",
       "4  [Heat oven to 190C/170 fan/gas 5 and line a 12...   \n",
       "5  [Peel strips from the carrots using a vegetabl...   \n",
       "6  [In a small saucepan gently heat the frozen be...   \n",
       "7  [Grease and line a 20cm x 20cm brownie tin. He...   \n",
       "8  [Mix the vodka and ginger wine in a jug. Stir ...   \n",
       "9  [Heat oven to 220C/200C fan/gas 7. Prepare the...   \n",
       "\n",
       "                           Name  \\\n",
       "0                 Christmas pie   \n",
       "1  Simmer-&-stir Christmas cake   \n",
       "2            Christmas cupcakes   \n",
       "3                Christmas buns   \n",
       "4            Christmas cupcakes   \n",
       "5                Christmas slaw   \n",
       "6                Christmas mess   \n",
       "7            Christmas brownies   \n",
       "8        Christmas cosmopolitan   \n",
       "9               Christmas pizza   \n",
       "\n",
       "                                                 url  \\\n",
       "0  https://www.bbcgoodfood.com/recipes/2793/chris...   \n",
       "1  https://www.bbcgoodfood.com/recipes/1160/simme...   \n",
       "2  https://www.bbcgoodfood.com/recipes/72622/chri...   \n",
       "3  https://www.bbcgoodfood.com/recipes/1803633/ch...   \n",
       "4  https://www.bbcgoodfood.com/recipes/981634/chr...   \n",
       "5  https://www.bbcgoodfood.com/recipes/890635/chr...   \n",
       "6  https://www.bbcgoodfood.com/recipes/2806664/ch...   \n",
       "7  https://www.bbcgoodfood.com/recipes/christmas-...   \n",
       "8  https://www.bbcgoodfood.com/recipes/889643/chr...   \n",
       "9  https://www.bbcgoodfood.com/recipes/christmas-...   \n",
       "\n",
       "                                               words  \\\n",
       "0  [combine, a, few, key, christmas, flavours, he...   \n",
       "1  [an, easy, to, make, alternative, to, traditio...   \n",
       "2  [these, beautiful, and, classy, little, cakes,...   \n",
       "3  [paul, hollywood, s, fruit, rolls, can, be, ma...   \n",
       "4  [made, these, for, the, second, time, today, a...   \n",
       "5  [a, nutty, winter, salad, which, is, superheal...   \n",
       "6  [delicious, and, a, synch, to, make, have, mad...   \n",
       "7            [can, i, made, these, the, day, before]   \n",
       "8  [how, many, servings, have, you, gotten, using...   \n",
       "9  [use, up, leftover, roast, turkey, and, sausag...   \n",
       "\n",
       "                                            filtered  \\\n",
       "0  [combine, key, christmas, flavours, make, pie,...   \n",
       "1  [easy, make, alternative, traditional, christm...   \n",
       "2  [beautiful, classy, little, cakes, make, lovel...   \n",
       "3  [paul, hollywood, fruit, rolls, made, ahead, h...   \n",
       "4  [made, second, time, today, say, turned, great...   \n",
       "5  [nutty, winter, salad, superhealthy, quick, pr...   \n",
       "6  [delicious, synch, make, made, couple, times, ...   \n",
       "7                                        [made, day]   \n",
       "8          [many, servings, gotten, using, measures]   \n",
       "9  [use, leftover, roast, turkey, sausagemeat, st...   \n",
       "\n",
       "                                            features  \\\n",
       "0  (1.0, 1.0, 0.0, 0.0, 0.0, 0.0, 0.0, 0.0, 0.0, ...   \n",
       "1  (1.0, 1.0, 0.0, 0.0, 0.0, 0.0, 0.0, 1.0, 0.0, ...   \n",
       "2  (0.0, 1.0, 0.0, 0.0, 0.0, 0.0, 0.0, 0.0, 0.0, ...   \n",
       "3  (0.0, 0.0, 0.0, 0.0, 1.0, 0.0, 0.0, 0.0, 0.0, ...   \n",
       "4  (1.0, 1.0, 0.0, 0.0, 2.0, 1.0, 0.0, 0.0, 0.0, ...   \n",
       "5  (0.0, 0.0, 0.0, 0.0, 0.0, 0.0, 0.0, 0.0, 0.0, ...   \n",
       "6  (0.0, 1.0, 0.0, 0.0, 2.0, 1.0, 0.0, 0.0, 1.0, ...   \n",
       "7  (0.0, 0.0, 0.0, 0.0, 1.0, 0.0, 0.0, 0.0, 0.0, ...   \n",
       "8  (0.0, 0.0, 0.0, 0.0, 0.0, 0.0, 0.0, 0.0, 0.0, ...   \n",
       "9  (0.0, 0.0, 0.0, 0.0, 0.0, 0.0, 0.0, 0.0, 0.0, ...   \n",
       "\n",
       "                                   topicDistribution  \\\n",
       "0  [0.017605885916951742, 0.01727283086305035, 0....   \n",
       "1  [0.019649621889200906, 0.019265785275468534, 0...   \n",
       "2  [0.015910489160384702, 0.015640777404509917, 0...   \n",
       "3  [0.013652197494017132, 0.013315530067130833, 0...   \n",
       "4  [0.007970869909660953, 0.007819533297542116, 0...   \n",
       "5  [0.014787064249136773, 0.01438561366435553, 0....   \n",
       "6  [0.004736325100269986, 0.00465824448078024, 0....   \n",
       "7  [0.05953460603279525, 0.0585694416133144, 0.05...   \n",
       "8  [0.8728397971167294, 0.02903357102066038, 0.02...   \n",
       "9  [0.015910817764351475, 0.015635806592485934, 0...   \n",
       "\n",
       "                                               array       max topic  \n",
       "0  [0.017605885916951742, 0.01727283086305035, 0....  0.930613   [4]  \n",
       "1  [0.019649621889200906, 0.019265785275468534, 0...  0.922596   [4]  \n",
       "2  [0.015910489160384702, 0.015640777404509917, 0...  0.937215   [4]  \n",
       "3  [0.013652197494017132, 0.013315530067130833, 0...  0.946392   [4]  \n",
       "4  [0.007970869909660953, 0.007819533297542116, 0...  0.968529   [4]  \n",
       "5  [0.014787064249136773, 0.01438561366435553, 0....  0.942038   [4]  \n",
       "6  [0.004736325100269986, 0.00465824448078024, 0....  0.981288   [4]  \n",
       "7  [0.05953460603279525, 0.0585694416133144, 0.05...  0.764590   [4]  \n",
       "8  [0.8728397971167294, 0.02903357102066038, 0.02...  0.872840   [0]  \n",
       "9  [0.015910817764351475, 0.015635806592485934, 0...  0.937216   [4]  "
      ]
     },
     "execution_count": 63,
     "metadata": {},
     "output_type": "execute_result"
    }
   ],
   "source": [
    "# Make predictions\n",
    "transformed = model.transform(df_vect)\n",
    "transformed.toPandas()\n",
    "\n",
    "# Convert topicdistribution col from vector to array\n",
    "# We need to create a udf for this one\n",
    "to_array = udf(lambda x: x.toArray().tolist(), ArrayType(DoubleType()))\n",
    "recommendations = transformed.withColumn('array', to_array('topicDistribution'))\n",
    "\n",
    "# Find the best topic value that we will call \"max\"\n",
    "max_vals = recommendations.withColumn(\"max\",array_max(\"array\"))\n",
    "\n",
    "# Find the index of the max value found above which translates to our topic!\n",
    "argmaxUdf = udf(lambda x,y: [i for i, e in enumerate(x) if e==y ])\n",
    "results = max_vals.withColumn('topic', argmaxUdf(max_vals.array,max_vals.max))\n",
    "results.printSchema()\n",
    "results.limit(10).toPandas()"
   ]
  },
  {
   "cell_type": "markdown",
   "metadata": {},
   "source": [
    "## Gaussian Mixture"
   ]
  },
  {
   "cell_type": "markdown",
   "metadata": {},
   "source": [
    "The last clustering model. Recommended link are:"
   ]
  },
  {
   "cell_type": "markdown",
   "metadata": {},
   "source": [
    "https://towardsdatascience.com/gaussian-mixture-models-explained-6986aaf5a95"
   ]
  },
  {
   "cell_type": "markdown",
   "metadata": {},
   "source": [
    "https://spark.apache.org/docs/latest/api/python/pyspark.ml.html#pyspark.ml.clustering.GaussianMixture"
   ]
  },
  {
   "cell_type": "code",
   "execution_count": 64,
   "metadata": {},
   "outputs": [],
   "source": [
    "import pyspark\n",
    "from pyspark.sql import SparkSession\n",
    "spark = SparkSession.builder.appName(\"Gaussian\").getOrCreate()"
   ]
  },
  {
   "cell_type": "markdown",
   "metadata": {},
   "source": [
    "<div class=\"alert alert-block alert-warning\"><b>Data</b></div>"
   ]
  },
  {
   "cell_type": "markdown",
   "metadata": {},
   "source": [
    "Sample Sales Data, Order Info, Sales, Customer, Shipping, etc., Used for Segmentation, Customer Analytics, Clustering and More. Inspired for retail analytics. This was originally used for Pentaho DI Kettle, But I found the set could be useful for Sales Simulation training.\n",
    "\n",
    "Originally Written by María Carina Roldán, Pentaho Community Member, BI consultant (Assert Solutions), Argentina. This work is licensed under the Creative Commons Attribution-Noncommercial-Share Alike 3.0 Unported License. Modified by Gus Segura June 2014.\n",
    "\n",
    "**Source:** https://www.kaggle.com/kyanyoga/sample-sales-data"
   ]
  },
  {
   "cell_type": "code",
   "execution_count": 65,
   "metadata": {},
   "outputs": [],
   "source": [
    "path =\"Datasets/\"\n",
    "df = spark.read.csv(path+'sales_data_sample.csv',inferSchema=True,header=True)"
   ]
  },
  {
   "cell_type": "code",
   "execution_count": 66,
   "metadata": {},
   "outputs": [
    {
     "data": {
      "text/html": [
       "<div>\n",
       "<style scoped>\n",
       "    .dataframe tbody tr th:only-of-type {\n",
       "        vertical-align: middle;\n",
       "    }\n",
       "\n",
       "    .dataframe tbody tr th {\n",
       "        vertical-align: top;\n",
       "    }\n",
       "\n",
       "    .dataframe thead th {\n",
       "        text-align: right;\n",
       "    }\n",
       "</style>\n",
       "<table border=\"1\" class=\"dataframe\">\n",
       "  <thead>\n",
       "    <tr style=\"text-align: right;\">\n",
       "      <th></th>\n",
       "      <th>ORDERNUMBER</th>\n",
       "      <th>QUANTITYORDERED</th>\n",
       "      <th>PRICEEACH</th>\n",
       "      <th>ORDERLINENUMBER</th>\n",
       "      <th>SALES</th>\n",
       "      <th>ORDERDATE</th>\n",
       "      <th>STATUS</th>\n",
       "      <th>QTR_ID</th>\n",
       "      <th>MONTH_ID</th>\n",
       "      <th>YEAR_ID</th>\n",
       "      <th>...</th>\n",
       "      <th>ADDRESSLINE1</th>\n",
       "      <th>ADDRESSLINE2</th>\n",
       "      <th>CITY</th>\n",
       "      <th>STATE</th>\n",
       "      <th>POSTALCODE</th>\n",
       "      <th>COUNTRY</th>\n",
       "      <th>TERRITORY</th>\n",
       "      <th>CONTACTLASTNAME</th>\n",
       "      <th>CONTACTFIRSTNAME</th>\n",
       "      <th>DEALSIZE</th>\n",
       "    </tr>\n",
       "  </thead>\n",
       "  <tbody>\n",
       "    <tr>\n",
       "      <th>0</th>\n",
       "      <td>10107</td>\n",
       "      <td>30</td>\n",
       "      <td>95.70</td>\n",
       "      <td>2</td>\n",
       "      <td>2871.00</td>\n",
       "      <td>2/24/2003 0:00</td>\n",
       "      <td>Shipped</td>\n",
       "      <td>1</td>\n",
       "      <td>2</td>\n",
       "      <td>2003</td>\n",
       "      <td>...</td>\n",
       "      <td>897 Long Airport Avenue</td>\n",
       "      <td>None</td>\n",
       "      <td>NYC</td>\n",
       "      <td>NY</td>\n",
       "      <td>10022</td>\n",
       "      <td>USA</td>\n",
       "      <td>NA</td>\n",
       "      <td>Yu</td>\n",
       "      <td>Kwai</td>\n",
       "      <td>Small</td>\n",
       "    </tr>\n",
       "    <tr>\n",
       "      <th>1</th>\n",
       "      <td>10121</td>\n",
       "      <td>34</td>\n",
       "      <td>81.35</td>\n",
       "      <td>5</td>\n",
       "      <td>2765.90</td>\n",
       "      <td>5/7/2003 0:00</td>\n",
       "      <td>Shipped</td>\n",
       "      <td>2</td>\n",
       "      <td>5</td>\n",
       "      <td>2003</td>\n",
       "      <td>...</td>\n",
       "      <td>59 rue de l'Abbaye</td>\n",
       "      <td>None</td>\n",
       "      <td>Reims</td>\n",
       "      <td>None</td>\n",
       "      <td>51100</td>\n",
       "      <td>France</td>\n",
       "      <td>EMEA</td>\n",
       "      <td>Henriot</td>\n",
       "      <td>Paul</td>\n",
       "      <td>Small</td>\n",
       "    </tr>\n",
       "    <tr>\n",
       "      <th>2</th>\n",
       "      <td>10134</td>\n",
       "      <td>41</td>\n",
       "      <td>94.74</td>\n",
       "      <td>2</td>\n",
       "      <td>3884.34</td>\n",
       "      <td>7/1/2003 0:00</td>\n",
       "      <td>Shipped</td>\n",
       "      <td>3</td>\n",
       "      <td>7</td>\n",
       "      <td>2003</td>\n",
       "      <td>...</td>\n",
       "      <td>27 rue du Colonel Pierre Avia</td>\n",
       "      <td>None</td>\n",
       "      <td>Paris</td>\n",
       "      <td>None</td>\n",
       "      <td>75508</td>\n",
       "      <td>France</td>\n",
       "      <td>EMEA</td>\n",
       "      <td>Da Cunha</td>\n",
       "      <td>Daniel</td>\n",
       "      <td>Medium</td>\n",
       "    </tr>\n",
       "    <tr>\n",
       "      <th>3</th>\n",
       "      <td>10145</td>\n",
       "      <td>45</td>\n",
       "      <td>83.26</td>\n",
       "      <td>6</td>\n",
       "      <td>3746.70</td>\n",
       "      <td>8/25/2003 0:00</td>\n",
       "      <td>Shipped</td>\n",
       "      <td>3</td>\n",
       "      <td>8</td>\n",
       "      <td>2003</td>\n",
       "      <td>...</td>\n",
       "      <td>78934 Hillside Dr.</td>\n",
       "      <td>None</td>\n",
       "      <td>Pasadena</td>\n",
       "      <td>CA</td>\n",
       "      <td>90003</td>\n",
       "      <td>USA</td>\n",
       "      <td>NA</td>\n",
       "      <td>Young</td>\n",
       "      <td>Julie</td>\n",
       "      <td>Medium</td>\n",
       "    </tr>\n",
       "  </tbody>\n",
       "</table>\n",
       "<p>4 rows × 25 columns</p>\n",
       "</div>"
      ],
      "text/plain": [
       "   ORDERNUMBER  QUANTITYORDERED  PRICEEACH  ORDERLINENUMBER    SALES  \\\n",
       "0        10107               30      95.70                2  2871.00   \n",
       "1        10121               34      81.35                5  2765.90   \n",
       "2        10134               41      94.74                2  3884.34   \n",
       "3        10145               45      83.26                6  3746.70   \n",
       "\n",
       "        ORDERDATE   STATUS  QTR_ID  MONTH_ID  YEAR_ID  ...  \\\n",
       "0  2/24/2003 0:00  Shipped       1         2     2003  ...   \n",
       "1   5/7/2003 0:00  Shipped       2         5     2003  ...   \n",
       "2   7/1/2003 0:00  Shipped       3         7     2003  ...   \n",
       "3  8/25/2003 0:00  Shipped       3         8     2003  ...   \n",
       "\n",
       "                    ADDRESSLINE1  ADDRESSLINE2      CITY STATE POSTALCODE  \\\n",
       "0        897 Long Airport Avenue          None       NYC    NY      10022   \n",
       "1             59 rue de l'Abbaye          None     Reims  None      51100   \n",
       "2  27 rue du Colonel Pierre Avia          None     Paris  None      75508   \n",
       "3             78934 Hillside Dr.          None  Pasadena    CA      90003   \n",
       "\n",
       "  COUNTRY TERRITORY CONTACTLASTNAME CONTACTFIRSTNAME DEALSIZE  \n",
       "0     USA        NA              Yu             Kwai    Small  \n",
       "1  France      EMEA         Henriot             Paul    Small  \n",
       "2  France      EMEA        Da Cunha           Daniel   Medium  \n",
       "3     USA        NA           Young            Julie   Medium  \n",
       "\n",
       "[4 rows x 25 columns]"
      ]
     },
     "execution_count": 66,
     "metadata": {},
     "output_type": "execute_result"
    }
   ],
   "source": [
    "df.limit(4).toPandas()"
   ]
  },
  {
   "cell_type": "code",
   "execution_count": 67,
   "metadata": {},
   "outputs": [
    {
     "name": "stdout",
     "output_type": "stream",
     "text": [
      "root\n",
      " |-- ORDERNUMBER: integer (nullable = true)\n",
      " |-- QUANTITYORDERED: integer (nullable = true)\n",
      " |-- PRICEEACH: double (nullable = true)\n",
      " |-- ORDERLINENUMBER: integer (nullable = true)\n",
      " |-- SALES: double (nullable = true)\n",
      " |-- ORDERDATE: string (nullable = true)\n",
      " |-- STATUS: string (nullable = true)\n",
      " |-- QTR_ID: integer (nullable = true)\n",
      " |-- MONTH_ID: integer (nullable = true)\n",
      " |-- YEAR_ID: integer (nullable = true)\n",
      " |-- PRODUCTLINE: string (nullable = true)\n",
      " |-- MSRP: integer (nullable = true)\n",
      " |-- PRODUCTCODE: string (nullable = true)\n",
      " |-- CUSTOMERNAME: string (nullable = true)\n",
      " |-- PHONE: string (nullable = true)\n",
      " |-- ADDRESSLINE1: string (nullable = true)\n",
      " |-- ADDRESSLINE2: string (nullable = true)\n",
      " |-- CITY: string (nullable = true)\n",
      " |-- STATE: string (nullable = true)\n",
      " |-- POSTALCODE: string (nullable = true)\n",
      " |-- COUNTRY: string (nullable = true)\n",
      " |-- TERRITORY: string (nullable = true)\n",
      " |-- CONTACTLASTNAME: string (nullable = true)\n",
      " |-- CONTACTFIRSTNAME: string (nullable = true)\n",
      " |-- DEALSIZE: string (nullable = true)\n",
      "\n"
     ]
    }
   ],
   "source": [
    "df.printSchema()"
   ]
  },
  {
   "cell_type": "markdown",
   "metadata": {},
   "source": [
    "**Mandatory imports**"
   ]
  },
  {
   "cell_type": "code",
   "execution_count": 68,
   "metadata": {},
   "outputs": [],
   "source": [
    "import matplotlib.pyplot as plt\n",
    "from mpl_toolkits.mplot3d import Axes3D\n",
    "from pyspark.sql.functions import *\n",
    "from pyspark.ml.feature import VectorAssembler\n",
    "from pyspark.ml.clustering import GaussianMixture\n",
    "import numpy as np"
   ]
  },
  {
   "cell_type": "markdown",
   "metadata": {},
   "source": [
    "<div class=\"alert alert-block alert-danger\"><b>BeAware:</b>they are already imported from previsou cells, but I like to have more project consistent approach, even if I am dealing with short and intro projects</div>"
   ]
  },
  {
   "cell_type": "markdown",
   "metadata": {},
   "source": [
    "**Filling Nan*"
   ]
  },
  {
   "cell_type": "code",
   "execution_count": 70,
   "metadata": {},
   "outputs": [],
   "source": [
    "def fill_with_mean(df, include=set()): \n",
    "    stats = df.agg(*(\n",
    "        avg(c).alias(c) for c in df.columns if c in include\n",
    "    ))\n",
    "    return df.na.fill(stats.first().asDict())"
   ]
  },
  {
   "cell_type": "code",
   "execution_count": 71,
   "metadata": {},
   "outputs": [
    {
     "data": {
      "text/html": [
       "<div>\n",
       "<style scoped>\n",
       "    .dataframe tbody tr th:only-of-type {\n",
       "        vertical-align: middle;\n",
       "    }\n",
       "\n",
       "    .dataframe tbody tr th {\n",
       "        vertical-align: top;\n",
       "    }\n",
       "\n",
       "    .dataframe thead th {\n",
       "        text-align: right;\n",
       "    }\n",
       "</style>\n",
       "<table border=\"1\" class=\"dataframe\">\n",
       "  <thead>\n",
       "    <tr style=\"text-align: right;\">\n",
       "      <th></th>\n",
       "      <th>QUANTITYORDERED</th>\n",
       "      <th>PRICEEACH</th>\n",
       "      <th>SALES</th>\n",
       "    </tr>\n",
       "  </thead>\n",
       "  <tbody>\n",
       "    <tr>\n",
       "      <th>0</th>\n",
       "      <td>30</td>\n",
       "      <td>95.70</td>\n",
       "      <td>2871.00</td>\n",
       "    </tr>\n",
       "    <tr>\n",
       "      <th>1</th>\n",
       "      <td>34</td>\n",
       "      <td>81.35</td>\n",
       "      <td>2765.90</td>\n",
       "    </tr>\n",
       "    <tr>\n",
       "      <th>2</th>\n",
       "      <td>41</td>\n",
       "      <td>94.74</td>\n",
       "      <td>3884.34</td>\n",
       "    </tr>\n",
       "    <tr>\n",
       "      <th>3</th>\n",
       "      <td>45</td>\n",
       "      <td>83.26</td>\n",
       "      <td>3746.70</td>\n",
       "    </tr>\n",
       "    <tr>\n",
       "      <th>4</th>\n",
       "      <td>49</td>\n",
       "      <td>100.00</td>\n",
       "      <td>5205.27</td>\n",
       "    </tr>\n",
       "  </tbody>\n",
       "</table>\n",
       "</div>"
      ],
      "text/plain": [
       "   QUANTITYORDERED  PRICEEACH    SALES\n",
       "0               30      95.70  2871.00\n",
       "1               34      81.35  2765.90\n",
       "2               41      94.74  3884.34\n",
       "3               45      83.26  3746.70\n",
       "4               49     100.00  5205.27"
      ]
     },
     "execution_count": 71,
     "metadata": {},
     "output_type": "execute_result"
    }
   ],
   "source": [
    "cols_list = [\"QUANTITYORDERED\",\"PRICEEACH\",\"SALES\"]\n",
    "df = df.select(cols_list)\n",
    "columns = df.columns\n",
    "df = fill_with_mean(df, columns)\n",
    "df.limit(5).toPandas()"
   ]
  },
  {
   "cell_type": "markdown",
   "metadata": {},
   "source": [
    "**Vectorizing**"
   ]
  },
  {
   "cell_type": "code",
   "execution_count": 72,
   "metadata": {},
   "outputs": [
    {
     "name": "stdout",
     "output_type": "stream",
     "text": [
      "+--------------------+\n",
      "|            features|\n",
      "+--------------------+\n",
      "|  [30.0,95.7,2871.0]|\n",
      "| [34.0,81.35,2765.9]|\n",
      "|[41.0,94.74,3884.34]|\n",
      "| [45.0,83.26,3746.7]|\n",
      "|[49.0,100.0,5205.27]|\n",
      "|[36.0,96.66,3479.76]|\n",
      "|[29.0,86.13,2497.77]|\n",
      "|[48.0,100.0,5512.32]|\n",
      "|[22.0,98.57,2168.54]|\n",
      "|[41.0,100.0,4708.44]|\n",
      "|[37.0,100.0,3965.66]|\n",
      "|[23.0,100.0,2333.12]|\n",
      "|[28.0,100.0,3188.64]|\n",
      "|[34.0,100.0,3676.76]|\n",
      "|[45.0,92.83,4177.35]|\n",
      "|[36.0,100.0,4099.68]|\n",
      "|[23.0,100.0,2597.39]|\n",
      "|[41.0,100.0,4394.38]|\n",
      "|[46.0,94.74,4358.04]|\n",
      "|[42.0,100.0,4396.14]|\n",
      "+--------------------+\n",
      "only showing top 20 rows\n",
      "\n"
     ]
    }
   ],
   "source": [
    "input_columns = df.columns \n",
    "vecAssembler = VectorAssembler(inputCols=input_columns, outputCol=\"features\")\n",
    "final_df = vecAssembler.transform(df).select('features')\n",
    "final_df.show()"
   ]
  },
  {
   "cell_type": "markdown",
   "metadata": {},
   "source": [
    "**Looking for optimal K**"
   ]
  },
  {
   "cell_type": "code",
   "execution_count": 73,
   "metadata": {},
   "outputs": [],
   "source": [
    "kmax = 50\n",
    "ll = np.zeros(kmax)\n",
    "for k in range(2,kmax):\n",
    "    gm = GaussianMixture(k=k, tol=0.0001,maxIter=10, seed=10)\n",
    "    model = gm.fit(final_df)\n",
    "    summary = model.summary\n",
    "    ll[k] = summary.logLikelihood"
   ]
  },
  {
   "cell_type": "code",
   "execution_count": 74,
   "metadata": {},
   "outputs": [
    {
     "data": {
      "text/plain": [
       "Text(0, 0.5, 'll')"
      ]
     },
     "execution_count": 74,
     "metadata": {},
     "output_type": "execute_result"
    },
    {
     "data": {
      "image/png": "[encoded data removed]",
      "text/plain": [
       "<Figure size 576x432 with 1 Axes>"
      ]
     },
     "metadata": {
      "needs_background": "light"
     },
     "output_type": "display_data"
    }
   ],
   "source": [
    "fig, ax = plt.subplots(1,1, figsize =(8,6))\n",
    "ax.plot(range(2,kmax),ll[2:kmax])\n",
    "ax.set_xlabel('k')\n",
    "ax.set_ylabel('ll')"
   ]
  },
  {
   "cell_type": "markdown",
   "metadata": {},
   "source": [
    "<div class=\"alert alert-block alert-warning\"><b>Training and evaluating</b></div>"
   ]
  },
  {
   "cell_type": "markdown",
   "metadata": {},
   "source": [
    "<div class=\"alert alert-block alert-info\"><b>Note:</b> not finished yet maybe in a future</div>"
   ]
  },
  {
   "cell_type": "markdown",
   "metadata": {},
   "source": [
    "***The End***"
   ]
  }
 ],
 "metadata": {
  "kernelspec": {
   "display_name": "Python 3",
   "language": "python",
   "name": "python3"
  },
  "language_info": {
   "codemirror_mode": {
    "name": "ipython",
    "version": 3
   },
   "file_extension": ".py",
   "mimetype": "text/x-python",
   "name": "python",
   "nbconvert_exporter": "python",
   "pygments_lexer": "ipython3",
   "version": "3.8.3"
  }
 },
 "nbformat": 4,
 "nbformat_minor": 4
}
