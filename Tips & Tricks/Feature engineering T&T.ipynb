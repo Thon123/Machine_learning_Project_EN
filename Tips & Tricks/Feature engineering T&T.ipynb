{
 "cells": [
  {
   "cell_type": "markdown",
   "metadata": {},
   "source": [
    "# Feature engineering tips and theory"
   ]
  },
  {
   "cell_type": "markdown",
   "metadata": {},
   "source": [
    "*This notebook contains Tips & Tricks for feature engineering. Mostly the theory that I've found interesting. Much of the inspiration comes from Solledad Galli.*"
   ]
  },
  {
   "cell_type": "markdown",
   "metadata": {},
   "source": [
    "<div class=\"alert alert-block alert-warning\"><b>1. Labels - cardinality and rare values</b></div>"
   ]
  },
  {
   "cell_type": "markdown",
   "metadata": {},
   "source": [
    "- *The problem of cardinality - variables with high number of categories are overfitting the model and dominates over other variables. Mostly true in tree based methods.*\n",
    "- *It's just good approach to reduce a high number of variables (for example 30 can be a lot, 4-5 is ok, but it depends), as always creating fast model and checking the difference between non reduced and reduced categorical variables can save a lot of time*\n",
    "- *Rare labels - appearing only on train test or test set, in both cases we will end up with unbalanaced models. Therefore it's a good habit to bundle more of them to a new category or to assign them to the old ones based on most common connection.*"
   ]
  },
  {
   "cell_type": "markdown",
   "metadata": {},
   "source": [
    "<div class=\"alert alert-block alert-warning\"><b>2 Identification of outliers - most common approaches</b></div>"
   ]
  },
  {
   "cell_type": "markdown",
   "metadata": {},
   "source": [
    "*Gaussian*"
   ]
  },
  {
   "cell_type": "code",
   "execution_count": 4,
   "metadata": {},
   "outputs": [],
   "source": [
    "#Upper_boundary = data.X.mean() + 3* data.X.std()\n",
    "#Lower_boundary = data.X.mean() - 3* data.X.std()"
   ]
  },
  {
   "cell_type": "markdown",
   "metadata": {},
   "source": [
    "*IQR*"
   ]
  },
  {
   "cell_type": "code",
   "execution_count": null,
   "metadata": {},
   "outputs": [],
   "source": [
    "#IQR = data.X.quantile(0.75) - X.Age.quantile(0.25)\n",
    "\n",
    "#Lower_fence = data.X.quantile(0.25) - (IQR * 1.5)\n",
    "#Upper_fence = data.X.quantile(0.75) + (IQR * 1.5)"
   ]
  },
  {
   "cell_type": "markdown",
   "metadata": {},
   "source": [
    "*Extreme IQR*"
   ]
  },
  {
   "cell_type": "code",
   "execution_count": 5,
   "metadata": {},
   "outputs": [],
   "source": [
    "#IQR = data.X.quantile(0.75) - X.Age.quantile(0.25)\n",
    "\n",
    "#Lower_fence = X.Age.quantile(0.25) - (IQR * 3)\n",
    "#Upper_fence = X.Age.quantile(0.75) + (IQR * 3)"
   ]
  },
  {
   "cell_type": "markdown",
   "metadata": {},
   "source": [
    "***Most common models which are affected by outliers are Linear regression and Adaboost.***"
   ]
  },
  {
   "cell_type": "markdown",
   "metadata": {},
   "source": [
    "*Sometimes it's just depends on data, and some advanced creativity is necessary. Very important is to find out why we have outliers in the first place and check if we don't have some special connections which can define a value of outlier better than methods above.* "
   ]
  },
  {
   "cell_type": "markdown",
   "metadata": {},
   "source": [
    "<div class=\"alert alert-block alert-warning\"><b>3. Cheatsheet comparing machine learning models</b></div>"
   ]
  },
  {
   "cell_type": "markdown",
   "metadata": {},
   "source": [
    "![Loss](ml_cheatsheet.png)"
   ]
  },
  {
   "cell_type": "markdown",
   "metadata": {},
   "source": [
    "<div class=\"alert alert-block alert-warning\"><b>4. Which models are affected by variable magnitudes and which are not?</b></div>"
   ]
  },
  {
   "cell_type": "markdown",
   "metadata": {},
   "source": [
    "*Model which have to have scaled values:*"
   ]
  },
  {
   "cell_type": "markdown",
   "metadata": {},
   "source": [
    "- Linear and Logistic Regression\n",
    "- Neural Networks\n",
    "- Support Vector Machines \n",
    "- KNN\n",
    "- K-means clustering\n",
    "- Linear Discriminant Analysis (LDA)\n",
    "- Principal Component Analysis (PCA)"
   ]
  },
  {
   "cell_type": "markdown",
   "metadata": {},
   "source": [
    "*Model which works fine even with non scaled values:*"
   ]
  },
  {
   "cell_type": "markdown",
   "metadata": {},
   "source": [
    "- Classification and Regression Trees\n",
    "- Random Forests\n",
    "- Gradient Boosted Trees"
   ]
  },
  {
   "cell_type": "markdown",
   "metadata": {},
   "source": [
    "<div class=\"alert alert-block alert-warning\"><b>5. Which algorithms assumes a linear relationship between variables and predictors?</b></div>"
   ]
  },
  {
   "cell_type": "markdown",
   "metadata": {},
   "source": [
    "- Linear and Logistic Regression\n",
    "- Linear Discriminant Analysis (LDA)\n",
    "- Principal Component Regressors"
   ]
  },
  {
   "cell_type": "markdown",
   "metadata": {},
   "source": [
    "<div class=\"alert alert-block alert-warning\"><b>6. How can we achieve a linear relationship between non linear variables and why to try at all? :)</b></div>"
   ]
  },
  {
   "cell_type": "markdown",
   "metadata": {},
   "source": [
    "- Mathematical transformation of the variable\n",
    "- Discretisation"
   ]
  },
  {
   "cell_type": "markdown",
   "metadata": {},
   "source": [
    "*Linear models are making most precise prediction for regression tasks (continuous labels) and they are easy to interpret.*"
   ]
  },
  {
   "cell_type": "markdown",
   "metadata": {},
   "source": [
    "<div class=\"alert alert-block alert-warning\"><b>7. How can we check whether variable has some linear relationship with label?</b></div>"
   ]
  },
  {
   "cell_type": "markdown",
   "metadata": {},
   "source": [
    "- making a prediction based on our variables\n",
    "- determine and observing an error\n",
    "- if the variable is explained by the variable we are evaluating, then the error should be random noise, typically following a normal distribution centered at 0"
   ]
  },
  {
   "cell_type": "markdown",
   "metadata": {},
   "source": [
    "<div class=\"alert alert-block alert-warning\"><b>8. Is Gaussian distribution of variable a MUST in machine learning?</b></div>"
   ]
  },
  {
   "cell_type": "markdown",
   "metadata": {},
   "source": [
    "*For linear regression it is but for other models it's not, nevertheless even other models may benefit from Gaussian-like distributions (and very ofthen they do). Therefore it's good habbit make a transformation if it's possible.*"
   ]
  },
  {
   "cell_type": "markdown",
   "metadata": {},
   "source": [
    "<div class=\"alert alert-block alert-warning\"><b>9. What is a Q-Q Plot?</b></div>"
   ]
  },
  {
   "cell_type": "code",
   "execution_count": 29,
   "metadata": {},
   "outputs": [
    {
     "data": {
      "image/png": "[encoded data removed]",
      "text/plain": [
       "<Figure size 432x288 with 1 Axes>"
      ]
     },
     "metadata": {
      "needs_background": "light"
     },
     "output_type": "display_data"
    }
   ],
   "source": [
    "import numpy as np\n",
    "import statsmodels.api as sm\n",
    "import pylab\n",
    "import pandas as pd\n",
    "import ma\n",
    "\n",
    "test = np.random.normal(0,1, 1000)\n",
    "\n",
    "sm.qqplot(test, line='45')\n",
    "pylab.show()"
   ]
  },
  {
   "cell_type": "markdown",
   "metadata": {},
   "source": [
    "*Quantile-Quantile plot, is composed of a line of 45 degrees and our variable, the more the variable copies the theoretical line, the more Gaussian distribution it has. Bellow random exponential plot to show the difference.*"
   ]
  },
  {
   "cell_type": "code",
   "execution_count": 17,
   "metadata": {},
   "outputs": [
    {
     "data": {
      "image/png": "[encoded data removed]",
      "text/plain": [
       "<Figure size 432x288 with 1 Axes>"
      ]
     },
     "metadata": {
      "needs_background": "light"
     },
     "output_type": "display_data"
    }
   ],
   "source": [
    "test2 = np.random.exponential(1, 1000)\n",
    "\n",
    "sm.qqplot(test2, line='45')\n",
    "pylab.show()"
   ]
  },
  {
   "cell_type": "markdown",
   "metadata": {},
   "source": [
    "<div class=\"alert alert-block alert-warning\"><b>10. What is CCA and when to use it?</b></div>"
   ]
  },
  {
   "cell_type": "markdown",
   "metadata": {},
   "source": [
    "*Complete case analysis, deleting data with missing valus. Only if the data portion is small and there is no other way how to obtain missing values. In most cases is just better to look for better data source. But for fast \"dirty\" model it's a great option.*"
   ]
  },
  {
   "cell_type": "markdown",
   "metadata": {},
   "source": [
    "<div class=\"alert alert-block alert-warning\"><b>11. Mean, Median or Zeros?</b></div>"
   ]
  },
  {
   "cell_type": "markdown",
   "metadata": {},
   "source": [
    "- Zeros only if they have meaning for data\n",
    "- Mean is probably more suitable for Gaussian shape variable"
   ]
  },
  {
   "cell_type": "markdown",
   "metadata": {},
   "source": [
    "*It always depends how much of our distribution we will lost. The example bellow is self-explanatory. Neither of the adjustments is able to copy original shape of the distribution of age.*"
   ]
  },
  {
   "cell_type": "code",
   "execution_count": 36,
   "metadata": {},
   "outputs": [],
   "source": [
    "mmz = pd.read_csv('train_tit.csv')[['Age', 'Fare','Survived']]"
   ]
  },
  {
   "cell_type": "code",
   "execution_count": 49,
   "metadata": {},
   "outputs": [],
   "source": [
    "def mmz_input(df, variable):\n",
    "    df[variable+\"_median\"] = df[variable].fillna(df[variable].median())\n",
    "    df[variable+\"_zero\"] = df[variable].fillna(0) \n",
    "    df[variable+\"_mean\"] = df[variable].fillna(df[variable].mean())\n",
    "    return df"
   ]
  },
  {
   "cell_type": "code",
   "execution_count": 53,
   "metadata": {},
   "outputs": [],
   "source": [
    "mmz_updated = mmz_input(mmz,\"Age\")"
   ]
  },
  {
   "cell_type": "code",
   "execution_count": 68,
   "metadata": {},
   "outputs": [
    {
     "data": {
      "text/plain": [
       "<matplotlib.legend.Legend at 0x1f70c80ad88>"
      ]
     },
     "execution_count": 68,
     "metadata": {},
     "output_type": "execute_result"
    },
    {
     "data": {
      "image/png": "[encoded data removed]",
      "text/plain": [
       "<Figure size 864x432 with 1 Axes>"
      ]
     },
     "metadata": {
      "needs_background": "light"
     },
     "output_type": "display_data"
    }
   ],
   "source": [
    "import matplotlib.pyplot as plt\n",
    "\n",
    "fig = plt.figure()\n",
    "fig.set_size_inches(12, 6)\n",
    "ax = fig.add_subplot(111)\n",
    "mmz_updated['Age'].plot(kind='kde', ax=ax)\n",
    "mmz_updated[\"Age_median\"].plot(kind='kde', ax=ax, color='red')\n",
    "mmz_updated[\"Age_mean\"].plot(kind='kde', ax=ax, color='black')\n",
    "mmz_updated[\"Age_zero\"].plot(kind='kde', ax=ax, color='green')\n",
    "lines, labels = ax.get_legend_handles_labels()\n",
    "ax.legend(lines, labels, loc='best')"
   ]
  },
  {
   "cell_type": "markdown",
   "metadata": {},
   "source": [
    "*I honestly consider simple mean and median as a lazy solution. It's better try to find some connection between variables and replace values in more meaningful way. Another approach how to improve performance of our model is to use groupby and calculate multiple means or medians.*"
   ]
  },
  {
   "cell_type": "markdown",
   "metadata": {},
   "source": [
    "<div class=\"alert alert-block alert-warning\"><b>12. What is random sample imputation?</b></div>"
   ]
  },
  {
   "cell_type": "markdown",
   "metadata": {},
   "source": [
    "*Filling Nan values by randomly selecting values from another sample, but very often it performs worse than simple median, mean imputation. The only advantage is that it preserve the shape of the distribution. Bottom line: it's better to avoid this solution*"
   ]
  },
  {
   "cell_type": "markdown",
   "metadata": {},
   "source": [
    "<div class=\"alert alert-block alert-warning\"><b>13. Should we add meaning to missing values?</b></div>"
   ]
  },
  {
   "cell_type": "markdown",
   "metadata": {},
   "source": [
    "*In other words, should we add another variables which add an importance for rows with Nan values? For smaller datasets it's probably okay. For larger ones it's probably not a good idea, because we are expanding the feature space and hence even the computational complexity.*"
   ]
  },
  {
   "cell_type": "markdown",
   "metadata": {},
   "source": [
    "<div class=\"alert alert-block alert-warning\"><b>14. Cheatsheet comparing missing value imputation methods - numerical variables</b></div>"
   ]
  },
  {
   "cell_type": "markdown",
   "metadata": {},
   "source": [
    "![Loss](ml_cheatsheet2.jpg)"
   ]
  },
  {
   "cell_type": "markdown",
   "metadata": {},
   "source": [
    "*We will ensure even greater performance of the model with a more complex procedure, but it already depends on individual cases.*"
   ]
  },
  {
   "cell_type": "markdown",
   "metadata": {},
   "source": [
    "<div class=\"alert alert-block alert-warning\"><b>15. What are most common ways of pre-processing outlier values?</b></div>"
   ]
  },
  {
   "cell_type": "markdown",
   "metadata": {},
   "source": [
    "- Mean/median imputation or random sampling (simple)\n",
    "- Discrestisation\n",
    "- Discard the outliers: process also called Trimming (simple)\n",
    "- Windsorization"
   ]
  },
  {
   "cell_type": "markdown",
   "metadata": {},
   "source": [
    "<div class=\"alert alert-block alert-warning\"><b>16. What is Discretisation?</b></div>"
   ]
  },
  {
   "cell_type": "markdown",
   "metadata": {},
   "source": [
    "*Grouping continuous values to discrete ones. It is mostly used for outlier pre-processing.*"
   ]
  },
  {
   "cell_type": "code",
   "execution_count": 80,
   "metadata": {},
   "outputs": [
    {
     "name": "stdout",
     "output_type": "stream",
     "text": [
      "[[24.   0.2]\n",
      " [35.   0.3]\n",
      " [74.   0.4]\n",
      " [96.   0.5]\n",
      " [ 2.   0.6]\n",
      " [39.   0.8]]\n",
      "[[0. 0.]\n",
      " [0. 0.]\n",
      " [1. 0.]\n",
      " [1. 1.]\n",
      " [0. 1.]\n",
      " [0. 1.]]\n"
     ]
    }
   ],
   "source": [
    "from sklearn.preprocessing import KBinsDiscretizer\n",
    "#very nice preprocessing function :)\n",
    "\n",
    "A = np.array([[24,0.2],[35,0.3],[74,0.4], [96,0.5],[2,0.6],[39,0.8]])\n",
    "print(A)\n",
    "enc = KBinsDiscretizer(n_bins=2, encode='ordinal', strategy='uniform')\n",
    "enc.fit(A)\n",
    "print(enc.transform(A))"
   ]
  },
  {
   "cell_type": "markdown",
   "metadata": {},
   "source": [
    "<div class=\"alert alert-block alert-warning\"><b>17. What is Winsorization?</b> Aka Top-coding, bottom-coding and zero-coding</div>"
   ]
  },
  {
   "cell_type": "markdown",
   "metadata": {},
   "source": [
    "- Top coding -> all values above a certain threshold will be reduced on it\n",
    "- Bottom coding -> all values under a certain threshold will be increased on it\n",
    "- Zero coding -> just threshold with value equal to zero, avoid negative values"
   ]
  },
  {
   "cell_type": "code",
   "execution_count": 90,
   "metadata": {},
   "outputs": [],
   "source": [
    "from scipy.stats.mstats import winsorize"
   ]
  },
  {
   "cell_type": "code",
   "execution_count": 91,
   "metadata": {},
   "outputs": [],
   "source": [
    "a = np.array([10, 4, 9, 8, 5, 3, 7, 2, 1, 6])"
   ]
  },
  {
   "cell_type": "code",
   "execution_count": 92,
   "metadata": {},
   "outputs": [
    {
     "data": {
      "text/plain": [
       "masked_array(data=[8, 4, 8, 8, 5, 3, 7, 2, 2, 6],\n",
       "             mask=False,\n",
       "       fill_value=999999)"
      ]
     },
     "execution_count": 92,
     "metadata": {},
     "output_type": "execute_result"
    }
   ],
   "source": [
    "winsorize(a, limits=[0.1, 0.2])"
   ]
  },
  {
   "cell_type": "markdown",
   "metadata": {},
   "source": [
    "<div class=\"alert alert-block alert-warning\"><b>18. How are we dealing with rare labels? </b></div>"
   ]
  },
  {
   "cell_type": "markdown",
   "metadata": {},
   "source": [
    "- replacing with most frequent label\n",
    "- grouping to new label (other, new etc.)"
   ]
  },
  {
   "cell_type": "markdown",
   "metadata": {},
   "source": [
    "*It vary based on how many categories the data has, also there is no rule of thumb telling what number of categories is small or high.*"
   ]
  },
  {
   "cell_type": "markdown",
   "metadata": {},
   "source": [
    "<div class=\"alert alert-block alert-warning\"><b>19. What is possible disadvantage of one hot encoder?</b></div>"
   ]
  },
  {
   "cell_type": "markdown",
   "metadata": {},
   "source": [
    "- expanding feature space"
   ]
  },
  {
   "cell_type": "markdown",
   "metadata": {},
   "source": [
    "*Also it's necessary to decide whether we have nominal or ordinal variable. If we have a large number of variables, it's a good approach to limit the 10 most frequent labels of the variable. So we will just use most frequent and the rest pack to one \"new\" variable.*"
   ]
  },
  {
   "cell_type": "markdown",
   "metadata": {},
   "source": [
    "<div class=\"alert alert-block alert-warning\"><b>20. What is Target guided ordinal encoding?</b></div>"
   ]
  },
  {
   "cell_type": "markdown",
   "metadata": {},
   "source": [
    "*Encoding variable so they have onotonicit relationship which means:*"
   ]
  },
  {
   "cell_type": "markdown",
   "metadata": {},
   "source": [
    "- they have strong positive or negative corellation between each other"
   ]
  },
  {
   "cell_type": "markdown",
   "metadata": {},
   "source": [
    "*Therefore they capture information within the label and are rendering more predictive features, but they can cause overfitting. We have more methods and these are:*"
   ]
  },
  {
   "cell_type": "markdown",
   "metadata": {},
   "source": [
    "- Ordering the labels according to the target\n",
    "- Replacing labels by the risk (of the target)\n",
    "- Replacing the labels by the joint probability of the target being 1 or 0\n",
    "- Weight of evidence"
   ]
  },
  {
   "cell_type": "markdown",
   "metadata": {},
   "source": [
    "<div class=\"alert alert-block alert-warning\"><b>21. Ordering labels according to the target</b></div>"
   ]
  },
  {
   "cell_type": "markdown",
   "metadata": {},
   "source": [
    "*The procedure is as follows:*"
   ]
  },
  {
   "cell_type": "markdown",
   "metadata": {},
   "source": [
    "- calculate the mean of the target for label/category\n",
    "- order the labels based on calculated means\n",
    "- number them accordingly"
   ]
  },
  {
   "cell_type": "markdown",
   "metadata": {},
   "source": [
    "*For this one better to show an example.*"
   ]
  },
  {
   "cell_type": "code",
   "execution_count": 98,
   "metadata": {},
   "outputs": [],
   "source": [
    "data = pd.read_csv('train_tit.csv', usecols=['Cabin', 'Survived'])\n",
    "data.Cabin.fillna('Missing', inplace=True)\n",
    "#we are loading titanic data and filling Missing for Nan values for Survived column"
   ]
  },
  {
   "cell_type": "code",
   "execution_count": 100,
   "metadata": {},
   "outputs": [
    {
     "data": {
      "text/html": [
       "<div>\n",
       "<style scoped>\n",
       "    .dataframe tbody tr th:only-of-type {\n",
       "        vertical-align: middle;\n",
       "    }\n",
       "\n",
       "    .dataframe tbody tr th {\n",
       "        vertical-align: top;\n",
       "    }\n",
       "\n",
       "    .dataframe thead th {\n",
       "        text-align: right;\n",
       "    }\n",
       "</style>\n",
       "<table border=\"1\" class=\"dataframe\">\n",
       "  <thead>\n",
       "    <tr style=\"text-align: right;\">\n",
       "      <th></th>\n",
       "      <th>Survived</th>\n",
       "      <th>Cabin</th>\n",
       "    </tr>\n",
       "  </thead>\n",
       "  <tbody>\n",
       "    <tr>\n",
       "      <th>0</th>\n",
       "      <td>0</td>\n",
       "      <td>Missing</td>\n",
       "    </tr>\n",
       "    <tr>\n",
       "      <th>1</th>\n",
       "      <td>1</td>\n",
       "      <td>C85</td>\n",
       "    </tr>\n",
       "    <tr>\n",
       "      <th>2</th>\n",
       "      <td>1</td>\n",
       "      <td>Missing</td>\n",
       "    </tr>\n",
       "    <tr>\n",
       "      <th>3</th>\n",
       "      <td>1</td>\n",
       "      <td>C123</td>\n",
       "    </tr>\n",
       "    <tr>\n",
       "      <th>4</th>\n",
       "      <td>0</td>\n",
       "      <td>Missing</td>\n",
       "    </tr>\n",
       "  </tbody>\n",
       "</table>\n",
       "</div>"
      ],
      "text/plain": [
       "   Survived    Cabin\n",
       "0         0  Missing\n",
       "1         1      C85\n",
       "2         1  Missing\n",
       "3         1     C123\n",
       "4         0  Missing"
      ]
     },
     "execution_count": 100,
     "metadata": {},
     "output_type": "execute_result"
    }
   ],
   "source": [
    "data.head() #simple we have only survived and cabin"
   ]
  },
  {
   "cell_type": "code",
   "execution_count": 97,
   "metadata": {},
   "outputs": [
    {
     "data": {
      "text/plain": [
       "148"
      ]
     },
     "execution_count": 97,
     "metadata": {},
     "output_type": "execute_result"
    }
   ],
   "source": [
    "len(data.Cabin.unique()) #but we have a lot of cabins..148\n",
    "#148 features is useless here, our options are\n",
    "# reduce number of features - just letter M, C etc - nominal but something about 9 features\n",
    "# reduce number of features - but not as nominal but as ordinal"
   ]
  },
  {
   "cell_type": "code",
   "execution_count": 101,
   "metadata": {},
   "outputs": [
    {
     "data": {
      "text/plain": [
       "array(['M', 'C', 'E', 'G', 'D', 'A', 'B', 'F', 'T'], dtype=object)"
      ]
     },
     "execution_count": 101,
     "metadata": {},
     "output_type": "execute_result"
    }
   ],
   "source": [
    "data['Cabin'] = data['Cabin'].astype(str).str[0] #only first letter\n",
    "data.Cabin.unique()"
   ]
  },
  {
   "cell_type": "markdown",
   "metadata": {},
   "source": [
    "*Now we want to order our values, based on means (counts would be fine also).*"
   ]
  },
  {
   "cell_type": "code",
   "execution_count": 103,
   "metadata": {},
   "outputs": [],
   "source": [
    "ordered_labels = data.groupby(['Cabin'])['Survived'].mean().sort_values().index"
   ]
  },
  {
   "cell_type": "code",
   "execution_count": 104,
   "metadata": {},
   "outputs": [
    {
     "data": {
      "text/plain": [
       "Index(['T', 'M', 'A', 'G', 'C', 'F', 'B', 'E', 'D'], dtype='object', name='Cabin')"
      ]
     },
     "execution_count": 104,
     "metadata": {},
     "output_type": "execute_result"
    }
   ],
   "source": [
    "ordered_labels"
   ]
  },
  {
   "cell_type": "code",
   "execution_count": 105,
   "metadata": {},
   "outputs": [],
   "source": [
    "ordinal_label = {k:i for i, k in enumerate(ordered_labels, 0)} "
   ]
  },
  {
   "cell_type": "code",
   "execution_count": 106,
   "metadata": {},
   "outputs": [
    {
     "data": {
      "text/plain": [
       "{'T': 0, 'M': 1, 'A': 2, 'G': 3, 'C': 4, 'F': 5, 'B': 6, 'E': 7, 'D': 8}"
      ]
     },
     "execution_count": 106,
     "metadata": {},
     "output_type": "execute_result"
    }
   ],
   "source": [
    "ordinal_label"
   ]
  },
  {
   "cell_type": "code",
   "execution_count": 107,
   "metadata": {},
   "outputs": [],
   "source": [
    "data['Cabin_ordered'] = data[\"Cabin\"].map(ordinal_label)"
   ]
  },
  {
   "cell_type": "code",
   "execution_count": 109,
   "metadata": {},
   "outputs": [
    {
     "data": {
      "text/html": [
       "<div>\n",
       "<style scoped>\n",
       "    .dataframe tbody tr th:only-of-type {\n",
       "        vertical-align: middle;\n",
       "    }\n",
       "\n",
       "    .dataframe tbody tr th {\n",
       "        vertical-align: top;\n",
       "    }\n",
       "\n",
       "    .dataframe thead th {\n",
       "        text-align: right;\n",
       "    }\n",
       "</style>\n",
       "<table border=\"1\" class=\"dataframe\">\n",
       "  <thead>\n",
       "    <tr style=\"text-align: right;\">\n",
       "      <th></th>\n",
       "      <th>Survived</th>\n",
       "      <th>Cabin</th>\n",
       "      <th>Cabin_ordered</th>\n",
       "    </tr>\n",
       "  </thead>\n",
       "  <tbody>\n",
       "    <tr>\n",
       "      <th>0</th>\n",
       "      <td>0</td>\n",
       "      <td>M</td>\n",
       "      <td>1</td>\n",
       "    </tr>\n",
       "    <tr>\n",
       "      <th>1</th>\n",
       "      <td>1</td>\n",
       "      <td>C</td>\n",
       "      <td>4</td>\n",
       "    </tr>\n",
       "    <tr>\n",
       "      <th>2</th>\n",
       "      <td>1</td>\n",
       "      <td>M</td>\n",
       "      <td>1</td>\n",
       "    </tr>\n",
       "    <tr>\n",
       "      <th>3</th>\n",
       "      <td>1</td>\n",
       "      <td>C</td>\n",
       "      <td>4</td>\n",
       "    </tr>\n",
       "    <tr>\n",
       "      <th>4</th>\n",
       "      <td>0</td>\n",
       "      <td>M</td>\n",
       "      <td>1</td>\n",
       "    </tr>\n",
       "  </tbody>\n",
       "</table>\n",
       "</div>"
      ],
      "text/plain": [
       "   Survived Cabin  Cabin_ordered\n",
       "0         0     M              1\n",
       "1         1     C              4\n",
       "2         1     M              1\n",
       "3         1     C              4\n",
       "4         0     M              1"
      ]
     },
     "execution_count": 109,
     "metadata": {},
     "output_type": "execute_result"
    }
   ],
   "source": [
    "data.head()"
   ]
  },
  {
   "cell_type": "markdown",
   "metadata": {},
   "source": [
    "*Monotonic relationship between variables. Let's plot the difference.*"
   ]
  },
  {
   "cell_type": "code",
   "execution_count": 125,
   "metadata": {},
   "outputs": [
    {
     "data": {
      "image/png": "[encoded data removed]",
      "text/plain": [
       "<Figure size 864x432 with 2 Axes>"
      ]
     },
     "metadata": {
      "needs_background": "light"
     },
     "output_type": "display_data"
    }
   ],
   "source": [
    "fig, axes = plt.subplots(nrows=1, ncols=2, figsize=(12, 6))\n",
    "\n",
    "#Plots\n",
    "axes[0].plot(data.groupby(['Cabin'])['Survived'].mean())\n",
    "axes[1].plot(data.groupby(['Cabin_ordered'])['Survived'].mean())\n",
    "\n",
    "#Labels\n",
    "axes[1].set_title('Monotonic relationship between variable and target')\n",
    "axes[1].set_ylabel('Survived')\n",
    "\n",
    "axes[0].set_title('Normal relationship between variable and target')\n",
    "axes[0].set_ylabel('Survived')\n",
    "\n",
    "fig.tight_layout()"
   ]
  },
  {
   "cell_type": "markdown",
   "metadata": {},
   "source": [
    "*As we can see, the second plot looks much better. Same values but with a little transformation we have more meaningful and much more consistent variable.*"
   ]
  },
  {
   "cell_type": "markdown",
   "metadata": {},
   "source": [
    "<div class=\"alert alert-block alert-warning\"><b>22. Replacing labels by the risk</b> AKA Mean encoding </div>"
   ]
  },
  {
   "cell_type": "markdown",
   "metadata": {},
   "source": [
    "*Simply put, it's almost the same as the previous encoding but we will use only mean values and we wont be transforming them into whole numbers.*"
   ]
  },
  {
   "cell_type": "code",
   "execution_count": 126,
   "metadata": {},
   "outputs": [
    {
     "data": {
      "text/plain": [
       "Cabin\n",
       "A    0.466667\n",
       "B    0.744681\n",
       "C    0.593220\n",
       "D    0.757576\n",
       "E    0.750000\n",
       "F    0.615385\n",
       "G    0.500000\n",
       "M    0.299854\n",
       "T    0.000000\n",
       "Name: Survived, dtype: float64"
      ]
     },
     "execution_count": 126,
     "metadata": {},
     "output_type": "execute_result"
    }
   ],
   "source": [
    "data.groupby(['Cabin'])['Survived'].mean()"
   ]
  },
  {
   "cell_type": "markdown",
   "metadata": {},
   "source": [
    "*After this part we would just map our values on dataset and it's done.*"
   ]
  },
  {
   "cell_type": "markdown",
   "metadata": {},
   "source": [
    "<div class=\"alert alert-block alert-warning\"><b>23. Probability ratio encoding</b></div>"
   ]
  },
  {
   "cell_type": "markdown",
   "metadata": {},
   "source": [
    "*For each label, we calculate the mean of target=1, that is the probability of being 1 ( P(1) ), and also the probability of the target=0 ( P(0) ). And then, we calculate the ratio P(1)/P(0), and replace the labels by that ratio.*"
   ]
  },
  {
   "cell_type": "code",
   "execution_count": 148,
   "metadata": {},
   "outputs": [
    {
     "data": {
      "text/plain": [
       "Cabin\n",
       "A    0.875000\n",
       "B    2.916667\n",
       "C    1.458333\n",
       "D    3.125000\n",
       "E    3.000000\n",
       "F    1.600000\n",
       "G    1.000000\n",
       "M    0.428274\n",
       "T    0.000000\n",
       "Name: Survived, dtype: float64"
      ]
     },
     "execution_count": 148,
     "metadata": {},
     "output_type": "execute_result"
    }
   ],
   "source": [
    "pb_survived = data.groupby(['Cabin'])['Survived'].mean()\n",
    "pb_died = 1 - data.groupby(['Cabin'])['Survived'].mean()\n",
    "pb_ratio = pb_survived / pb_died\n",
    "pb_ratio"
   ]
  },
  {
   "cell_type": "markdown",
   "metadata": {},
   "source": [
    "*And again we would just map the results and we are done.*"
   ]
  },
  {
   "cell_type": "markdown",
   "metadata": {},
   "source": [
    "<div class=\"alert alert-block alert-warning\"><b>24. Weight of evidence</b></div>"
   ]
  },
  {
   "cell_type": "markdown",
   "metadata": {},
   "source": [
    "**Pro:**\n",
    "\n",
    "- monotonic relationship to the dependent variable.\n",
    "- It orders the categories on a \"logistic\" scale (good for logistic regression)\n",
    "- the transformed variables are on the same scale and therefore we can determine which one is better predictor\n",
    "\n",
    "**Cons:**\n",
    "\n",
    "- does not take into account the correlation between independent variables\n",
    "- over-fitting"
   ]
  },
  {
   "cell_type": "markdown",
   "metadata": {},
   "source": [
    "*The calculation is almost similar to previous method, instead of just dividing our columns, we are dividing their logs.*"
   ]
  },
  {
   "cell_type": "code",
   "execution_count": 150,
   "metadata": {},
   "outputs": [
    {
     "data": {
      "text/plain": [
       "Cabin\n",
       "A   -0.133531\n",
       "B    1.070441\n",
       "C    0.377294\n",
       "D    1.139434\n",
       "E    1.098612\n",
       "F    0.470004\n",
       "G    0.000000\n",
       "M   -0.847991\n",
       "T        -inf\n",
       "Name: Survived, dtype: float64"
      ]
     },
     "execution_count": 150,
     "metadata": {},
     "output_type": "execute_result"
    }
   ],
   "source": [
    "pb_survived = data.groupby(['Cabin'])['Survived'].mean()\n",
    "pb_died = 1 - data.groupby(['Cabin'])['Survived'].mean()\n",
    "pb_ratio = np.log(pb_survived / pb_died)\n",
    "pb_ratio"
   ]
  },
  {
   "cell_type": "markdown",
   "metadata": {},
   "source": [
    "*So clearly if we are using log on our values, it will be well suited for logistic regression.*"
   ]
  },
  {
   "cell_type": "markdown",
   "metadata": {},
   "source": [
    "<div class=\"alert alert-block alert-warning\"><b>25. What scalers are available in Scikit and which one is best choice for skewed distribution?</b></div>"
   ]
  },
  {
   "cell_type": "markdown",
   "metadata": {},
   "source": [
    "- NormalScaler\n",
    "- MinMaxScaler\n",
    "- StandardScaler\n",
    "- RobusScaler"
   ]
  },
  {
   "cell_type": "markdown",
   "metadata": {},
   "source": [
    "*For skewed distirbution is RobustScaler a great choice which is quantil scaler (IQR = 75th quantile - 25th quantile, X_scaled = (X - X.median) / IQR). But the rule of thumb here is just try all of them as hyperparameters.*"
   ]
  },
  {
   "cell_type": "markdown",
   "metadata": {},
   "source": [
    "<div class=\"alert alert-block alert-warning\"><b>26. How can we transform variable to achieve Gaussian-like distribution?</b></div>"
   ]
  },
  {
   "cell_type": "markdown",
   "metadata": {},
   "source": [
    "- logarithmic transformation => np.log(variable)\n",
    "- reciprocal transformation => 1/variable\n",
    "- square root transformation => variable ** 1/2\n",
    "- exponential transformation => variable ** X\n",
    "- boxcox transformation => stats.boxcox(variable) , T(Y)=(Y exp(λ)−1)/λ\n",
    "- info for boxcox: http://www.statisticshowto.com/box-cox-transformation/\n",
    "- Rule of thumb? Probably best just to try them, plot histogram and Q-Q plot..and thats it"
   ]
  },
  {
   "cell_type": "markdown",
   "metadata": {},
   "source": [
    "Also possibility use transformers:"
   ]
  },
  {
   "cell_type": "code",
   "execution_count": 153,
   "metadata": {},
   "outputs": [],
   "source": [
    "# from feature_engine import variable_transformers as vt"
   ]
  },
  {
   "cell_type": "markdown",
   "metadata": {},
   "source": [
    "<div class=\"alert alert-block alert-info\"><b>Note:</b> create a function which will iterate through all of the possibilities and will evaluate best option itself</div>"
   ]
  },
  {
   "cell_type": "markdown",
   "metadata": {},
   "source": [
    "<div class=\"alert alert-block alert-warning\"><b>27. What is linearization?</b></div>"
   ]
  },
  {
   "cell_type": "markdown",
   "metadata": {},
   "source": [
    "*Just transforming our variable from exponential to linear, reversing the process using log. Quick example bellow.*"
   ]
  },
  {
   "cell_type": "code",
   "execution_count": 162,
   "metadata": {
    "scrolled": true
   },
   "outputs": [
    {
     "data": {
      "text/plain": [
       "[2.718281828459045,\n",
       " 7.38905609893065,\n",
       " 20.085536923187668,\n",
       " 54.598150033144236,\n",
       " 148.4131591025766]"
      ]
     },
     "execution_count": 162,
     "metadata": {},
     "output_type": "execute_result"
    }
   ],
   "source": [
    "import math\n",
    "math_education = [math.exp(1), math.exp(2), math.exp(3), math.exp(4), math.exp(5)]\n",
    "math_education"
   ]
  },
  {
   "cell_type": "code",
   "execution_count": 163,
   "metadata": {},
   "outputs": [],
   "source": [
    "Y = [1,2,3,4,5]"
   ]
  },
  {
   "cell_type": "code",
   "execution_count": 164,
   "metadata": {},
   "outputs": [
    {
     "data": {
      "text/plain": [
       "<matplotlib.collections.PathCollection at 0x1f70f4db308>"
      ]
     },
     "execution_count": 164,
     "metadata": {},
     "output_type": "execute_result"
    },
    {
     "data": {
      "image/png": "[encoded data removed]",
      "text/plain": [
       "<Figure size 432x288 with 1 Axes>"
      ]
     },
     "metadata": {
      "needs_background": "light"
     },
     "output_type": "display_data"
    }
   ],
   "source": [
    "plt.scatter(math_education, Y)"
   ]
  },
  {
   "cell_type": "code",
   "execution_count": 165,
   "metadata": {},
   "outputs": [
    {
     "data": {
      "text/plain": [
       "<matplotlib.collections.PathCollection at 0x1f70ea2d948>"
      ]
     },
     "execution_count": 165,
     "metadata": {},
     "output_type": "execute_result"
    },
    {
     "data": {
      "image/png": "[encoded data removed]",
      "text/plain": [
       "<Figure size 432x288 with 1 Axes>"
      ]
     },
     "metadata": {
      "needs_background": "light"
     },
     "output_type": "display_data"
    }
   ],
   "source": [
    "euler_log = np.log(math_education) \n",
    "plt.scatter(euler_log, Y)"
   ]
  },
  {
   "cell_type": "markdown",
   "metadata": {},
   "source": [
    "<div class=\"alert alert-block alert-danger\"><b>Everything for now...will be updated as soon as I 've found something new</b></div>"
   ]
  },
  {
   "cell_type": "markdown",
   "metadata": {},
   "source": [
    "***The End***"
   ]
  }
 ],
 "metadata": {
  "kernelspec": {
   "display_name": "Python 3",
   "language": "python",
   "name": "python3"
  },
  "language_info": {
   "codemirror_mode": {
    "name": "ipython",
    "version": 3
   },
   "file_extension": ".py",
   "mimetype": "text/x-python",
   "name": "python",
   "nbconvert_exporter": "python",
   "pygments_lexer": "ipython3",
   "version": "3.7.8"
  }
 },
 "nbformat": 4,
 "nbformat_minor": 4
}
