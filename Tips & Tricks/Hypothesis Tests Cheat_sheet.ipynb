{
 "cells": [
  {
   "cell_type": "markdown",
   "metadata": {},
   "source": [
    "# Hypothesis Test in Python"
   ]
  },
  {
   "cell_type": "markdown",
   "metadata": {},
   "source": [
    "*Short introduction to the most common Hypothesis tests available in Python.*"
   ]
  },
  {
   "cell_type": "markdown",
   "metadata": {},
   "source": [
    "Source: https://machinelearningmastery.com/statistical-hypothesis-tests-in-python-cheat-sheet/"
   ]
  },
  {
   "cell_type": "markdown",
   "metadata": {},
   "source": [
    "## Normality Tests"
   ]
  },
  {
   "cell_type": "markdown",
   "metadata": {},
   "source": [
    "*Tests for checking whether data has Gaussian distribution.*"
   ]
  },
  {
   "cell_type": "markdown",
   "metadata": {},
   "source": [
    "<div class=\"alert alert-block alert-warning\"><b>Shapiro-Wilk</b></div>"
   ]
  },
  {
   "cell_type": "markdown",
   "metadata": {},
   "source": [
    "Assumpitons:"
   ]
  },
  {
   "cell_type": "markdown",
   "metadata": {},
   "source": [
    "- each sample is independent and identically distributed (all samples are taken from the same distribution)"
   ]
  },
  {
   "cell_type": "markdown",
   "metadata": {},
   "source": [
    "Interpretation:"
   ]
  },
  {
   "cell_type": "markdown",
   "metadata": {},
   "source": [
    "- H0: the sample has a Gaussian distribution.\n",
    "- H1: the sample does not have a Gaussian distribution."
   ]
  },
  {
   "cell_type": "code",
   "execution_count": 4,
   "metadata": {},
   "outputs": [
    {
     "name": "stdout",
     "output_type": "stream",
     "text": [
      "stat=0.972, p=0.914\n",
      "Probably Gaussian\n",
      "stat=0.441, p=0.000\n",
      "Probably not Gaussian\n"
     ]
    }
   ],
   "source": [
    "from scipy.stats import shapiro\n",
    "data = [1,2,3,4,5,6,7,8,9] #an easy example\n",
    "data2 = [1,2,3,4,5,6,7,8,9, -100] #I will ruin my first data on purpose :)\n",
    "data_col = [data,data2]\n",
    "\n",
    "\n",
    "for data in data_col: \n",
    "    stat, p = shapiro(data)\n",
    "    print('stat=%.3f, p=%.3f' % (stat, p))\n",
    "    if p > 0.05:\n",
    "        print('Probably Gaussian')\n",
    "    else:\n",
    "        print('Probably not Gaussian')"
   ]
  },
  {
   "cell_type": "markdown",
   "metadata": {},
   "source": [
    "*We can see that for this simple data everything works just fine. Meaning: second distribution is skewed on purpose and therefore is not Gaussian*"
   ]
  },
  {
   "cell_type": "markdown",
   "metadata": {},
   "source": [
    "<div class=\"alert alert-block alert-warning\"><b>D’Agostino’s K^2 Test</b></div>"
   ]
  },
  {
   "cell_type": "markdown",
   "metadata": {},
   "source": [
    "*Same assumptions and interpretation as for Shapiro-Wilk.*"
   ]
  },
  {
   "cell_type": "code",
   "execution_count": 6,
   "metadata": {},
   "outputs": [
    {
     "name": "stdout",
     "output_type": "stream",
     "text": [
      "stat=1.861, p=0.394\n",
      "Probably Gaussian\n",
      "stat=28.106, p=0.000\n",
      "Probably not Gaussian\n"
     ]
    }
   ],
   "source": [
    "import warnings\n",
    "warnings.filterwarnings('ignore')\n",
    "\n",
    "from scipy.stats import normaltest\n",
    "data = [1,2,3,4,5,6,7,8,9] #an easy example\n",
    "data2 = [1,2,3,4,5,6,7,8,9, -100] #I will ruin my first data on purpose :)\n",
    "data_col = [data,data2]\n",
    "\n",
    "\n",
    "for data in data_col: \n",
    "    stat, p = normaltest(data)\n",
    "    print('stat=%.3f, p=%.3f' % (stat, p))\n",
    "    if p > 0.05:\n",
    "        print('Probably Gaussian')\n",
    "    else:\n",
    "        print('Probably not Gaussian')"
   ]
  },
  {
   "cell_type": "markdown",
   "metadata": {},
   "source": [
    "<div class=\"alert alert-block alert-warning\"><b>Anderson-Darling Test</b></div>"
   ]
  },
  {
   "cell_type": "markdown",
   "metadata": {},
   "source": [
    "*Same assumptions and interpretation as for Shapiro-Wilk.*"
   ]
  },
  {
   "cell_type": "code",
   "execution_count": null,
   "metadata": {},
   "outputs": [],
   "source": [
    "from scipy.stats import anderson\n",
    "data = [1,2,3,4,5,6,7,8,9] #an easy example\n",
    "data2 = [1,2,3,4,5,6,7,8,9, -100] #I will ruin my first data on purpose :)\n",
    "data_col = [data,data2]\n",
    "\n",
    "\n",
    "for data in data_col: \n",
    "    stat, p = normaltest(data)\n",
    "    print('stat=%.3f, p=%.3f' % (stat, p))\n",
    "    if p > 0.05:\n",
    "        print('Probably Gaussian')\n",
    "    else:\n",
    "        print('Probably not Gaussian')"
   ]
  },
  {
   "cell_type": "code",
   "execution_count": 8,
   "metadata": {},
   "outputs": [
    {
     "name": "stdout",
     "output_type": "stream",
     "text": [
      "stat=0.137\n",
      "Probably Gaussian at the 15.0% level\n",
      "Probably Gaussian at the 10.0% level\n",
      "Probably Gaussian at the 5.0% level\n",
      "Probably Gaussian at the 2.5% level\n",
      "Probably Gaussian at the 1.0% level\n",
      "stat=2.654\n",
      "Probably not Gaussian at the 15.0% level\n",
      "Probably not Gaussian at the 10.0% level\n",
      "Probably not Gaussian at the 5.0% level\n",
      "Probably not Gaussian at the 2.5% level\n",
      "Probably not Gaussian at the 1.0% level\n"
     ]
    }
   ],
   "source": [
    "from scipy.stats import anderson\n",
    "data = [1,2,3,4,5,6,7,8,9] #an easy example\n",
    "data2 = [1,2,3,4,5,6,7,8,9, -100] #I will ruin my first data on purpose :)\n",
    "data_col = [data,data2]\n",
    "\n",
    "for data in data_col: \n",
    "    result = anderson(data)\n",
    "\n",
    "    print('stat=%.3f' % (result.statistic))\n",
    "    for i in range(len(result.critical_values)):\n",
    "        sl, cv = result.significance_level[i], result.critical_values[i]\n",
    "        if result.statistic < cv:\n",
    "            print('Probably Gaussian at the %.1f%% level' % (sl))\n",
    "        else:\n",
    "            print('Probably not Gaussian at the %.1f%% level' % (sl))"
   ]
  },
  {
   "cell_type": "markdown",
   "metadata": {},
   "source": [
    "## Corellation Tests"
   ]
  },
  {
   "cell_type": "markdown",
   "metadata": {},
   "source": [
    "*Tests for checking relation between samples.*"
   ]
  },
  {
   "cell_type": "markdown",
   "metadata": {},
   "source": [
    "<div class=\"alert alert-block alert-warning\"><b>Pearson’s Correlation Coefficient</b></div>"
   ]
  },
  {
   "cell_type": "markdown",
   "metadata": {},
   "source": [
    "Assumptions:"
   ]
  },
  {
   "cell_type": "markdown",
   "metadata": {},
   "source": [
    "- Observations in each sample are independent and identically distributed (iid).\n",
    "- Observations in each sample are normally distributed.\n",
    "- Observations in each sample have the same variance."
   ]
  },
  {
   "cell_type": "markdown",
   "metadata": {},
   "source": [
    "Interpretation"
   ]
  },
  {
   "cell_type": "markdown",
   "metadata": {},
   "source": [
    "- H0: the two samples are independent.\n",
    "- H1: there is a dependency between the samples."
   ]
  },
  {
   "cell_type": "code",
   "execution_count": 15,
   "metadata": {},
   "outputs": [
    {
     "name": "stdout",
     "output_type": "stream",
     "text": [
      "stat=1.000, p=0.000\n",
      "Probably dependent\n",
      "stat=0.000, p=1.000\n",
      "Probably independent\n"
     ]
    }
   ],
   "source": [
    "from scipy.stats import pearsonr\n",
    "data1, data2 = [1, 2, 3,4,5,6], [2,4,6,8,10,12]\n",
    "data3, data4 = [0,0,1,0,0], [1,2,3,4,5] #again I am ruining my data on purpose\n",
    "data_col = [[data1,data2],[data3,data4]]\n",
    "\n",
    "for data_A, data_B in data_col:\n",
    "    stat, p = pearsonr(data_A, data_B)\n",
    "    print('stat=%.3f, p=%.3f' % (stat, p))\n",
    "    if p > 0.05:\n",
    "        print('Probably independent')\n",
    "    else:\n",
    "        print('Probably dependent')"
   ]
  },
  {
   "cell_type": "markdown",
   "metadata": {},
   "source": [
    "<div class=\"alert alert-block alert-warning\"><b>Spearman’s Rank Correlation</b></div>"
   ]
  },
  {
   "cell_type": "markdown",
   "metadata": {},
   "source": [
    "Assumptions:"
   ]
  },
  {
   "cell_type": "markdown",
   "metadata": {},
   "source": [
    "- Observations in each sample are independent and identically distributed (iid)\n",
    "- Observations in each sample can be ranked."
   ]
  },
  {
   "cell_type": "markdown",
   "metadata": {},
   "source": [
    "Interpretation:"
   ]
  },
  {
   "cell_type": "markdown",
   "metadata": {},
   "source": [
    "- H0: the two samples are independent.\n",
    "- H1: there is a dependency between the samples."
   ]
  },
  {
   "cell_type": "code",
   "execution_count": 18,
   "metadata": {},
   "outputs": [
    {
     "name": "stdout",
     "output_type": "stream",
     "text": [
      "stat=1.000, p=0.000\n",
      "Probably dependent\n",
      "stat=0.000, p=1.000\n",
      "Probably independent\n"
     ]
    }
   ],
   "source": [
    "from scipy.stats import spearmanr\n",
    "data1, data2 = [1, 2, 3,4,5,6], [2,4,6,8,10,12]\n",
    "data3, data4 = [0,0,1,0,0], [1,2,3,4,5] #again I am ruining my data on purpose\n",
    "data_col = [[data1,data2],[data3,data4]]\n",
    "\n",
    "for data_A, data_B in data_col:\n",
    "    stat, p = spearmanr(data_A, data_B)\n",
    "    print('stat=%.3f, p=%.3f' % (stat, p))\n",
    "    if p > 0.05:\n",
    "        print('Probably independent')\n",
    "    else:\n",
    "        print('Probably dependent')"
   ]
  },
  {
   "cell_type": "markdown",
   "metadata": {},
   "source": [
    "<div class=\"alert alert-block alert-warning\"><b>Chi-Squared Test</b></div>"
   ]
  },
  {
   "cell_type": "markdown",
   "metadata": {},
   "source": [
    "*Testing realtionship between categorical variables.*"
   ]
  },
  {
   "cell_type": "markdown",
   "metadata": {},
   "source": [
    "Assumptions:"
   ]
  },
  {
   "cell_type": "markdown",
   "metadata": {},
   "source": [
    "- Observations used in the calculation of the contingency table are independent (contingency table - just counting occurencies of events).\n",
    "- 25 or more examples in each cell of the contingency table."
   ]
  },
  {
   "cell_type": "markdown",
   "metadata": {},
   "source": [
    "Interpretation:"
   ]
  },
  {
   "cell_type": "markdown",
   "metadata": {},
   "source": [
    "- H0: the two samples are independent.\n",
    "- H1: there is a dependency between the samples."
   ]
  },
  {
   "cell_type": "code",
   "execution_count": 24,
   "metadata": {},
   "outputs": [
    {
     "name": "stdout",
     "output_type": "stream",
     "text": [
      "stat=0.272, p=0.873\n",
      "Probably independent\n",
      "stat=0.272, p=0.873\n",
      "Probably independent\n"
     ]
    }
   ],
   "source": [
    "from scipy.stats import chi2_contingency\n",
    "data1 = [[10, 20, 30],[6,  9,  17]]\n",
    "data2 = [[0,0,0],[0,0,0]]\n",
    "data_col = [data1,data2]\n",
    "\n",
    "for data in data_col:\n",
    "    stat, p, dof, expected = chi2_contingency(table)\n",
    "    print('stat=%.3f, p=%.3f' % (stat, p))\n",
    "    if p > 0.05:\n",
    "        print('Probably independent')\n",
    "    else:\n",
    "        print('Probably dependent')"
   ]
  },
  {
   "cell_type": "markdown",
   "metadata": {},
   "source": [
    "*This one need some more explenation in the future :)* Chi-Square is calculated easily: (observed data - expected data)*2 / expected data."
   ]
  },
  {
   "cell_type": "markdown",
   "metadata": {},
   "source": [
    "<div class=\"alert alert-block alert-warning\"><b>Stationary Tests</b></div>"
   ]
  },
  {
   "cell_type": "markdown",
   "metadata": {},
   "source": [
    "*Tests for checking wheter time series is stationary or not. A stationary time series is one whose statistical properties such as mean, variance, autocorrelation, etc. are all constant over time. Image is self-explanatory.*"
   ]
  },
  {
   "cell_type": "markdown",
   "metadata": {},
   "source": [
    "![Loss](tt1.png)"
   ]
  },
  {
   "cell_type": "markdown",
   "metadata": {},
   "source": [
    "<div class=\"alert alert-block alert-warning\"><b>Augmented Dickey-Fuller Unit Root Test</b></div>"
   ]
  },
  {
   "cell_type": "markdown",
   "metadata": {},
   "source": [
    "*Tests whether a time series has a unit root, e.g. has a trend or more generally is autoregressive.*"
   ]
  },
  {
   "cell_type": "markdown",
   "metadata": {},
   "source": [
    "Assumptions:"
   ]
  },
  {
   "cell_type": "markdown",
   "metadata": {},
   "source": [
    "- Observations in are temporally ordered."
   ]
  },
  {
   "cell_type": "markdown",
   "metadata": {},
   "source": [
    "Interpretation:"
   ]
  },
  {
   "cell_type": "markdown",
   "metadata": {},
   "source": [
    "- H0: a unit root is present (series is non-stationary)\n",
    "- H1: a unit root is not present (series is stationary)."
   ]
  },
  {
   "cell_type": "code",
   "execution_count": 30,
   "metadata": {},
   "outputs": [
    {
     "name": "stdout",
     "output_type": "stream",
     "text": [
      "stat=0.992, p=0.994\n",
      "Probably not Stationary\n",
      "stat=-1898884332263514.000, p=0.000\n",
      "Probably Stationary\n"
     ]
    }
   ],
   "source": [
    "from statsmodels.tsa.stattools import adfuller\n",
    "data1 = [0, 1, 2, 3, 4, 5, 6, 7, 8, 9] #just a line\n",
    "data2 = [1,2,1,2,1,2,1,2]  #and here we know for sure we have same mean and variance! :)\n",
    "data_col = [data1,data2]\n",
    "\n",
    "for data in data_col:\n",
    "    stat, p, lags, obs, crit, t = adfuller(data)\n",
    "    print('stat=%.3f, p=%.3f' % (stat, p))\n",
    "    if p > 0.05:\n",
    "        print('Probably not Stationary')\n",
    "    else:\n",
    "        print('Probably Stationary')"
   ]
  },
  {
   "cell_type": "markdown",
   "metadata": {},
   "source": [
    "<div class=\"alert alert-block alert-warning\"><b>Kwiatkowski-Phillips-Schmidt-Shin</b></div>"
   ]
  },
  {
   "cell_type": "markdown",
   "metadata": {},
   "source": [
    "*Tests whether a time series is trend stationary or not.*"
   ]
  },
  {
   "cell_type": "markdown",
   "metadata": {},
   "source": [
    "Assumptions:"
   ]
  },
  {
   "cell_type": "markdown",
   "metadata": {},
   "source": [
    "- Observations in are temporally ordered."
   ]
  },
  {
   "cell_type": "markdown",
   "metadata": {},
   "source": [
    "Interpretation:"
   ]
  },
  {
   "cell_type": "markdown",
   "metadata": {},
   "source": [
    "- H0: the time series is not trend-stationary.\n",
    "- H1: the time series is trend-stationary."
   ]
  },
  {
   "cell_type": "code",
   "execution_count": 31,
   "metadata": {},
   "outputs": [
    {
     "name": "stdout",
     "output_type": "stream",
     "text": [
      "stat=0.992, p=0.994\n",
      "Probably not Stationary\n",
      "stat=-1898884332263514.000, p=0.000\n",
      "Probably Stationary\n"
     ]
    }
   ],
   "source": [
    "from statsmodels.tsa.stattools import kpss\n",
    "data1 = [0, 1, 2, 3, 4, 5, 6, 7, 8, 9] #just a line\n",
    "data2 = [1,2,1,2,1,2,1,2]  #and here we know for sure we have same mean and variance! :)\n",
    "data_col = [data1,data2]\n",
    "\n",
    "for data in data_col:\n",
    "    stat, p, lags, obs, crit, t = adfuller(data)\n",
    "    print('stat=%.3f, p=%.3f' % (stat, p))\n",
    "    if p > 0.05:\n",
    "        print('Probably not Stationary')\n",
    "    else:\n",
    "        print('Probably Stationary')"
   ]
  },
  {
   "cell_type": "markdown",
   "metadata": {},
   "source": [
    "## Parametric Statistical Hypothesis Tests"
   ]
  },
  {
   "cell_type": "markdown",
   "metadata": {},
   "source": [
    "*Test for comparing our data samples.*"
   ]
  },
  {
   "cell_type": "markdown",
   "metadata": {},
   "source": [
    "<div class=\"alert alert-block alert-warning\"><b>Student’s t-test</b></div>"
   ]
  },
  {
   "cell_type": "markdown",
   "metadata": {},
   "source": [
    "*Testing whether ther means of two independent samples are significantly different.*"
   ]
  },
  {
   "cell_type": "markdown",
   "metadata": {},
   "source": [
    "Assumptions:"
   ]
  },
  {
   "cell_type": "markdown",
   "metadata": {},
   "source": [
    "- Observations in each sample are independent and identically distributed (iid).\n",
    "- Observations in each sample are normally distributed.\n",
    "- Observations in each sample have the same variance."
   ]
  },
  {
   "cell_type": "markdown",
   "metadata": {},
   "source": [
    "Interpretation:"
   ]
  },
  {
   "cell_type": "markdown",
   "metadata": {},
   "source": [
    "- H0: the means of the samples are equal.\n",
    "- H1: the means of the samples are unequal."
   ]
  },
  {
   "cell_type": "code",
   "execution_count": 36,
   "metadata": {
    "scrolled": true
   },
   "outputs": [
    {
     "name": "stdout",
     "output_type": "stream",
     "text": [
      "stat=1.405, p=0.233\n",
      "Probably the same distribution\n",
      "stat=-4.110, p=0.015\n",
      "Probably different distributions\n"
     ]
    }
   ],
   "source": [
    "from scipy.stats import ttest_ind\n",
    "\n",
    "data1 = [[10, 20, 30],[6,  9,  17]]\n",
    "data2 = [[0,0,0],[5,8,12]]\n",
    "data_col = [data1,data2]\n",
    "\n",
    "\n",
    "for data1, data2 in data_col:\n",
    "    stat, p = ttest_ind(data1, data2)\n",
    "    print('stat=%.3f, p=%.3f' % (stat, p))\n",
    "    if p > 0.05:\n",
    "        print('Probably the same distribution')\n",
    "    else:\n",
    "        print('Probably different distributions')"
   ]
  },
  {
   "cell_type": "markdown",
   "metadata": {},
   "source": [
    "<div class=\"alert alert-block alert-warning\"><b>Analysis of Variance Test (ANOVA)</b></div>"
   ]
  },
  {
   "cell_type": "markdown",
   "metadata": {},
   "source": [
    "*Tests whether the means of two or more independent samples are significantly different.*"
   ]
  },
  {
   "cell_type": "markdown",
   "metadata": {},
   "source": [
    "Assumptions:"
   ]
  },
  {
   "cell_type": "markdown",
   "metadata": {},
   "source": [
    "- Observations in each sample are independent and identically distributed (iid).\n",
    "- Observations in each sample are normally distributed.\n",
    "- Observations in each sample have the same variance."
   ]
  },
  {
   "cell_type": "markdown",
   "metadata": {},
   "source": [
    "Interpretation:"
   ]
  },
  {
   "cell_type": "markdown",
   "metadata": {},
   "source": [
    "- H0: the means of the samples are equal.\n",
    "- H1: one or more of the means of the samples are unequal."
   ]
  },
  {
   "cell_type": "code",
   "execution_count": 37,
   "metadata": {},
   "outputs": [
    {
     "name": "stdout",
     "output_type": "stream",
     "text": [
      "stat=0.096, p=0.908\n",
      "Probably the same distribution\n"
     ]
    }
   ],
   "source": [
    "from scipy.stats import f_oneway\n",
    "data1 = [0.873, 2.817, 0.121, -0.945, -0.055, -1.436, 0.360, -1.478, -1.637, -1.869]\n",
    "data2 = [1.142, -0.432, -0.938, -0.729, -0.846, -0.157, 0.500, 1.183, -1.075, -0.169]\n",
    "data3 = [-0.208, 0.696, 0.928, -1.148, -0.213, 0.229, 0.137, 0.269, -0.870, -1.204]\n",
    "stat, p = f_oneway(data1, data2, data3)\n",
    "print('stat=%.3f, p=%.3f' % (stat, p))\n",
    "if p > 0.05:\n",
    "    print('Probably the same distribution')\n",
    "else:\n",
    "    print('Probably different distributions')"
   ]
  },
  {
   "cell_type": "markdown",
   "metadata": {},
   "source": [
    "## Nonparametric Statistical Hypothesis Tests"
   ]
  },
  {
   "cell_type": "markdown",
   "metadata": {},
   "source": [
    "<div class=\"alert alert-block alert-warning\"><b>Mann-Whitney U Test</b></div>"
   ]
  },
  {
   "cell_type": "markdown",
   "metadata": {},
   "source": [
    "*Tests whether the distributions of two independent samples are equal or not.*"
   ]
  },
  {
   "cell_type": "markdown",
   "metadata": {},
   "source": [
    "Assumptions:"
   ]
  },
  {
   "cell_type": "markdown",
   "metadata": {},
   "source": [
    "- Observations in each sample are independent and identically distributed (iid).\n",
    "- Observations in each sample can be ranked."
   ]
  },
  {
   "cell_type": "markdown",
   "metadata": {},
   "source": [
    "Interpretation:"
   ]
  },
  {
   "cell_type": "markdown",
   "metadata": {},
   "source": [
    "- H0: the distributions of both samples are equal.\n",
    "- H1: the distributions of both samples are not equal."
   ]
  },
  {
   "cell_type": "code",
   "execution_count": 39,
   "metadata": {},
   "outputs": [
    {
     "name": "stdout",
     "output_type": "stream",
     "text": [
      "stat=1.000, p=0.095\n",
      "Probably the same distribution\n",
      "stat=0.000, p=0.032\n",
      "Probably different distributions\n"
     ]
    }
   ],
   "source": [
    "from scipy.stats import mannwhitneyu\n",
    "\n",
    "data1 = [[10, 20, 30],[6,  9,  17]]\n",
    "data2 = [[0,0,0],[5,8,12]]\n",
    "data_col = [data1,data2]\n",
    "\n",
    "for data1, data2 in data_col:\n",
    "    stat, p = mannwhitneyu(data1, data2)\n",
    "    print('stat=%.3f, p=%.3f' % (stat, p))\n",
    "    if p > 0.05:\n",
    "        print('Probably the same distribution')\n",
    "    else:\n",
    "        print('Probably different distributions')"
   ]
  },
  {
   "cell_type": "markdown",
   "metadata": {},
   "source": [
    "<div class=\"alert alert-block alert-warning\"><b>Wilcoxon Signed-Rank Test</b></div>"
   ]
  },
  {
   "cell_type": "markdown",
   "metadata": {},
   "source": [
    "*Tests whether the distributions of two paired samples are equal or not.*"
   ]
  },
  {
   "cell_type": "markdown",
   "metadata": {},
   "source": [
    "Assumptions:"
   ]
  },
  {
   "cell_type": "markdown",
   "metadata": {},
   "source": [
    "- Observations in each sample are independent and identically distributed (iid).\n",
    "- Observations in each sample can be ranked.\n",
    "- Observations across each sample are paired."
   ]
  },
  {
   "cell_type": "markdown",
   "metadata": {},
   "source": [
    "Interpretation"
   ]
  },
  {
   "cell_type": "markdown",
   "metadata": {},
   "source": [
    "- H0: the distributions of both samples are equal.\n",
    "- H1: the distributions of both samples are not equal."
   ]
  },
  {
   "cell_type": "code",
   "execution_count": 40,
   "metadata": {},
   "outputs": [
    {
     "name": "stdout",
     "output_type": "stream",
     "text": [
      "stat=0.000, p=0.250\n",
      "Probably the same distribution\n",
      "stat=0.000, p=0.250\n",
      "Probably the same distribution\n"
     ]
    }
   ],
   "source": [
    "from scipy.stats import wilcoxon\n",
    "\n",
    "data1 = [[10, 20, 30],[6,  9,  17]]\n",
    "data2 = [[0,0,0],[5,8,12]]\n",
    "data_col = [data1,data2]\n",
    "\n",
    "for data1, data2 in data_col:\n",
    "    stat, p = wilcoxon(data1, data2)\n",
    "    print('stat=%.3f, p=%.3f' % (stat, p))\n",
    "    if p > 0.05:\n",
    "        print('Probably the same distribution')\n",
    "    else:\n",
    "        print('Probably different distributions')"
   ]
  },
  {
   "cell_type": "markdown",
   "metadata": {},
   "source": [
    "*Interesingly we have same data as in Mann-Whitney U test but different result.*"
   ]
  },
  {
   "cell_type": "markdown",
   "metadata": {},
   "source": [
    "<div class=\"alert alert-block alert-warning\"><b>Kruskal-Wallis H Test</b></div>"
   ]
  },
  {
   "cell_type": "markdown",
   "metadata": {},
   "source": [
    "*Tests whether the distributions of two or more independent samples are equal or not.*"
   ]
  },
  {
   "cell_type": "markdown",
   "metadata": {},
   "source": [
    "Assumptions:"
   ]
  },
  {
   "cell_type": "markdown",
   "metadata": {},
   "source": [
    "- Observations in each sample are independent and identically distributed (iid).\n",
    "- Observations in each sample can be ranked."
   ]
  },
  {
   "cell_type": "markdown",
   "metadata": {},
   "source": [
    "Interpretation:"
   ]
  },
  {
   "cell_type": "markdown",
   "metadata": {},
   "source": [
    "- H0: the distributions of all samples are equal.\n",
    "- H1: the distributions of one or more samples are not equal."
   ]
  },
  {
   "cell_type": "code",
   "execution_count": 41,
   "metadata": {},
   "outputs": [
    {
     "name": "stdout",
     "output_type": "stream",
     "text": [
      "stat=2.333, p=0.127\n",
      "Probably the same distribution\n",
      "stat=4.355, p=0.037\n",
      "Probably different distributions\n"
     ]
    }
   ],
   "source": [
    "from scipy.stats import kruskal\n",
    "\n",
    "data1 = [[10, 20, 30],[6,  9,  17]]\n",
    "data2 = [[0,0,0],[5,8,12]]\n",
    "data_col = [data1,data2]\n",
    "\n",
    "for data1, data2 in data_col:\n",
    "    stat, p = kruskal(data1, data2)\n",
    "    print('stat=%.3f, p=%.3f' % (stat, p))\n",
    "    if p > 0.05:\n",
    "        print('Probably the same distribution')\n",
    "    else:\n",
    "        print('Probably different distributions')"
   ]
  },
  {
   "cell_type": "markdown",
   "metadata": {},
   "source": [
    "<div class=\"alert alert-block alert-warning\"><b>Friedman Test</b></div>"
   ]
  },
  {
   "cell_type": "markdown",
   "metadata": {},
   "source": [
    "*Tests whether the distributions of two or more paired samples are equal or not.*"
   ]
  },
  {
   "cell_type": "markdown",
   "metadata": {},
   "source": [
    "Assumptions:"
   ]
  },
  {
   "cell_type": "markdown",
   "metadata": {},
   "source": [
    "- Observations in each sample are independent and identically distributed (iid).\n",
    "- Observations in each sample can be ranked.\n",
    "- Observations across each sample are paired."
   ]
  },
  {
   "cell_type": "markdown",
   "metadata": {},
   "source": [
    "Interpretation:"
   ]
  },
  {
   "cell_type": "markdown",
   "metadata": {},
   "source": [
    "- H0: the distributions of all samples are equal.\n",
    "- H1: the distributions of one or more samples are not equal."
   ]
  },
  {
   "cell_type": "code",
   "execution_count": 42,
   "metadata": {},
   "outputs": [
    {
     "name": "stdout",
     "output_type": "stream",
     "text": [
      "stat=0.800, p=0.670\n",
      "Probably the same distribution\n"
     ]
    }
   ],
   "source": [
    "from scipy.stats import friedmanchisquare\n",
    "data1 = [0.873, 2.817, 0.121, -0.945, -0.055, -1.436, 0.360, -1.478, -1.637, -1.869]\n",
    "data2 = [1.142, -0.432, -0.938, -0.729, -0.846, -0.157, 0.500, 1.183, -1.075, -0.169]\n",
    "data3 = [-0.208, 0.696, 0.928, -1.148, -0.213, 0.229, 0.137, 0.269, -0.870, -1.204]\n",
    "stat, p = friedmanchisquare(data1, data2, data3)\n",
    "print('stat=%.3f, p=%.3f' % (stat, p))\n",
    "if p > 0.05:\n",
    "    print('Probably the same distribution')\n",
    "else:\n",
    "    print('Probably different distributions')"
   ]
  },
  {
   "cell_type": "markdown",
   "metadata": {},
   "source": [
    "<div class=\"alert alert-block alert-warning\"><b>Summary:</b></div>"
   ]
  },
  {
   "cell_type": "markdown",
   "metadata": {},
   "source": [
    "- Normality Tests - checking whether data has Gaussian Distribution or not: Shapiro-Wilk Test, D’Agostino’s K^2 Test, Anderson-Darling Test\n",
    "- Corellation Tests - checking whether two samples are somehow related to each other: Pearson’s Correlation Coefficient, Spearman’s Rank Correlation, Kendall’s Rank Correlation, Chi-Squared Test\n",
    "- Stationary Tests - if time series is stationary or not: Augmented Dickey-Fuller Unit Root Test, Kwiatkowski-Phillips-Schmidt-Shin, \n",
    "- Parametric Statistical Hypothesis Test - test for comparing datasets and if they are different or not: Student’s t-test,Paired Student’s t-test, Analysis of Variance Test (ANOVA)\n",
    "- Nonparametric Statistical Hypothesis Tests - testing whether independent samples are equal or not: Mann-Whitney U Test, Wilcoxon Signed-Rank Test, Kruskal-Wallis H Test, Friedman Test"
   ]
  },
  {
   "cell_type": "markdown",
   "metadata": {},
   "source": [
    "*This is quite a good reference for statistical testing. Another thing is when to use which test and how to interpret it correctly :).*"
   ]
  },
  {
   "cell_type": "markdown",
   "metadata": {},
   "source": [
    "***The End***"
   ]
  }
 ],
 "metadata": {
  "kernelspec": {
   "display_name": "Python 3",
   "language": "python",
   "name": "python3"
  },
  "language_info": {
   "codemirror_mode": {
    "name": "ipython",
    "version": 3
   },
   "file_extension": ".py",
   "mimetype": "text/x-python",
   "name": "python",
   "nbconvert_exporter": "python",
   "pygments_lexer": "ipython3",
   "version": "3.7.8"
  }
 },
 "nbformat": 4,
 "nbformat_minor": 4
}
