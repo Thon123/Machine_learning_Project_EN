{
 "cells": [
  {
   "cell_type": "markdown",
   "metadata": {},
   "source": [
    "# TensorFlow & Keras"
   ]
  },
  {
   "cell_type": "markdown",
   "metadata": {},
   "source": [
    "I am starting a small personal tutorial with TensorFlow and Keras. The purpose of this notebook is TF installation and gentle introduction into this module."
   ]
  },
  {
   "cell_type": "markdown",
   "metadata": {},
   "source": [
    "__________"
   ]
  },
  {
   "cell_type": "code",
   "execution_count": 1,
   "metadata": {},
   "outputs": [],
   "source": [
    "import numpy as np\n",
    "import pandas as pd\n",
    "import sklearn as sklearn\n",
    "import matplotlib.pyplot as plt\n",
    "import seaborn as sns"
   ]
  },
  {
   "cell_type": "markdown",
   "metadata": {},
   "source": [
    "<div class=\"alert alert-block alert-warning\"><b>Installation</b></div>"
   ]
  },
  {
   "cell_type": "markdown",
   "metadata": {},
   "source": [
    "*It's easier create own env in anaconda and install TensorFlow and after that jupyter notebook. Also is necessary to define python version not to be higher than 3.7*"
   ]
  },
  {
   "cell_type": "code",
   "execution_count": null,
   "metadata": {},
   "outputs": [],
   "source": [
    "# conda create --name name_of_your_env\n",
    "# conda install -c conda-forge tensorflow=2.0 python=3.7 #forge is improtant here :))\n",
    "# conda install jupyter notebook \n",
    "# conda install other dependecies ...\n",
    "# jupyter notebook"
   ]
  },
  {
   "cell_type": "markdown",
   "metadata": {},
   "source": [
    "*In my case using only install tensorflow=2.0 withou python version or conda-forge lead to non working environment, I wasn't able to import tensorflow, here is a link for solving this issue: https://stackoverflow.com/questions/38221181/no-module-named-tensorflow-in-jupyter*"
   ]
  },
  {
   "cell_type": "code",
   "execution_count": 1,
   "metadata": {},
   "outputs": [
    {
     "name": "stdout",
     "output_type": "stream",
     "text": [
      "3.7.8\n"
     ]
    }
   ],
   "source": [
    "from platform import python_version\n",
    "\n",
    "print(python_version())"
   ]
  },
  {
   "cell_type": "markdown",
   "metadata": {},
   "source": [
    "*Just checking that I am not having python version above 3.7.x.*"
   ]
  },
  {
   "cell_type": "code",
   "execution_count": 2,
   "metadata": {},
   "outputs": [],
   "source": [
    "import tensorflow as tf"
   ]
  },
  {
   "cell_type": "code",
   "execution_count": 3,
   "metadata": {},
   "outputs": [
    {
     "name": "stdout",
     "output_type": "stream",
     "text": [
      "2.1.0\n"
     ]
    }
   ],
   "source": [
    "print(tf.__version__)"
   ]
  },
  {
   "cell_type": "markdown",
   "metadata": {},
   "source": [
    "*Ternsorflow is successfully imported.*"
   ]
  },
  {
   "cell_type": "markdown",
   "metadata": {},
   "source": [
    "## Simple classification with TernsorFlow"
   ]
  },
  {
   "cell_type": "markdown",
   "metadata": {},
   "source": [
    "<div class=\"alert alert-block alert-warning\"><b>Breast Cancer Data</b></div>"
   ]
  },
  {
   "cell_type": "code",
   "execution_count": 4,
   "metadata": {},
   "outputs": [],
   "source": [
    "from sklearn.datasets import load_breast_cancer"
   ]
  },
  {
   "cell_type": "code",
   "execution_count": 5,
   "metadata": {},
   "outputs": [],
   "source": [
    "data = load_breast_cancer()"
   ]
  },
  {
   "cell_type": "code",
   "execution_count": 6,
   "metadata": {},
   "outputs": [
    {
     "data": {
      "text/plain": [
       "(dict_keys(['data', 'target', 'frame', 'target_names', 'DESCR', 'feature_names', 'filename']),\n",
       " (569, 30),\n",
       " sklearn.utils.Bunch)"
      ]
     },
     "execution_count": 6,
     "metadata": {},
     "output_type": "execute_result"
    }
   ],
   "source": [
    "data.keys(), data.data.shape, type(data)"
   ]
  },
  {
   "cell_type": "code",
   "execution_count": 7,
   "metadata": {},
   "outputs": [
    {
     "data": {
      "text/plain": [
       "array(['malignant', 'benign'], dtype='<U9')"
      ]
     },
     "execution_count": 7,
     "metadata": {},
     "output_type": "execute_result"
    }
   ],
   "source": [
    "data.target_names"
   ]
  },
  {
   "cell_type": "code",
   "execution_count": 8,
   "metadata": {},
   "outputs": [
    {
     "data": {
      "text/plain": [
       "((569, 30), (569,))"
      ]
     },
     "execution_count": 8,
     "metadata": {},
     "output_type": "execute_result"
    }
   ],
   "source": [
    "data.data.shape, data.target.shape"
   ]
  },
  {
   "cell_type": "code",
   "execution_count": 9,
   "metadata": {},
   "outputs": [
    {
     "data": {
      "text/plain": [
       "array([0, 0, 0, 0, 0, 0, 0, 0, 0, 0, 0, 0, 0, 0, 0, 0, 0, 0, 0, 1, 1, 1,\n",
       "       0, 0, 0, 0, 0, 0, 0, 0])"
      ]
     },
     "execution_count": 9,
     "metadata": {},
     "output_type": "execute_result"
    }
   ],
   "source": [
    "data.target[:30]"
   ]
  },
  {
   "cell_type": "code",
   "execution_count": 10,
   "metadata": {
    "scrolled": false
   },
   "outputs": [
    {
     "data": {
      "text/plain": [
       "array([[1.799e+01, 1.038e+01, 1.228e+02, 1.001e+03, 1.184e-01, 2.776e-01,\n",
       "        3.001e-01, 1.471e-01, 2.419e-01, 7.871e-02, 1.095e+00, 9.053e-01,\n",
       "        8.589e+00, 1.534e+02, 6.399e-03, 4.904e-02, 5.373e-02, 1.587e-02,\n",
       "        3.003e-02, 6.193e-03, 2.538e+01, 1.733e+01, 1.846e+02, 2.019e+03,\n",
       "        1.622e-01, 6.656e-01, 7.119e-01, 2.654e-01, 4.601e-01, 1.189e-01]])"
      ]
     },
     "execution_count": 10,
     "metadata": {},
     "output_type": "execute_result"
    }
   ],
   "source": [
    "data.data[:1]"
   ]
  },
  {
   "cell_type": "code",
   "execution_count": 11,
   "metadata": {},
   "outputs": [
    {
     "data": {
      "text/plain": [
       "array(['mean radius', 'mean texture', 'mean perimeter', 'mean area',\n",
       "       'mean smoothness', 'mean compactness', 'mean concavity',\n",
       "       'mean concave points', 'mean symmetry', 'mean fractal dimension',\n",
       "       'radius error', 'texture error', 'perimeter error', 'area error',\n",
       "       'smoothness error', 'compactness error', 'concavity error',\n",
       "       'concave points error', 'symmetry error',\n",
       "       'fractal dimension error', 'worst radius', 'worst texture',\n",
       "       'worst perimeter', 'worst area', 'worst smoothness',\n",
       "       'worst compactness', 'worst concavity', 'worst concave points',\n",
       "       'worst symmetry', 'worst fractal dimension'], dtype='<U23')"
      ]
     },
     "execution_count": 11,
     "metadata": {},
     "output_type": "execute_result"
    }
   ],
   "source": [
    "data.feature_names"
   ]
  },
  {
   "cell_type": "markdown",
   "metadata": {},
   "source": [
    "*So this is quite well know data set, and I will just proceed with simple classification using TF.*"
   ]
  },
  {
   "cell_type": "markdown",
   "metadata": {},
   "source": [
    "<div class=\"alert alert-block alert-warning\"><b>Training, testing and evaluating</b></div>"
   ]
  },
  {
   "cell_type": "code",
   "execution_count": 12,
   "metadata": {},
   "outputs": [],
   "source": [
    "from sklearn.model_selection import train_test_split "
   ]
  },
  {
   "cell_type": "code",
   "execution_count": 13,
   "metadata": {},
   "outputs": [],
   "source": [
    "X_train, X_test, y_train, y_test = train_test_split(data.data, data.target, test_size=0.3)\n",
    "#splitting my data"
   ]
  },
  {
   "cell_type": "code",
   "execution_count": 14,
   "metadata": {},
   "outputs": [],
   "source": [
    "N_inputs, D_outputs = X_train.shape #necessary for TF"
   ]
  },
  {
   "cell_type": "markdown",
   "metadata": {},
   "source": [
    "*Now just simple scaling, for Deep Learning more important than in Machine Learning models! For example randomforrest etc. does not need scaling.*"
   ]
  },
  {
   "cell_type": "code",
   "execution_count": 15,
   "metadata": {},
   "outputs": [],
   "source": [
    "from sklearn.preprocessing import StandardScaler\n",
    "scaler = StandardScaler()\n",
    "X_train = scaler.fit_transform(X_train)\n",
    "X_test = scaler.transform(X_test)"
   ]
  },
  {
   "cell_type": "markdown",
   "metadata": {},
   "source": [
    "**Ternsorflow part**"
   ]
  },
  {
   "cell_type": "markdown",
   "metadata": {},
   "source": [
    "*Creating model.*"
   ]
  },
  {
   "cell_type": "code",
   "execution_count": 16,
   "metadata": {},
   "outputs": [],
   "source": [
    "my_model = tf.keras.models.Sequential ([ #I am defining my Sequential from keras\n",
    "    tf.keras.layers.Input(shape=(D_outputs,)), #here we specify size of inputs\n",
    "    tf.keras.layers.Dense(1, activation=\"sigmoid\") #dense and activation via sigmoid function\n",
    "]) #using our input\n",
    "# or\n",
    "# my_model = tf.kears.models.Sequential()\n",
    "# my_model.add(tf.keras.layers.Dense(1, input_shape=(D,), activation=\"sigmoid\"))"
   ]
  },
  {
   "cell_type": "markdown",
   "metadata": {},
   "source": [
    "*Creating a compiler.*"
   ]
  },
  {
   "cell_type": "code",
   "execution_count": 17,
   "metadata": {},
   "outputs": [],
   "source": [
    "my_model.compile(optimizer=\"adam\", loss=\"binary_crossentropy\", metrics=[\"accuracy\"])\n",
    "#Here I am defining my cost function, metrics evaluations \n",
    "# (accuracy meaning True predictions / total and optimizer"
   ]
  },
  {
   "cell_type": "markdown",
   "metadata": {},
   "source": [
    "*Training and evaluating.*"
   ]
  },
  {
   "cell_type": "code",
   "execution_count": 76,
   "metadata": {
    "scrolled": false
   },
   "outputs": [
    {
     "name": "stdout",
     "output_type": "stream",
     "text": [
      "Train on 398 samples, validate on 171 samples\n",
      "Epoch 1/5\n",
      "398/398 [==============================] - 1s 1ms/sample - loss: 0.6474 - accuracy: 0.6256 - val_loss: 0.6453 - val_accuracy: 0.6550\n",
      "Epoch 2/5\n",
      "398/398 [==============================] - 0s 90us/sample - loss: 0.5754 - accuracy: 0.7111 - val_loss: 0.5819 - val_accuracy: 0.7135\n",
      "Epoch 3/5\n",
      "398/398 [==============================] - 0s 100us/sample - loss: 0.5163 - accuracy: 0.7839 - val_loss: 0.5286 - val_accuracy: 0.7836\n",
      "Epoch 4/5\n",
      "398/398 [==============================] - 0s 100us/sample - loss: 0.4675 - accuracy: 0.8090 - val_loss: 0.4849 - val_accuracy: 0.8363\n",
      "Epoch 5/5\n",
      "398/398 [==============================] - 0s 97us/sample - loss: 0.4281 - accuracy: 0.8392 - val_loss: 0.4487 - val_accuracy: 0.8830\n"
     ]
    }
   ],
   "source": [
    "result = my_model.fit(X_train, y_train, validation_data=(X_test, y_test), epochs=5)\n",
    "#where epochs is number of iterations"
   ]
  },
  {
   "cell_type": "markdown",
   "metadata": {},
   "source": [
    "*Intentionally I am choosing only 5 iterations, to show how my loss function is decreasing, it is using Gradient descent so with 5 iterations there is no chance it can \"go down the hill\", with default learning rate.*"
   ]
  },
  {
   "cell_type": "code",
   "execution_count": 18,
   "metadata": {
    "scrolled": false
   },
   "outputs": [
    {
     "name": "stdout",
     "output_type": "stream",
     "text": [
      "Train on 398 samples, validate on 171 samples\n",
      "Epoch 1/110\n",
      "398/398 [==============================] - 1s 2ms/sample - loss: 0.7914 - accuracy: 0.3568 - val_loss: 0.7412 - val_accuracy: 0.4269\n",
      "Epoch 2/110\n",
      "398/398 [==============================] - 0s 228us/sample - loss: 0.6997 - accuracy: 0.5302 - val_loss: 0.6612 - val_accuracy: 0.5906\n",
      "Epoch 3/110\n",
      "398/398 [==============================] - 0s 221us/sample - loss: 0.6245 - accuracy: 0.6508 - val_loss: 0.5944 - val_accuracy: 0.7368\n",
      "Epoch 4/110\n",
      "398/398 [==============================] - 0s 234us/sample - loss: 0.5599 - accuracy: 0.7764 - val_loss: 0.5413 - val_accuracy: 0.8129\n",
      "Epoch 5/110\n",
      "398/398 [==============================] - 0s 170us/sample - loss: 0.5093 - accuracy: 0.8266 - val_loss: 0.4967 - val_accuracy: 0.8304\n",
      "Epoch 6/110\n",
      "398/398 [==============================] - 0s 221us/sample - loss: 0.4672 - accuracy: 0.8844 - val_loss: 0.4598 - val_accuracy: 0.8538\n",
      "Epoch 7/110\n",
      "398/398 [==============================] - 0s 193us/sample - loss: 0.4323 - accuracy: 0.8995 - val_loss: 0.4288 - val_accuracy: 0.8655\n",
      "Epoch 8/110\n",
      "398/398 [==============================] - 0s 218us/sample - loss: 0.4030 - accuracy: 0.9070 - val_loss: 0.4025 - val_accuracy: 0.8830\n",
      "Epoch 9/110\n",
      "398/398 [==============================] - 0s 210us/sample - loss: 0.3781 - accuracy: 0.9121 - val_loss: 0.3800 - val_accuracy: 0.8889\n",
      "Epoch 10/110\n",
      "398/398 [==============================] - 0s 219us/sample - loss: 0.3562 - accuracy: 0.9171 - val_loss: 0.3606 - val_accuracy: 0.8889\n",
      "Epoch 11/110\n",
      "398/398 [==============================] - 0s 226us/sample - loss: 0.3376 - accuracy: 0.9196 - val_loss: 0.3431 - val_accuracy: 0.8947\n",
      "Epoch 12/110\n",
      "398/398 [==============================] - 0s 231us/sample - loss: 0.3209 - accuracy: 0.9196 - val_loss: 0.3279 - val_accuracy: 0.9064\n",
      "Epoch 13/110\n",
      "398/398 [==============================] - 0s 253us/sample - loss: 0.3059 - accuracy: 0.9246 - val_loss: 0.3144 - val_accuracy: 0.9181\n",
      "Epoch 14/110\n",
      "398/398 [==============================] - 0s 248us/sample - loss: 0.2927 - accuracy: 0.9296 - val_loss: 0.3020 - val_accuracy: 0.9181\n",
      "Epoch 15/110\n",
      "398/398 [==============================] - 0s 248us/sample - loss: 0.2808 - accuracy: 0.9347 - val_loss: 0.2908 - val_accuracy: 0.9181\n",
      "Epoch 16/110\n",
      "398/398 [==============================] - 0s 60us/sample - loss: 0.2698 - accuracy: 0.9347 - val_loss: 0.2807 - val_accuracy: 0.9240\n",
      "Epoch 17/110\n",
      "398/398 [==============================] - 0s 63us/sample - loss: 0.2601 - accuracy: 0.9372 - val_loss: 0.2715 - val_accuracy: 0.9240\n",
      "Epoch 18/110\n",
      "398/398 [==============================] - 0s 73us/sample - loss: 0.2510 - accuracy: 0.9422 - val_loss: 0.2632 - val_accuracy: 0.9298\n",
      "Epoch 19/110\n",
      "398/398 [==============================] - 0s 80us/sample - loss: 0.2429 - accuracy: 0.9422 - val_loss: 0.2554 - val_accuracy: 0.9357\n",
      "Epoch 20/110\n",
      "398/398 [==============================] - 0s 73us/sample - loss: 0.2352 - accuracy: 0.9447 - val_loss: 0.2483 - val_accuracy: 0.9357\n",
      "Epoch 21/110\n",
      "398/398 [==============================] - 0s 60us/sample - loss: 0.2282 - accuracy: 0.9472 - val_loss: 0.2416 - val_accuracy: 0.9357\n",
      "Epoch 22/110\n",
      "398/398 [==============================] - 0s 65us/sample - loss: 0.2218 - accuracy: 0.9472 - val_loss: 0.2354 - val_accuracy: 0.9357\n",
      "Epoch 23/110\n",
      "398/398 [==============================] - 0s 75us/sample - loss: 0.2158 - accuracy: 0.9472 - val_loss: 0.2296 - val_accuracy: 0.9357\n",
      "Epoch 24/110\n",
      "398/398 [==============================] - 0s 78us/sample - loss: 0.2101 - accuracy: 0.9472 - val_loss: 0.2243 - val_accuracy: 0.9357\n",
      "Epoch 25/110\n",
      "398/398 [==============================] - 0s 73us/sample - loss: 0.2049 - accuracy: 0.9497 - val_loss: 0.2192 - val_accuracy: 0.9357\n",
      "Epoch 26/110\n",
      "398/398 [==============================] - 0s 78us/sample - loss: 0.1999 - accuracy: 0.9497 - val_loss: 0.2145 - val_accuracy: 0.9357\n",
      "Epoch 27/110\n",
      "398/398 [==============================] - 0s 68us/sample - loss: 0.1954 - accuracy: 0.9497 - val_loss: 0.2102 - val_accuracy: 0.9357\n",
      "Epoch 28/110\n",
      "398/398 [==============================] - 0s 70us/sample - loss: 0.1910 - accuracy: 0.9497 - val_loss: 0.2059 - val_accuracy: 0.9357\n",
      "Epoch 29/110\n",
      "398/398 [==============================] - 0s 73us/sample - loss: 0.1870 - accuracy: 0.9497 - val_loss: 0.2019 - val_accuracy: 0.9415\n",
      "Epoch 30/110\n",
      "398/398 [==============================] - 0s 80us/sample - loss: 0.1830 - accuracy: 0.9497 - val_loss: 0.1982 - val_accuracy: 0.9415\n",
      "Epoch 31/110\n",
      "398/398 [==============================] - 0s 80us/sample - loss: 0.1794 - accuracy: 0.9497 - val_loss: 0.1946 - val_accuracy: 0.9474\n",
      "Epoch 32/110\n",
      "398/398 [==============================] - 0s 75us/sample - loss: 0.1760 - accuracy: 0.9548 - val_loss: 0.1912 - val_accuracy: 0.9532\n",
      "Epoch 33/110\n",
      "398/398 [==============================] - 0s 65us/sample - loss: 0.1728 - accuracy: 0.9548 - val_loss: 0.1880 - val_accuracy: 0.9532\n",
      "Epoch 34/110\n",
      "398/398 [==============================] - 0s 70us/sample - loss: 0.1697 - accuracy: 0.9573 - val_loss: 0.1850 - val_accuracy: 0.9532\n",
      "Epoch 35/110\n",
      "398/398 [==============================] - 0s 75us/sample - loss: 0.1667 - accuracy: 0.9573 - val_loss: 0.1820 - val_accuracy: 0.9532\n",
      "Epoch 36/110\n",
      "398/398 [==============================] - 0s 83us/sample - loss: 0.1640 - accuracy: 0.9573 - val_loss: 0.1792 - val_accuracy: 0.9532\n",
      "Epoch 37/110\n",
      "398/398 [==============================] - 0s 88us/sample - loss: 0.1613 - accuracy: 0.9573 - val_loss: 0.1765 - val_accuracy: 0.9532\n",
      "Epoch 38/110\n",
      "398/398 [==============================] - 0s 90us/sample - loss: 0.1587 - accuracy: 0.9573 - val_loss: 0.1740 - val_accuracy: 0.9532\n",
      "Epoch 39/110\n",
      "398/398 [==============================] - 0s 78us/sample - loss: 0.1563 - accuracy: 0.9573 - val_loss: 0.1715 - val_accuracy: 0.9532\n",
      "Epoch 40/110\n",
      "398/398 [==============================] - 0s 83us/sample - loss: 0.1540 - accuracy: 0.9573 - val_loss: 0.1691 - val_accuracy: 0.9532\n",
      "Epoch 41/110\n",
      "398/398 [==============================] - 0s 90us/sample - loss: 0.1517 - accuracy: 0.9573 - val_loss: 0.1669 - val_accuracy: 0.9532\n",
      "Epoch 42/110\n",
      "398/398 [==============================] - 0s 85us/sample - loss: 0.1496 - accuracy: 0.9573 - val_loss: 0.1647 - val_accuracy: 0.9532\n",
      "Epoch 43/110\n",
      "398/398 [==============================] - 0s 97us/sample - loss: 0.1475 - accuracy: 0.9573 - val_loss: 0.1627 - val_accuracy: 0.9591\n",
      "Epoch 44/110\n",
      "398/398 [==============================] - 0s 78us/sample - loss: 0.1456 - accuracy: 0.9573 - val_loss: 0.1606 - val_accuracy: 0.9591\n",
      "Epoch 45/110\n",
      "398/398 [==============================] - 0s 80us/sample - loss: 0.1437 - accuracy: 0.9573 - val_loss: 0.1587 - val_accuracy: 0.9591\n",
      "Epoch 46/110\n",
      "398/398 [==============================] - 0s 78us/sample - loss: 0.1419 - accuracy: 0.9598 - val_loss: 0.1568 - val_accuracy: 0.9591\n",
      "Epoch 47/110\n",
      "398/398 [==============================] - 0s 65us/sample - loss: 0.1401 - accuracy: 0.9598 - val_loss: 0.1550 - val_accuracy: 0.9591\n",
      "Epoch 48/110\n",
      "398/398 [==============================] - 0s 70us/sample - loss: 0.1385 - accuracy: 0.9598 - val_loss: 0.1532 - val_accuracy: 0.9591\n",
      "Epoch 49/110\n",
      "398/398 [==============================] - 0s 70us/sample - loss: 0.1368 - accuracy: 0.9598 - val_loss: 0.1515 - val_accuracy: 0.9591\n",
      "Epoch 50/110\n",
      "398/398 [==============================] - 0s 80us/sample - loss: 0.1353 - accuracy: 0.9623 - val_loss: 0.1499 - val_accuracy: 0.9591\n",
      "Epoch 51/110\n",
      "398/398 [==============================] - 0s 78us/sample - loss: 0.1337 - accuracy: 0.9648 - val_loss: 0.1483 - val_accuracy: 0.9591\n",
      "Epoch 52/110\n",
      "398/398 [==============================] - 0s 75us/sample - loss: 0.1322 - accuracy: 0.9648 - val_loss: 0.1468 - val_accuracy: 0.9591\n",
      "Epoch 53/110\n",
      "398/398 [==============================] - 0s 65us/sample - loss: 0.1308 - accuracy: 0.9648 - val_loss: 0.1453 - val_accuracy: 0.9591\n",
      "Epoch 54/110\n",
      "398/398 [==============================] - 0s 73us/sample - loss: 0.1294 - accuracy: 0.9648 - val_loss: 0.1438 - val_accuracy: 0.9591\n",
      "Epoch 55/110\n",
      "398/398 [==============================] - 0s 73us/sample - loss: 0.1281 - accuracy: 0.9648 - val_loss: 0.1424 - val_accuracy: 0.9591\n",
      "Epoch 56/110\n",
      "398/398 [==============================] - 0s 80us/sample - loss: 0.1267 - accuracy: 0.9648 - val_loss: 0.1410 - val_accuracy: 0.9591\n",
      "Epoch 57/110\n",
      "398/398 [==============================] - 0s 75us/sample - loss: 0.1255 - accuracy: 0.9673 - val_loss: 0.1397 - val_accuracy: 0.9649\n",
      "Epoch 58/110\n",
      "398/398 [==============================] - 0s 78us/sample - loss: 0.1243 - accuracy: 0.9673 - val_loss: 0.1384 - val_accuracy: 0.9649\n",
      "Epoch 59/110\n",
      "398/398 [==============================] - 0s 78us/sample - loss: 0.1231 - accuracy: 0.9673 - val_loss: 0.1372 - val_accuracy: 0.9649\n",
      "Epoch 60/110\n",
      "398/398 [==============================] - 0s 68us/sample - loss: 0.1220 - accuracy: 0.9648 - val_loss: 0.1360 - val_accuracy: 0.9649\n",
      "Epoch 61/110\n",
      "398/398 [==============================] - 0s 70us/sample - loss: 0.1208 - accuracy: 0.9673 - val_loss: 0.1348 - val_accuracy: 0.9649\n",
      "Epoch 62/110\n",
      "398/398 [==============================] - 0s 78us/sample - loss: 0.1198 - accuracy: 0.9648 - val_loss: 0.1337 - val_accuracy: 0.9649\n",
      "Epoch 63/110\n",
      "398/398 [==============================] - 0s 90us/sample - loss: 0.1188 - accuracy: 0.9648 - val_loss: 0.1325 - val_accuracy: 0.9649\n",
      "Epoch 64/110\n",
      "398/398 [==============================] - 0s 73us/sample - loss: 0.1177 - accuracy: 0.9648 - val_loss: 0.1315 - val_accuracy: 0.9649\n",
      "Epoch 65/110\n",
      "398/398 [==============================] - 0s 78us/sample - loss: 0.1167 - accuracy: 0.9648 - val_loss: 0.1304 - val_accuracy: 0.9649\n",
      "Epoch 66/110\n",
      "398/398 [==============================] - 0s 83us/sample - loss: 0.1158 - accuracy: 0.9648 - val_loss: 0.1294 - val_accuracy: 0.9649\n",
      "Epoch 67/110\n",
      "398/398 [==============================] - 0s 73us/sample - loss: 0.1149 - accuracy: 0.9673 - val_loss: 0.1284 - val_accuracy: 0.9649\n",
      "Epoch 68/110\n",
      "398/398 [==============================] - 0s 78us/sample - loss: 0.1139 - accuracy: 0.9673 - val_loss: 0.1273 - val_accuracy: 0.9766\n",
      "Epoch 69/110\n",
      "398/398 [==============================] - 0s 88us/sample - loss: 0.1130 - accuracy: 0.9673 - val_loss: 0.1264 - val_accuracy: 0.9766\n",
      "Epoch 70/110\n",
      "398/398 [==============================] - 0s 85us/sample - loss: 0.1122 - accuracy: 0.9698 - val_loss: 0.1254 - val_accuracy: 0.9766\n",
      "Epoch 71/110\n",
      "398/398 [==============================] - 0s 83us/sample - loss: 0.1113 - accuracy: 0.9698 - val_loss: 0.1245 - val_accuracy: 0.9766\n",
      "Epoch 72/110\n",
      "398/398 [==============================] - 0s 85us/sample - loss: 0.1105 - accuracy: 0.9698 - val_loss: 0.1236 - val_accuracy: 0.9766\n",
      "Epoch 73/110\n",
      "398/398 [==============================] - 0s 88us/sample - loss: 0.1097 - accuracy: 0.9698 - val_loss: 0.1228 - val_accuracy: 0.9766\n",
      "Epoch 74/110\n",
      "398/398 [==============================] - 0s 87us/sample - loss: 0.1089 - accuracy: 0.9698 - val_loss: 0.1219 - val_accuracy: 0.9766\n",
      "Epoch 75/110\n",
      "398/398 [==============================] - 0s 80us/sample - loss: 0.1081 - accuracy: 0.9698 - val_loss: 0.1211 - val_accuracy: 0.9766\n",
      "Epoch 76/110\n",
      "398/398 [==============================] - 0s 90us/sample - loss: 0.1074 - accuracy: 0.9698 - val_loss: 0.1203 - val_accuracy: 0.9766\n",
      "Epoch 77/110\n",
      "398/398 [==============================] - 0s 77us/sample - loss: 0.1066 - accuracy: 0.9698 - val_loss: 0.1195 - val_accuracy: 0.9766\n",
      "Epoch 78/110\n",
      "398/398 [==============================] - 0s 70us/sample - loss: 0.1059 - accuracy: 0.9698 - val_loss: 0.1188 - val_accuracy: 0.9766\n",
      "Epoch 79/110\n",
      "398/398 [==============================] - 0s 75us/sample - loss: 0.1052 - accuracy: 0.9698 - val_loss: 0.1180 - val_accuracy: 0.9766\n",
      "Epoch 80/110\n",
      "398/398 [==============================] - 0s 75us/sample - loss: 0.1045 - accuracy: 0.9698 - val_loss: 0.1173 - val_accuracy: 0.9766\n",
      "Epoch 81/110\n",
      "398/398 [==============================] - 0s 65us/sample - loss: 0.1039 - accuracy: 0.9698 - val_loss: 0.1166 - val_accuracy: 0.9766\n",
      "Epoch 82/110\n",
      "398/398 [==============================] - 0s 73us/sample - loss: 0.1033 - accuracy: 0.9698 - val_loss: 0.1159 - val_accuracy: 0.9766\n",
      "Epoch 83/110\n",
      "398/398 [==============================] - 0s 78us/sample - loss: 0.1026 - accuracy: 0.9698 - val_loss: 0.1152 - val_accuracy: 0.9766\n",
      "Epoch 84/110\n",
      "398/398 [==============================] - 0s 85us/sample - loss: 0.1020 - accuracy: 0.9698 - val_loss: 0.1145 - val_accuracy: 0.9766\n",
      "Epoch 85/110\n",
      "398/398 [==============================] - 0s 80us/sample - loss: 0.1015 - accuracy: 0.9698 - val_loss: 0.1138 - val_accuracy: 0.9766\n",
      "Epoch 86/110\n",
      "398/398 [==============================] - 0s 80us/sample - loss: 0.1008 - accuracy: 0.9698 - val_loss: 0.1132 - val_accuracy: 0.9766\n",
      "Epoch 87/110\n",
      "398/398 [==============================] - 0s 85us/sample - loss: 0.1002 - accuracy: 0.9698 - val_loss: 0.1125 - val_accuracy: 0.9766\n",
      "Epoch 88/110\n",
      "398/398 [==============================] - 0s 73us/sample - loss: 0.0996 - accuracy: 0.9698 - val_loss: 0.1118 - val_accuracy: 0.9825\n",
      "Epoch 89/110\n",
      "398/398 [==============================] - 0s 75us/sample - loss: 0.0990 - accuracy: 0.9698 - val_loss: 0.1113 - val_accuracy: 0.9766\n",
      "Epoch 90/110\n",
      "398/398 [==============================] - 0s 73us/sample - loss: 0.0985 - accuracy: 0.9698 - val_loss: 0.1107 - val_accuracy: 0.9766\n",
      "Epoch 91/110\n",
      "398/398 [==============================] - 0s 65us/sample - loss: 0.0980 - accuracy: 0.9698 - val_loss: 0.1102 - val_accuracy: 0.9766\n",
      "Epoch 92/110\n",
      "398/398 [==============================] - 0s 73us/sample - loss: 0.0974 - accuracy: 0.9698 - val_loss: 0.1096 - val_accuracy: 0.9825\n",
      "Epoch 93/110\n",
      "398/398 [==============================] - 0s 75us/sample - loss: 0.0969 - accuracy: 0.9698 - val_loss: 0.1090 - val_accuracy: 0.9825\n",
      "Epoch 94/110\n",
      "398/398 [==============================] - 0s 75us/sample - loss: 0.0964 - accuracy: 0.9698 - val_loss: 0.1084 - val_accuracy: 0.9825\n",
      "Epoch 95/110\n",
      "398/398 [==============================] - 0s 65us/sample - loss: 0.0959 - accuracy: 0.9698 - val_loss: 0.1079 - val_accuracy: 0.9825\n",
      "Epoch 96/110\n",
      "398/398 [==============================] - 0s 68us/sample - loss: 0.0954 - accuracy: 0.9698 - val_loss: 0.1073 - val_accuracy: 0.9825\n",
      "Epoch 97/110\n",
      "398/398 [==============================] - 0s 81us/sample - loss: 0.0949 - accuracy: 0.9698 - val_loss: 0.1068 - val_accuracy: 0.9825\n",
      "Epoch 98/110\n",
      "398/398 [==============================] - 0s 85us/sample - loss: 0.0944 - accuracy: 0.9698 - val_loss: 0.1063 - val_accuracy: 0.9825\n",
      "Epoch 99/110\n",
      "398/398 [==============================] - 0s 78us/sample - loss: 0.0940 - accuracy: 0.9698 - val_loss: 0.1058 - val_accuracy: 0.9825\n",
      "Epoch 100/110\n",
      "398/398 [==============================] - 0s 91us/sample - loss: 0.0935 - accuracy: 0.9698 - val_loss: 0.1052 - val_accuracy: 0.9825\n",
      "Epoch 101/110\n",
      "398/398 [==============================] - 0s 88us/sample - loss: 0.0930 - accuracy: 0.9724 - val_loss: 0.1047 - val_accuracy: 0.9825\n",
      "Epoch 102/110\n",
      "398/398 [==============================] - 0s 83us/sample - loss: 0.0926 - accuracy: 0.9724 - val_loss: 0.1043 - val_accuracy: 0.9825\n",
      "Epoch 103/110\n",
      "398/398 [==============================] - 0s 85us/sample - loss: 0.0921 - accuracy: 0.9724 - val_loss: 0.1038 - val_accuracy: 0.9825\n",
      "Epoch 104/110\n",
      "398/398 [==============================] - 0s 88us/sample - loss: 0.0917 - accuracy: 0.9724 - val_loss: 0.1033 - val_accuracy: 0.9825\n",
      "Epoch 105/110\n",
      "398/398 [==============================] - 0s 90us/sample - loss: 0.0913 - accuracy: 0.9749 - val_loss: 0.1029 - val_accuracy: 0.9825\n",
      "Epoch 106/110\n",
      "398/398 [==============================] - 0s 108us/sample - loss: 0.0909 - accuracy: 0.9749 - val_loss: 0.1024 - val_accuracy: 0.9825\n",
      "Epoch 107/110\n",
      "398/398 [==============================] - 0s 90us/sample - loss: 0.0904 - accuracy: 0.9749 - val_loss: 0.1020 - val_accuracy: 0.9825\n",
      "Epoch 108/110\n",
      "398/398 [==============================] - 0s 63us/sample - loss: 0.0901 - accuracy: 0.9749 - val_loss: 0.1016 - val_accuracy: 0.9825\n",
      "Epoch 109/110\n",
      "398/398 [==============================] - 0s 75us/sample - loss: 0.0897 - accuracy: 0.9749 - val_loss: 0.1011 - val_accuracy: 0.9825\n",
      "Epoch 110/110\n",
      "398/398 [==============================] - 0s 73us/sample - loss: 0.0893 - accuracy: 0.9749 - val_loss: 0.1007 - val_accuracy: 0.9825\n"
     ]
    }
   ],
   "source": [
    "result = my_model.fit(X_train, y_train, validation_data=(X_test, y_test), epochs=110)\n",
    "#doing training and also validating..fit is just gradient descent over and over"
   ]
  },
  {
   "cell_type": "markdown",
   "metadata": {},
   "source": [
    "*I can see that my loss function began to converge since I reach iteration number 91.*"
   ]
  },
  {
   "cell_type": "code",
   "execution_count": 19,
   "metadata": {
    "scrolled": true
   },
   "outputs": [
    {
     "name": "stdout",
     "output_type": "stream",
     "text": [
      "398/398 [==============================] - 0s 35us/sample - loss: 0.0890 - accuracy: 0.9749\n",
      "171/171 [==============================] - 0s 41us/sample - loss: 0.1007 - accuracy: 0.9825\n"
     ]
    },
    {
     "data": {
      "text/plain": [
       "[0.10071467468787355, 0.98245615]"
      ]
     },
     "execution_count": 19,
     "metadata": {},
     "output_type": "execute_result"
    }
   ],
   "source": [
    "my_model.evaluate(X_train, y_train)\n",
    "my_model.evaluate(X_test, y_test)"
   ]
  },
  {
   "cell_type": "markdown",
   "metadata": {},
   "source": [
    "*My total results for train and test. Now for plotting.*"
   ]
  },
  {
   "cell_type": "code",
   "execution_count": 57,
   "metadata": {
    "scrolled": false
   },
   "outputs": [
    {
     "data": {
      "text/plain": [
       "(<matplotlib.legend.Legend at 0x165cc612cc8>,\n",
       " <matplotlib.legend.Legend at 0x165cc622808>)"
      ]
     },
     "execution_count": 57,
     "metadata": {},
     "output_type": "execute_result"
    },
    {
     "data": {
      "image/png": "[encoded data removed]",
      "text/plain": [
       "<Figure size 1120x400 with 2 Axes>"
      ]
     },
     "metadata": {},
     "output_type": "display_data"
    }
   ],
   "source": [
    "plt.style.use('Solarize_Light2') #just trying new look..\n",
    "fig, axs = plt.subplots(ncols=2, nrows=1, figsize=(14,5))\n",
    "axs[0].plot(result.history['loss'], label='cost_function')\n",
    "axs[0].plot(result.history['val_loss'], label='val_cost_function')\n",
    "axs[1].plot(result.history['accuracy'], label='accuracy')\n",
    "axs[1].plot(result.history['val_accuracy'], label='val_accuracy')\n",
    "axs[0].legend(), axs[1].legend()"
   ]
  },
  {
   "cell_type": "markdown",
   "metadata": {},
   "source": [
    "*Here I am plotting cost function and accuracy. They are going in opposite direction, which make sense.*"
   ]
  },
  {
   "cell_type": "markdown",
   "metadata": {},
   "source": [
    "<div class=\"alert alert-block alert-warning\"><b>Prediction</b></div>"
   ]
  },
  {
   "cell_type": "code",
   "execution_count": 69,
   "metadata": {},
   "outputs": [],
   "source": [
    "predicton = my_model.predict(X_test)"
   ]
  },
  {
   "cell_type": "code",
   "execution_count": 70,
   "metadata": {},
   "outputs": [
    {
     "name": "stdout",
     "output_type": "stream",
     "text": [
      "[[7.4891682e-07]\n",
      " [9.9893945e-01]\n",
      " [1.2785276e-10]\n",
      " [9.9530435e-01]\n",
      " [9.9527419e-01]\n",
      " [9.7641015e-01]\n",
      " [1.4687916e-03]\n",
      " [9.8247129e-01]\n",
      " [9.6705532e-01]\n",
      " [9.5802951e-01]\n",
      " [9.9965394e-01]\n",
      " [9.9363303e-01]\n",
      " [5.6452405e-02]\n",
      " [9.7876555e-01]\n",
      " [9.7708082e-01]]\n"
     ]
    }
   ],
   "source": [
    "print(predicton[:15])"
   ]
  },
  {
   "cell_type": "markdown",
   "metadata": {},
   "source": [
    "*Our activation function is sigmoid, meaning that if value is over 0.5 it will be evaluated as 1 - True, and vice versa to False.*"
   ]
  },
  {
   "cell_type": "markdown",
   "metadata": {},
   "source": [
    "<div class=\"alert alert-block alert-danger\"><b>BeAware:</b>In this case I have to round my values to get an actual predction values</div>"
   ]
  },
  {
   "cell_type": "code",
   "execution_count": 80,
   "metadata": {},
   "outputs": [],
   "source": [
    "final_prediction = np.round(predicton)"
   ]
  },
  {
   "cell_type": "code",
   "execution_count": 82,
   "metadata": {
    "scrolled": true
   },
   "outputs": [
    {
     "data": {
      "text/plain": [
       "(array([[0.],\n",
       "        [1.],\n",
       "        [0.],\n",
       "        [1.]], dtype=float32),\n",
       " (171, 1))"
      ]
     },
     "execution_count": 82,
     "metadata": {},
     "output_type": "execute_result"
    }
   ],
   "source": [
    "final_prediction[:4], final_prediction.shape"
   ]
  },
  {
   "cell_type": "markdown",
   "metadata": {},
   "source": [
    "*I will flatten my results, for better looking.*"
   ]
  },
  {
   "cell_type": "code",
   "execution_count": 84,
   "metadata": {},
   "outputs": [],
   "source": [
    "final_prediction = final_prediction.flatten()"
   ]
  },
  {
   "cell_type": "code",
   "execution_count": 85,
   "metadata": {},
   "outputs": [
    {
     "data": {
      "text/plain": [
       "(171,)"
      ]
     },
     "execution_count": 85,
     "metadata": {},
     "output_type": "execute_result"
    }
   ],
   "source": [
    "final_prediction.shape"
   ]
  },
  {
   "cell_type": "code",
   "execution_count": 86,
   "metadata": {
    "scrolled": true
   },
   "outputs": [
    {
     "data": {
      "text/plain": [
       "array([0., 1., 0., 1., 1., 1., 0., 1., 1., 1., 1., 1., 0., 1., 1., 1., 0.,\n",
       "       1., 0., 1., 0., 1., 1., 1., 1., 1., 1., 1., 1., 1., 0., 1., 1., 0.,\n",
       "       0., 1., 1., 1., 1., 1., 0., 0., 0., 0., 1., 1., 0., 0., 0., 0., 1.,\n",
       "       1., 1., 0., 0., 1., 1., 1., 0., 1., 1., 0., 1., 1., 1., 0., 0., 0.,\n",
       "       0., 0., 1., 1., 0., 0., 1., 1., 1., 1., 1., 1., 1., 0., 1., 1., 1.,\n",
       "       0., 1., 0., 1., 1., 0., 1., 0., 1., 0., 0., 1., 1., 1., 1., 0., 1.,\n",
       "       0., 1., 1., 1., 1., 1., 0., 1., 1., 1., 1., 0., 0., 1., 1., 0., 1.,\n",
       "       1., 1., 0., 1., 1., 1., 1., 0., 0., 1., 0., 1., 0., 0., 1., 1., 0.,\n",
       "       0., 1., 1., 0., 1., 1., 0., 1., 0., 1., 1., 1., 1., 1., 1., 1., 1.,\n",
       "       1., 1., 1., 0., 0., 1., 0., 0., 0., 1., 1., 1., 1., 0., 1., 1., 1.,\n",
       "       1.], dtype=float32)"
      ]
     },
     "execution_count": 86,
     "metadata": {},
     "output_type": "execute_result"
    }
   ],
   "source": [
    "final_prediction"
   ]
  },
  {
   "cell_type": "code",
   "execution_count": 108,
   "metadata": {},
   "outputs": [
    {
     "name": "stdout",
     "output_type": "stream",
     "text": [
      "Accuracy of prediction is: 0.9824561403508771\n"
     ]
    }
   ],
   "source": [
    "print(\"Accuracy of prediction is:\", np.mean(final_prediction == y_test))\n",
    "#really cool usage of np.mean if predicted correctly we get an 1 and if not we get zero\n",
    "#for example:\n",
    "# values    1 1 1 1 1 0 0 0 0 0\n",
    "#prediction 1 0 1 0 0 1 1 0 0 0\n",
    "#I can see that I gussed correctly 5 values from 10 ..so I have got 5/10\n",
    "#because 1/1+1/0+1/1 ....(k/n)/10.."
   ]
  },
  {
   "cell_type": "markdown",
   "metadata": {},
   "source": [
    "*Saving models.*"
   ]
  },
  {
   "cell_type": "code",
   "execution_count": 109,
   "metadata": {},
   "outputs": [],
   "source": [
    "my_model.save(\"Simple_Classification_TF.h5\")"
   ]
  },
  {
   "cell_type": "code",
   "execution_count": 111,
   "metadata": {},
   "outputs": [],
   "source": [
    "model_loaded = tf.keras.models.load_model('Simple_Classification_TF.h5')"
   ]
  },
  {
   "cell_type": "code",
   "execution_count": 112,
   "metadata": {},
   "outputs": [
    {
     "data": {
      "text/plain": [
       "[<tensorflow.python.keras.layers.core.Dense at 0x165d3cfa6c8>]"
      ]
     },
     "execution_count": 112,
     "metadata": {},
     "output_type": "execute_result"
    }
   ],
   "source": [
    "model_loaded.layers"
   ]
  },
  {
   "cell_type": "markdown",
   "metadata": {},
   "source": [
    "*And that is all for simple classification in TensorFlow. It is very straightforward, very similar to Scikit and PySpark.* "
   ]
  },
  {
   "cell_type": "markdown",
   "metadata": {},
   "source": [
    "## Simple regression with TernsorFlow"
   ]
  },
  {
   "cell_type": "markdown",
   "metadata": {},
   "source": [
    "<div class=\"alert alert-block alert-warning\"><b>Data</b></div>"
   ]
  },
  {
   "cell_type": "code",
   "execution_count": 224,
   "metadata": {},
   "outputs": [],
   "source": [
    "data_year = pd.read_csv(\"data_year.csv\", header=None).values\n",
    "#.values make my data an numpy.ndarray "
   ]
  },
  {
   "cell_type": "code",
   "execution_count": 225,
   "metadata": {},
   "outputs": [
    {
     "data": {
      "text/plain": [
       "numpy.ndarray"
      ]
     },
     "execution_count": 225,
     "metadata": {},
     "output_type": "execute_result"
    }
   ],
   "source": [
    "type(data_year)"
   ]
  },
  {
   "cell_type": "code",
   "execution_count": 226,
   "metadata": {},
   "outputs": [],
   "source": [
    "X = data_year[:,0].reshape(-1,1) #I split features and reshape to only one column data\n",
    "Y = data_year[:,1].reshape(-1,1) #the same with labels"
   ]
  },
  {
   "cell_type": "code",
   "execution_count": 142,
   "metadata": {
    "scrolled": true
   },
   "outputs": [
    {
     "data": {
      "text/plain": [
       "(array([[1971],\n",
       "        [1972],\n",
       "        [1973],\n",
       "        [1973],\n",
       "        [1974]], dtype=int64),\n",
       " array([[2300],\n",
       "        [3500],\n",
       "        [2500],\n",
       "        [2500],\n",
       "        [4100]], dtype=int64))"
      ]
     },
     "execution_count": 142,
     "metadata": {},
     "output_type": "execute_result"
    }
   ],
   "source": [
    "X[:5], Y[:5]"
   ]
  },
  {
   "cell_type": "code",
   "execution_count": 212,
   "metadata": {
    "scrolled": false
   },
   "outputs": [
    {
     "data": {
      "text/plain": [
       "<matplotlib.collections.PathCollection at 0x165d5c12988>"
      ]
     },
     "execution_count": 212,
     "metadata": {},
     "output_type": "execute_result"
    },
    {
     "data": {
      "image/png": "[encoded data removed]",
      "text/plain": [
       "<Figure size 640x480 with 1 Axes>"
      ]
     },
     "metadata": {},
     "output_type": "display_data"
    }
   ],
   "source": [
    "plt.scatter(X, Y)"
   ]
  },
  {
   "cell_type": "markdown",
   "metadata": {},
   "source": [
    "*Our data are non linear, to be more precise they are clearly exponential. The easiest way how to make data easier to work with is to take a log from them. This is called \"Linearization\" of exponential funcion.*"
   ]
  },
  {
   "cell_type": "markdown",
   "metadata": {},
   "source": [
    "<div class=\"alert alert-block alert-info\"><b>Tip:</b> explenation of log values and linearization</div>"
   ]
  },
  {
   "cell_type": "code",
   "execution_count": 171,
   "metadata": {},
   "outputs": [],
   "source": [
    "import math"
   ]
  },
  {
   "cell_type": "code",
   "execution_count": 172,
   "metadata": {},
   "outputs": [],
   "source": [
    "math_education = [math.exp(1), math.exp(2), math.exp(3), math.exp(4), math.exp(5)]"
   ]
  },
  {
   "cell_type": "code",
   "execution_count": 173,
   "metadata": {},
   "outputs": [
    {
     "data": {
      "text/plain": [
       "[2.718281828459045,\n",
       " 7.38905609893065,\n",
       " 20.085536923187668,\n",
       " 54.598150033144236,\n",
       " 148.4131591025766]"
      ]
     },
     "execution_count": 173,
     "metadata": {},
     "output_type": "execute_result"
    }
   ],
   "source": [
    "math_education"
   ]
  },
  {
   "cell_type": "markdown",
   "metadata": {},
   "source": [
    "*Here I am just taking an Euler's number to power of 1,2,3,4,5. Why e? Because it is base of log so it will be the easiest to show.*"
   ]
  },
  {
   "cell_type": "code",
   "execution_count": 179,
   "metadata": {},
   "outputs": [],
   "source": [
    "euler_log = np.log(math_education) #taking a log from my values above\n",
    "#in other words I am asking 2.718 is power to what number so I get 2.718..\n",
    "#what number do I need to multiply 2,71828 so I will get 7,389?"
   ]
  },
  {
   "cell_type": "code",
   "execution_count": 175,
   "metadata": {},
   "outputs": [
    {
     "data": {
      "text/plain": [
       "array([1., 2., 3., 4., 5.])"
      ]
     },
     "execution_count": 175,
     "metadata": {},
     "output_type": "execute_result"
    }
   ],
   "source": [
    "euler_log "
   ]
  },
  {
   "cell_type": "markdown",
   "metadata": {},
   "source": [
    "*So if something is exponential, then the values are power of \"something\" and these are incrementally increasing and therefore we will get a linear function if we take log values from exponential data.* ***Back to our data:***"
   ]
  },
  {
   "cell_type": "code",
   "execution_count": 258,
   "metadata": {},
   "outputs": [],
   "source": [
    "Y = np.log(Y)\n",
    "X = X - X.mean() #just a simple scaling of our years "
   ]
  },
  {
   "cell_type": "code",
   "execution_count": 197,
   "metadata": {},
   "outputs": [
    {
     "data": {
      "text/plain": [
       "<matplotlib.collections.PathCollection at 0x165d5af0d88>"
      ]
     },
     "execution_count": 197,
     "metadata": {},
     "output_type": "execute_result"
    },
    {
     "data": {
      "image/png": "[encoded data removed]",
      "text/plain": [
       "<Figure size 640x480 with 1 Axes>"
      ]
     },
     "metadata": {},
     "output_type": "display_data"
    }
   ],
   "source": [
    "plt.scatter(X, Y)"
   ]
  },
  {
   "cell_type": "markdown",
   "metadata": {},
   "source": [
    "*Taking a log values from our Y values works perfectly.*"
   ]
  },
  {
   "cell_type": "markdown",
   "metadata": {},
   "source": [
    "<div class=\"alert alert-block alert-warning\"><b>Testing and evaluating</b></div>"
   ]
  },
  {
   "cell_type": "markdown",
   "metadata": {},
   "source": [
    "*Data are ready to go, I will proceed with model.*"
   ]
  },
  {
   "cell_type": "code",
   "execution_count": 290,
   "metadata": {},
   "outputs": [],
   "source": [
    "regre_model = tf.keras.models.Sequential([\n",
    "    tf.keras.layers.Input(shape=(1,)),#just specify shape of my data\n",
    "    tf.keras.layers.Dense(1)\n",
    "])\n",
    "#in regression I am not specifying an activation function"
   ]
  },
  {
   "cell_type": "code",
   "execution_count": 291,
   "metadata": {},
   "outputs": [],
   "source": [
    "regre_model.compile(optimizer=tf.keras.optimizers.SGD(0.001, 0.9), loss=\"mse\")\n",
    "#my optimizer is SGD - which is Stochastic gradient descent, faster than classic GD\n",
    "#but probably not so precise, if is not lucky enough? :)"
   ]
  },
  {
   "cell_type": "code",
   "execution_count": 292,
   "metadata": {},
   "outputs": [],
   "source": [
    "def schedule(epoch, lr):\n",
    "    if epoch >= 50:\n",
    "        return 0.0001\n",
    "    return 0.001\n",
    "#I guess this is some basic change of learning rate.."
   ]
  },
  {
   "cell_type": "code",
   "execution_count": 293,
   "metadata": {},
   "outputs": [],
   "source": [
    "scheduler = tf.keras.callbacks.LearningRateScheduler(schedule)\n",
    "#Now I initialize my scheduler"
   ]
  },
  {
   "cell_type": "code",
   "execution_count": 294,
   "metadata": {
    "scrolled": false
   },
   "outputs": [
    {
     "name": "stdout",
     "output_type": "stream",
     "text": [
      "Train on 162 samples\n",
      "Epoch 1/80\n",
      "162/162 [==============================] - 0s 1ms/sample - loss: 8.3963\n",
      "Epoch 2/80\n",
      "162/162 [==============================] - 0s 56us/sample - loss: 7.4440\n",
      "Epoch 3/80\n",
      "162/162 [==============================] - 0s 86us/sample - loss: 6.1713\n",
      "Epoch 4/80\n",
      "162/162 [==============================] - 0s 74us/sample - loss: 5.9661\n",
      "Epoch 5/80\n",
      "162/162 [==============================] - 0s 68us/sample - loss: 4.8327\n",
      "Epoch 6/80\n",
      "162/162 [==============================] - 0s 55us/sample - loss: 3.1836\n",
      "Epoch 7/80\n",
      "162/162 [==============================] - 0s 55us/sample - loss: 2.2032\n",
      "Epoch 8/80\n",
      "162/162 [==============================] - 0s 68us/sample - loss: 1.9969\n",
      "Epoch 9/80\n",
      "162/162 [==============================] - 0s 68us/sample - loss: 1.3367\n",
      "Epoch 10/80\n",
      "162/162 [==============================] - 0s 62us/sample - loss: 0.9443\n",
      "Epoch 11/80\n",
      "162/162 [==============================] - 0s 55us/sample - loss: 0.7276\n",
      "Epoch 12/80\n",
      "162/162 [==============================] - 0s 62us/sample - loss: 0.5652\n",
      "Epoch 13/80\n",
      "162/162 [==============================] - 0s 80us/sample - loss: 0.4176\n",
      "Epoch 14/80\n",
      "162/162 [==============================] - 0s 74us/sample - loss: 0.3125\n",
      "Epoch 15/80\n",
      "162/162 [==============================] - 0s 74us/sample - loss: 0.2057\n",
      "Epoch 16/80\n",
      "162/162 [==============================] - 0s 68us/sample - loss: 0.1601\n",
      "Epoch 17/80\n",
      "162/162 [==============================] - 0s 68us/sample - loss: 0.1318\n",
      "Epoch 18/80\n",
      "162/162 [==============================] - 0s 80us/sample - loss: 0.1138\n",
      "Epoch 19/80\n",
      "162/162 [==============================] - 0s 105us/sample - loss: 0.0785\n",
      "Epoch 20/80\n",
      "162/162 [==============================] - 0s 68us/sample - loss: 0.0554\n",
      "Epoch 21/80\n",
      "162/162 [==============================] - 0s 80us/sample - loss: 0.0393\n",
      "Epoch 22/80\n",
      "162/162 [==============================] - 0s 86us/sample - loss: 0.0320\n",
      "Epoch 23/80\n",
      "162/162 [==============================] - 0s 80us/sample - loss: 0.0392\n",
      "Epoch 24/80\n",
      "162/162 [==============================] - 0s 80us/sample - loss: 0.0241\n",
      "Epoch 25/80\n",
      "162/162 [==============================] - 0s 68us/sample - loss: 0.0147\n",
      "Epoch 26/80\n",
      "162/162 [==============================] - 0s 62us/sample - loss: 0.0115\n",
      "Epoch 27/80\n",
      "162/162 [==============================] - 0s 49us/sample - loss: 0.0086\n",
      "Epoch 28/80\n",
      "162/162 [==============================] - 0s 80us/sample - loss: 0.0104\n",
      "Epoch 29/80\n",
      "162/162 [==============================] - 0s 74us/sample - loss: 0.0097\n",
      "Epoch 30/80\n",
      "162/162 [==============================] - 0s 68us/sample - loss: 0.0083\n",
      "Epoch 31/80\n",
      "162/162 [==============================] - 0s 62us/sample - loss: 0.0092\n",
      "Epoch 32/80\n",
      "162/162 [==============================] - 0s 62us/sample - loss: 0.0060\n",
      "Epoch 33/80\n",
      "162/162 [==============================] - 0s 68us/sample - loss: 0.0076\n",
      "Epoch 34/80\n",
      "162/162 [==============================] - 0s 68us/sample - loss: 0.0070\n",
      "Epoch 35/80\n",
      "162/162 [==============================] - 0s 80us/sample - loss: 0.0062\n",
      "Epoch 36/80\n",
      "162/162 [==============================] - 0s 148us/sample - loss: 0.0058\n",
      "Epoch 37/80\n",
      "162/162 [==============================] - 0s 74us/sample - loss: 0.0055\n",
      "Epoch 38/80\n",
      "162/162 [==============================] - 0s 55us/sample - loss: 0.0067\n",
      "Epoch 39/80\n",
      "162/162 [==============================] - 0s 68us/sample - loss: 0.0078\n",
      "Epoch 40/80\n",
      "162/162 [==============================] - 0s 62us/sample - loss: 0.0096\n",
      "Epoch 41/80\n",
      "162/162 [==============================] - 0s 68us/sample - loss: 0.0087\n",
      "Epoch 42/80\n",
      "162/162 [==============================] - 0s 74us/sample - loss: 0.0126\n",
      "Epoch 43/80\n",
      "162/162 [==============================] - 0s 74us/sample - loss: 0.0060\n",
      "Epoch 44/80\n",
      "162/162 [==============================] - 0s 68us/sample - loss: 0.0064\n",
      "Epoch 45/80\n",
      "162/162 [==============================] - 0s 62us/sample - loss: 0.0054\n",
      "Epoch 46/80\n",
      "162/162 [==============================] - 0s 49us/sample - loss: 0.0058\n",
      "Epoch 47/80\n",
      "162/162 [==============================] - 0s 74us/sample - loss: 0.0056\n",
      "Epoch 48/80\n",
      "162/162 [==============================] - 0s 80us/sample - loss: 0.0058\n",
      "Epoch 49/80\n",
      "162/162 [==============================] - 0s 80us/sample - loss: 0.0057\n",
      "Epoch 50/80\n",
      "162/162 [==============================] - 0s 74us/sample - loss: 0.0068\n",
      "Epoch 51/80\n",
      "162/162 [==============================] - 0s 74us/sample - loss: 0.0138\n",
      "Epoch 52/80\n",
      "162/162 [==============================] - 0s 68us/sample - loss: 0.0104\n",
      "Epoch 53/80\n",
      "162/162 [==============================] - 0s 80us/sample - loss: 0.0054\n",
      "Epoch 54/80\n",
      "162/162 [==============================] - 0s 92us/sample - loss: 0.0066\n",
      "Epoch 55/80\n",
      "162/162 [==============================] - 0s 105us/sample - loss: 0.0056\n",
      "Epoch 56/80\n",
      "162/162 [==============================] - 0s 148us/sample - loss: 0.0054\n",
      "Epoch 57/80\n",
      "162/162 [==============================] - 0s 74us/sample - loss: 0.0053\n",
      "Epoch 58/80\n",
      "162/162 [==============================] - 0s 92us/sample - loss: 0.0055\n",
      "Epoch 59/80\n",
      "162/162 [==============================] - 0s 86us/sample - loss: 0.0061\n",
      "Epoch 60/80\n",
      "162/162 [==============================] - 0s 86us/sample - loss: 0.0055\n",
      "Epoch 61/80\n",
      "162/162 [==============================] - 0s 68us/sample - loss: 0.0053\n",
      "Epoch 62/80\n",
      "162/162 [==============================] - 0s 74us/sample - loss: 0.0054\n",
      "Epoch 63/80\n",
      "162/162 [==============================] - 0s 74us/sample - loss: 0.0052\n",
      "Epoch 64/80\n",
      "162/162 [==============================] - 0s 74us/sample - loss: 0.0054\n",
      "Epoch 65/80\n",
      "162/162 [==============================] - 0s 62us/sample - loss: 0.0053\n",
      "Epoch 66/80\n",
      "162/162 [==============================] - 0s 55us/sample - loss: 0.0053\n",
      "Epoch 67/80\n",
      "162/162 [==============================] - 0s 68us/sample - loss: 0.0053\n",
      "Epoch 68/80\n",
      "162/162 [==============================] - 0s 74us/sample - loss: 0.0053\n",
      "Epoch 69/80\n",
      "162/162 [==============================] - 0s 80us/sample - loss: 0.0053\n",
      "Epoch 70/80\n",
      "162/162 [==============================] - 0s 62us/sample - loss: 0.0053\n",
      "Epoch 71/80\n",
      "162/162 [==============================] - 0s 86us/sample - loss: 0.0054\n",
      "Epoch 72/80\n",
      "162/162 [==============================] - 0s 74us/sample - loss: 0.0053\n",
      "Epoch 73/80\n",
      "162/162 [==============================] - 0s 68us/sample - loss: 0.0053\n",
      "Epoch 74/80\n",
      "162/162 [==============================] - 0s 68us/sample - loss: 0.0053\n",
      "Epoch 75/80\n",
      "162/162 [==============================] - 0s 55us/sample - loss: 0.0053\n",
      "Epoch 76/80\n",
      "162/162 [==============================] - 0s 55us/sample - loss: 0.0054\n",
      "Epoch 77/80\n",
      "162/162 [==============================] - 0s 74us/sample - loss: 0.0054\n",
      "Epoch 78/80\n",
      "162/162 [==============================] - 0s 68us/sample - loss: 0.0053\n",
      "Epoch 79/80\n",
      "162/162 [==============================] - 0s 74us/sample - loss: 0.0055\n",
      "Epoch 80/80\n",
      "162/162 [==============================] - 0s 62us/sample - loss: 0.0054\n"
     ]
    }
   ],
   "source": [
    "regre_result = regre_model.fit(X,Y, epochs=80, callbacks=[scheduler])\n",
    "#I am learning learning rate after 50 epochs - it is mainly because of\n",
    "#trying to avoid of over jumping of convergence point\n",
    "#I am using only 80 iteration so the result migh not be best - it is not a point in this case"
   ]
  },
  {
   "cell_type": "markdown",
   "metadata": {},
   "source": [
    "<div class=\"alert alert-block alert-info\"><b>Note:</b> cost function is not always decreasing,  because it is stochastic gradient descent so it can randomly jump to a higher point</div>"
   ]
  },
  {
   "cell_type": "code",
   "execution_count": 295,
   "metadata": {
    "scrolled": false
   },
   "outputs": [
    {
     "data": {
      "text/plain": [
       "[<matplotlib.lines.Line2D at 0x165d6a9fe48>]"
      ]
     },
     "execution_count": 295,
     "metadata": {},
     "output_type": "execute_result"
    },
    {
     "data": {
      "image/png": "[encoded data removed]",
      "text/plain": [
       "<Figure size 640x480 with 1 Axes>"
      ]
     },
     "metadata": {},
     "output_type": "display_data"
    }
   ],
   "source": [
    "plt.plot(regre_result.history['loss'], label='cost')"
   ]
  },
  {
   "cell_type": "markdown",
   "metadata": {},
   "source": [
    "*Lets see some weight of our model:*"
   ]
  },
  {
   "cell_type": "code",
   "execution_count": 302,
   "metadata": {},
   "outputs": [
    {
     "data": {
      "text/plain": [
       "[array([[0.02247659]], dtype=float32), array([2.831428], dtype=float32)]"
      ]
     },
     "execution_count": 302,
     "metadata": {},
     "output_type": "execute_result"
    }
   ],
   "source": [
    "regre_model.layers\n",
    "regre_model.layers[0].get_weights()\n",
    "# array one is w and  array is b\n",
    "# w is 1x1 matrix and b is 1x vector"
   ]
  },
  {
   "cell_type": "code",
   "execution_count": 296,
   "metadata": {},
   "outputs": [],
   "source": [
    "prediction = regre_model.predict(X).flatten()"
   ]
  },
  {
   "cell_type": "code",
   "execution_count": 297,
   "metadata": {},
   "outputs": [
    {
     "data": {
      "text/plain": [
       "[<matplotlib.lines.Line2D at 0x165d7ce6d88>]"
      ]
     },
     "execution_count": 297,
     "metadata": {},
     "output_type": "execute_result"
    },
    {
     "data": {
      "image/png": "[encoded data removed]",
      "text/plain": [
       "<Figure size 640x480 with 1 Axes>"
      ]
     },
     "metadata": {},
     "output_type": "display_data"
    }
   ],
   "source": [
    "plt.scatter(X,Y)\n",
    "plt.plot(X, prediction)"
   ]
  },
  {
   "cell_type": "markdown",
   "metadata": {},
   "source": [
    "*I'm not interested in any other evaluation or calculation in this example. The main purpose is just basic guide for regression with TF.*"
   ]
  },
  {
   "cell_type": "markdown",
   "metadata": {},
   "source": [
    "<div class=\"alert alert-block alert-info\"><b>Tip:</b> Optimizers links</div>"
   ]
  },
  {
   "cell_type": "markdown",
   "metadata": {},
   "source": [
    "- SGD https://keras.io/api/optimizers/sgd/\n",
    "- RMSprop https://keras.io/api/optimizers/rmsprop/\n",
    "- Adam https://keras.io/api/optimizers/adam/\n",
    "- Adadelta https://keras.io/api/optimizers/adadelta/\n",
    "- Adagrad https://keras.io/api/optimizers/adagrad/\n",
    "- AdaMax https://keras.io/api/optimizers/adamax/\n",
    "- Nadam https://keras.io/api/optimizers/adamax/\n",
    "- Ftrl https://keras.io/api/optimizers/adamax/"
   ]
  },
  {
   "cell_type": "markdown",
   "metadata": {},
   "source": [
    "____________________________"
   ]
  },
  {
   "cell_type": "markdown",
   "metadata": {},
   "source": [
    "***The End***"
   ]
  }
 ],
 "metadata": {
  "kernelspec": {
   "display_name": "Python 3",
   "language": "python",
   "name": "python3"
  },
  "language_info": {
   "codemirror_mode": {
    "name": "ipython",
    "version": 3
   },
   "file_extension": ".py",
   "mimetype": "text/x-python",
   "name": "python",
   "nbconvert_exporter": "python",
   "pygments_lexer": "ipython3",
   "version": "3.7.8"
  }
 },
 "nbformat": 4,
 "nbformat_minor": 4
}
